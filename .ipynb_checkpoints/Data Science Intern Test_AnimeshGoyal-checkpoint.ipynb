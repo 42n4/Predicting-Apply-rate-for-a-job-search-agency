{
 "cells": [
  {
   "cell_type": "code",
   "execution_count": 294,
   "metadata": {},
   "outputs": [],
   "source": [
    "import numpy as np\n",
    "import pandas as pd\n",
    "import matplotlib.pyplot as plt\n",
    "%matplotlib inline\n",
    "import seaborn as sns\n",
    "import os\n",
    "import time\n",
    "\n",
    "from sklearn.metrics import confusion_matrix, f1_score, roc_auc_score, roc_curve, average_precision_score\n",
    "from sklearn.model_selection import train_test_split,cross_val_predict\n",
    "from sklearn.ensemble import RandomForestClassifier\n",
    "from sklearn.linear_model import LogisticRegression\n",
    "from sklearn.svm import SVC\n",
    "from sklearn.preprocessing import StandardScaler\n",
    "from sklearn import preprocessing \n",
    "from sklearn.manifold import TSNE\n",
    "from sklearn.preprocessing import Imputer\n",
    "\n",
    "from sklearn.linear_model import Lasso\n",
    "from sklearn.model_selection import ShuffleSplit\n",
    "from sklearn.metrics import r2_score, make_scorer, mean_squared_error\n",
    "from sklearn.model_selection import RandomizedSearchCV\n",
    "\n",
    "from xgboost import XGBClassifier\n",
    "\n",
    "import keras\n",
    "from keras.layers import Input, Dense\n",
    "from keras.models import Model, Sequential\n",
    "from keras import regularizers\n",
    "\n",
    "import warnings\n",
    "warnings.filterwarnings('ignore')"
   ]
  },
  {
   "cell_type": "code",
   "execution_count": 295,
   "metadata": {},
   "outputs": [],
   "source": [
    "df = pd.read_csv('Apply_Rate_2019.csv')"
   ]
  },
  {
   "cell_type": "markdown",
   "metadata": {},
   "source": [
    "## Objective: \n",
    "We have to find out how many users actually clicked on the \"Apply now\" symbol based on the different features that are given. \n",
    "\n",
    "We will first start with exploring the data and see if we can find out some important features that can help me predict the labels"
   ]
  },
  {
   "cell_type": "markdown",
   "metadata": {},
   "source": [
    "## Exploratory Data Analysis"
   ]
  },
  {
   "cell_type": "code",
   "execution_count": 296,
   "metadata": {},
   "outputs": [
    {
     "name": "stdout",
     "output_type": "stream",
     "text": [
      "There are 1200890 rows in the dataset\n",
      "There are 10 columns in the dataset\n"
     ]
    }
   ],
   "source": [
    "print('There are',df.shape[0],'rows in the dataset')\n",
    "print('There are',df.shape[1],'columns in the dataset')"
   ]
  },
  {
   "cell_type": "code",
   "execution_count": 297,
   "metadata": {},
   "outputs": [
    {
     "data": {
      "text/html": [
       "<div>\n",
       "<style scoped>\n",
       "    .dataframe tbody tr th:only-of-type {\n",
       "        vertical-align: middle;\n",
       "    }\n",
       "\n",
       "    .dataframe tbody tr th {\n",
       "        vertical-align: top;\n",
       "    }\n",
       "\n",
       "    .dataframe thead th {\n",
       "        text-align: right;\n",
       "    }\n",
       "</style>\n",
       "<table border=\"1\" class=\"dataframe\">\n",
       "  <thead>\n",
       "    <tr style=\"text-align: right;\">\n",
       "      <th></th>\n",
       "      <th>title_proximity_tfidf</th>\n",
       "      <th>description_proximity_tfidf</th>\n",
       "      <th>main_query_tfidf</th>\n",
       "      <th>query_jl_score</th>\n",
       "      <th>query_title_score</th>\n",
       "      <th>city_match</th>\n",
       "      <th>job_age_days</th>\n",
       "      <th>apply</th>\n",
       "      <th>search_date_pacific</th>\n",
       "      <th>class_id</th>\n",
       "    </tr>\n",
       "  </thead>\n",
       "  <tbody>\n",
       "    <tr>\n",
       "      <th>0</th>\n",
       "      <td>0.000000</td>\n",
       "      <td>0.000000</td>\n",
       "      <td>0.000000</td>\n",
       "      <td>0.004824</td>\n",
       "      <td>0.006628</td>\n",
       "      <td>0.0</td>\n",
       "      <td>5.0</td>\n",
       "      <td>0</td>\n",
       "      <td>2018-01-21</td>\n",
       "      <td>-7613806991329176388</td>\n",
       "    </tr>\n",
       "    <tr>\n",
       "      <th>1</th>\n",
       "      <td>11.874042</td>\n",
       "      <td>0.043637</td>\n",
       "      <td>2.527080</td>\n",
       "      <td>0.011935</td>\n",
       "      <td>0.011208</td>\n",
       "      <td>0.0</td>\n",
       "      <td>5.0</td>\n",
       "      <td>0</td>\n",
       "      <td>2018-01-21</td>\n",
       "      <td>-1361819269400927213</td>\n",
       "    </tr>\n",
       "    <tr>\n",
       "      <th>2</th>\n",
       "      <td>11.874042</td>\n",
       "      <td>0.043637</td>\n",
       "      <td>2.527080</td>\n",
       "      <td>0.011935</td>\n",
       "      <td>0.011208</td>\n",
       "      <td>0.0</td>\n",
       "      <td>5.0</td>\n",
       "      <td>1</td>\n",
       "      <td>2018-01-21</td>\n",
       "      <td>-1361819269400927213</td>\n",
       "    </tr>\n",
       "    <tr>\n",
       "      <th>3</th>\n",
       "      <td>0.000000</td>\n",
       "      <td>0.000000</td>\n",
       "      <td>3.695809</td>\n",
       "      <td>0.013046</td>\n",
       "      <td>0.033340</td>\n",
       "      <td>0.0</td>\n",
       "      <td>5.0</td>\n",
       "      <td>0</td>\n",
       "      <td>2018-01-23</td>\n",
       "      <td>-3623880078591607667</td>\n",
       "    </tr>\n",
       "    <tr>\n",
       "      <th>4</th>\n",
       "      <td>NaN</td>\n",
       "      <td>NaN</td>\n",
       "      <td>7.868900</td>\n",
       "      <td>0.008065</td>\n",
       "      <td>0.008772</td>\n",
       "      <td>0.0</td>\n",
       "      <td>7.0</td>\n",
       "      <td>0</td>\n",
       "      <td>2018-01-24</td>\n",
       "      <td>-7054510112423797411</td>\n",
       "    </tr>\n",
       "  </tbody>\n",
       "</table>\n",
       "</div>"
      ],
      "text/plain": [
       "   title_proximity_tfidf  description_proximity_tfidf  main_query_tfidf  \\\n",
       "0               0.000000                     0.000000          0.000000   \n",
       "1              11.874042                     0.043637          2.527080   \n",
       "2              11.874042                     0.043637          2.527080   \n",
       "3               0.000000                     0.000000          3.695809   \n",
       "4                    NaN                          NaN          7.868900   \n",
       "\n",
       "   query_jl_score  query_title_score  city_match  job_age_days  apply  \\\n",
       "0        0.004824           0.006628         0.0           5.0      0   \n",
       "1        0.011935           0.011208         0.0           5.0      0   \n",
       "2        0.011935           0.011208         0.0           5.0      1   \n",
       "3        0.013046           0.033340         0.0           5.0      0   \n",
       "4        0.008065           0.008772         0.0           7.0      0   \n",
       "\n",
       "  search_date_pacific             class_id  \n",
       "0          2018-01-21 -7613806991329176388  \n",
       "1          2018-01-21 -1361819269400927213  \n",
       "2          2018-01-21 -1361819269400927213  \n",
       "3          2018-01-23 -3623880078591607667  \n",
       "4          2018-01-24 -7054510112423797411  "
      ]
     },
     "execution_count": 297,
     "metadata": {},
     "output_type": "execute_result"
    }
   ],
   "source": [
    "# Lets check the values of dataset\n",
    "df.head()"
   ]
  },
  {
   "cell_type": "code",
   "execution_count": 298,
   "metadata": {},
   "outputs": [],
   "source": [
    "# As it is given to us that training has to be done on data from 01/21/2018-01/26/2018 \n",
    "# and testing on 01/27/2018, I will sort the data the data and split it into the required form\n",
    "\n",
    "df['search_date_pacific'] = pd.to_datetime(df['search_date_pacific'])\n",
    "df.sort_values(by = ['search_date_pacific'], inplace=True)\n",
    "train = df[df['search_date_pacific'] < '2018-01-27']\n",
    "test = df[df['search_date_pacific'] >= '2018-01-27']"
   ]
  },
  {
   "cell_type": "markdown",
   "metadata": {},
   "source": [
    "### For solving part a. lets drop the last two columns "
   ]
  },
  {
   "cell_type": "code",
   "execution_count": 299,
   "metadata": {},
   "outputs": [],
   "source": [
    "df.drop(['search_date_pacific','class_id'],axis=1,inplace=True)\n",
    "train.drop(['search_date_pacific','class_id'],axis=1,inplace=True)\n",
    "test.drop(['search_date_pacific','class_id'],axis=1,inplace=True)"
   ]
  },
  {
   "cell_type": "code",
   "execution_count": 300,
   "metadata": {},
   "outputs": [
    {
     "name": "stdout",
     "output_type": "stream",
     "text": [
      "Number of customers who didnt apply: 1092887\n",
      "Number of customers who applied: 108003\n",
      "Percentage of apply to non apply 10.119042989546587 %\n"
     ]
    },
    {
     "data": {
      "image/png": "[encoded data removed]",
      "text/plain": [
       "<Figure size 432x288 with 1 Axes>"
      ]
     },
     "metadata": {},
     "output_type": "display_data"
    }
   ],
   "source": [
    "# Lets check the distribution for classes who applied and did not apply\n",
    "\n",
    "count_classes = pd.value_counts(df['apply'], sort = True)\n",
    "count_classes.plot(kind = 'bar')\n",
    "\n",
    "plt.title(\"Apply Rate\")\n",
    "plt.xticks(range(2))\n",
    "plt.xlabel(\"Class\")\n",
    "plt.ylabel(\"Frequency\");\n",
    "\n",
    "print('Number of customers who didnt apply:',df['apply'].value_counts()[0])\n",
    "print('Number of customers who applied:',df['apply'].value_counts()[1])\n",
    "print('Percentage of apply to non apply',df['apply'].value_counts()[0]/df['apply'].value_counts()[1],'%')"
   ]
  },
  {
   "cell_type": "markdown",
   "metadata": {},
   "source": [
    "### Observation: \n",
    "\n",
    "The data is imbalanced and so we might have to use techniques like resmapling (undersampling or oversampling) or use metrics like AUC-ROC curve or AUPRC or SMOTE to handle imbalanced data. Lets explore further which will help us decide what technique should we use. Note: It is already given in the dataset that I have to use AUC as the metric. "
   ]
  },
  {
   "cell_type": "code",
   "execution_count": 301,
   "metadata": {},
   "outputs": [],
   "source": [
    "# Next we move onto checking null Values"
   ]
  },
  {
   "cell_type": "code",
   "execution_count": 302,
   "metadata": {},
   "outputs": [
    {
     "data": {
      "text/plain": [
       "title_proximity_tfidf          252571\n",
       "description_proximity_tfidf    252571\n",
       "main_query_tfidf                    0\n",
       "query_jl_score                      0\n",
       "query_title_score                   0\n",
       "city_match                     256555\n",
       "job_age_days                        0\n",
       "apply                               0\n",
       "dtype: int64"
      ]
     },
     "execution_count": 302,
     "metadata": {},
     "output_type": "execute_result"
    }
   ],
   "source": [
    "df.isnull().sum()"
   ]
  },
  {
   "cell_type": "markdown",
   "metadata": {},
   "source": [
    "### There are lot of missing values in 3 columns. Lets see how can we handle missing values for this data. There are 6 options with us\n",
    "a. Remove the rows with missing values: This is OK if this only causes the loss of a relatively small number of cases. \n",
    "\n",
    "b. Fill the missing values with column mean/ median/ mode\n",
    "\n",
    "c. Fill the missing values by using forward fill or backward fill\n",
    "\n",
    "d. Fill the missing values by using the most occuring value in the column\n",
    "\n",
    "e. Fill the value using KNN if data in rest of the column is almost equally distributed\n",
    "\n",
    "f. Leave the null values as it is or replace them with a common value like -1\n"
   ]
  },
  {
   "cell_type": "code",
   "execution_count": 303,
   "metadata": {},
   "outputs": [
    {
     "data": {
      "text/html": [
       "<div>\n",
       "<style scoped>\n",
       "    .dataframe tbody tr th:only-of-type {\n",
       "        vertical-align: middle;\n",
       "    }\n",
       "\n",
       "    .dataframe tbody tr th {\n",
       "        vertical-align: top;\n",
       "    }\n",
       "\n",
       "    .dataframe thead th {\n",
       "        text-align: right;\n",
       "    }\n",
       "</style>\n",
       "<table border=\"1\" class=\"dataframe\">\n",
       "  <thead>\n",
       "    <tr style=\"text-align: right;\">\n",
       "      <th></th>\n",
       "      <th>title_proximity_tfidf</th>\n",
       "      <th>description_proximity_tfidf</th>\n",
       "      <th>main_query_tfidf</th>\n",
       "      <th>query_jl_score</th>\n",
       "      <th>query_title_score</th>\n",
       "      <th>city_match</th>\n",
       "      <th>job_age_days</th>\n",
       "      <th>apply</th>\n",
       "    </tr>\n",
       "  </thead>\n",
       "  <tbody>\n",
       "    <tr>\n",
       "      <th>732774</th>\n",
       "      <td>0.000000</td>\n",
       "      <td>0.000000</td>\n",
       "      <td>1.647924</td>\n",
       "      <td>0.019397</td>\n",
       "      <td>0.030254</td>\n",
       "      <td>NaN</td>\n",
       "      <td>27.0</td>\n",
       "      <td>1</td>\n",
       "    </tr>\n",
       "    <tr>\n",
       "      <th>1005104</th>\n",
       "      <td>0.000000</td>\n",
       "      <td>0.000000</td>\n",
       "      <td>0.000000</td>\n",
       "      <td>0.000001</td>\n",
       "      <td>0.054250</td>\n",
       "      <td>NaN</td>\n",
       "      <td>10.0</td>\n",
       "      <td>0</td>\n",
       "    </tr>\n",
       "    <tr>\n",
       "      <th>732775</th>\n",
       "      <td>0.000000</td>\n",
       "      <td>0.000000</td>\n",
       "      <td>1.647924</td>\n",
       "      <td>0.019397</td>\n",
       "      <td>0.030254</td>\n",
       "      <td>NaN</td>\n",
       "      <td>27.0</td>\n",
       "      <td>0</td>\n",
       "    </tr>\n",
       "    <tr>\n",
       "      <th>1005096</th>\n",
       "      <td>0.000000</td>\n",
       "      <td>0.000000</td>\n",
       "      <td>0.000000</td>\n",
       "      <td>0.014803</td>\n",
       "      <td>0.014972</td>\n",
       "      <td>NaN</td>\n",
       "      <td>0.0</td>\n",
       "      <td>0</td>\n",
       "    </tr>\n",
       "    <tr>\n",
       "      <th>409166</th>\n",
       "      <td>NaN</td>\n",
       "      <td>NaN</td>\n",
       "      <td>0.000000</td>\n",
       "      <td>0.014812</td>\n",
       "      <td>0.026619</td>\n",
       "      <td>1.0</td>\n",
       "      <td>1.0</td>\n",
       "      <td>1</td>\n",
       "    </tr>\n",
       "    <tr>\n",
       "      <th>409165</th>\n",
       "      <td>NaN</td>\n",
       "      <td>NaN</td>\n",
       "      <td>0.000000</td>\n",
       "      <td>0.014812</td>\n",
       "      <td>0.026619</td>\n",
       "      <td>1.0</td>\n",
       "      <td>1.0</td>\n",
       "      <td>0</td>\n",
       "    </tr>\n",
       "    <tr>\n",
       "      <th>171119</th>\n",
       "      <td>NaN</td>\n",
       "      <td>NaN</td>\n",
       "      <td>0.000000</td>\n",
       "      <td>0.014812</td>\n",
       "      <td>0.157469</td>\n",
       "      <td>0.0</td>\n",
       "      <td>7.0</td>\n",
       "      <td>0</td>\n",
       "    </tr>\n",
       "    <tr>\n",
       "      <th>409163</th>\n",
       "      <td>NaN</td>\n",
       "      <td>NaN</td>\n",
       "      <td>7.648294</td>\n",
       "      <td>0.018519</td>\n",
       "      <td>0.023810</td>\n",
       "      <td>NaN</td>\n",
       "      <td>3.0</td>\n",
       "      <td>0</td>\n",
       "    </tr>\n",
       "    <tr>\n",
       "      <th>409160</th>\n",
       "      <td>0.000000</td>\n",
       "      <td>0.000000</td>\n",
       "      <td>0.000000</td>\n",
       "      <td>0.072033</td>\n",
       "      <td>0.083735</td>\n",
       "      <td>NaN</td>\n",
       "      <td>6.0</td>\n",
       "      <td>0</td>\n",
       "    </tr>\n",
       "    <tr>\n",
       "      <th>732822</th>\n",
       "      <td>NaN</td>\n",
       "      <td>NaN</td>\n",
       "      <td>6.988558</td>\n",
       "      <td>0.000001</td>\n",
       "      <td>0.000001</td>\n",
       "      <td>1.0</td>\n",
       "      <td>13.0</td>\n",
       "      <td>0</td>\n",
       "    </tr>\n",
       "    <tr>\n",
       "      <th>409150</th>\n",
       "      <td>NaN</td>\n",
       "      <td>NaN</td>\n",
       "      <td>1.915318</td>\n",
       "      <td>0.023692</td>\n",
       "      <td>0.036309</td>\n",
       "      <td>NaN</td>\n",
       "      <td>0.0</td>\n",
       "      <td>0</td>\n",
       "    </tr>\n",
       "    <tr>\n",
       "      <th>732772</th>\n",
       "      <td>NaN</td>\n",
       "      <td>NaN</td>\n",
       "      <td>0.000000</td>\n",
       "      <td>0.014812</td>\n",
       "      <td>0.021193</td>\n",
       "      <td>1.0</td>\n",
       "      <td>1.0</td>\n",
       "      <td>0</td>\n",
       "    </tr>\n",
       "    <tr>\n",
       "      <th>732768</th>\n",
       "      <td>33.853670</td>\n",
       "      <td>0.000000</td>\n",
       "      <td>7.524670</td>\n",
       "      <td>0.031141</td>\n",
       "      <td>0.160361</td>\n",
       "      <td>NaN</td>\n",
       "      <td>12.0</td>\n",
       "      <td>0</td>\n",
       "    </tr>\n",
       "    <tr>\n",
       "      <th>732752</th>\n",
       "      <td>0.000000</td>\n",
       "      <td>0.049954</td>\n",
       "      <td>4.669132</td>\n",
       "      <td>0.000001</td>\n",
       "      <td>0.021844</td>\n",
       "      <td>NaN</td>\n",
       "      <td>6.0</td>\n",
       "      <td>0</td>\n",
       "    </tr>\n",
       "    <tr>\n",
       "      <th>732770</th>\n",
       "      <td>0.000000</td>\n",
       "      <td>0.000000</td>\n",
       "      <td>0.000000</td>\n",
       "      <td>0.016946</td>\n",
       "      <td>0.052310</td>\n",
       "      <td>NaN</td>\n",
       "      <td>11.0</td>\n",
       "      <td>0</td>\n",
       "    </tr>\n",
       "    <tr>\n",
       "      <th>171079</th>\n",
       "      <td>NaN</td>\n",
       "      <td>NaN</td>\n",
       "      <td>0.000000</td>\n",
       "      <td>0.012821</td>\n",
       "      <td>0.017857</td>\n",
       "      <td>1.0</td>\n",
       "      <td>8.0</td>\n",
       "      <td>0</td>\n",
       "    </tr>\n",
       "    <tr>\n",
       "      <th>1005131</th>\n",
       "      <td>28.197927</td>\n",
       "      <td>0.092569</td>\n",
       "      <td>6.058106</td>\n",
       "      <td>0.017287</td>\n",
       "      <td>0.201198</td>\n",
       "      <td>NaN</td>\n",
       "      <td>5.0</td>\n",
       "      <td>0</td>\n",
       "    </tr>\n",
       "    <tr>\n",
       "      <th>1005130</th>\n",
       "      <td>28.197927</td>\n",
       "      <td>0.092569</td>\n",
       "      <td>6.058106</td>\n",
       "      <td>0.017287</td>\n",
       "      <td>0.201198</td>\n",
       "      <td>NaN</td>\n",
       "      <td>5.0</td>\n",
       "      <td>1</td>\n",
       "    </tr>\n",
       "    <tr>\n",
       "      <th>171097</th>\n",
       "      <td>0.000000</td>\n",
       "      <td>0.000000</td>\n",
       "      <td>3.590568</td>\n",
       "      <td>0.000001</td>\n",
       "      <td>0.000001</td>\n",
       "      <td>NaN</td>\n",
       "      <td>31.0</td>\n",
       "      <td>0</td>\n",
       "    </tr>\n",
       "    <tr>\n",
       "      <th>409235</th>\n",
       "      <td>NaN</td>\n",
       "      <td>NaN</td>\n",
       "      <td>0.000000</td>\n",
       "      <td>0.006742</td>\n",
       "      <td>0.006555</td>\n",
       "      <td>0.0</td>\n",
       "      <td>9.0</td>\n",
       "      <td>0</td>\n",
       "    </tr>\n",
       "  </tbody>\n",
       "</table>\n",
       "</div>"
      ],
      "text/plain": [
       "         title_proximity_tfidf  description_proximity_tfidf  main_query_tfidf  \\\n",
       "732774                0.000000                     0.000000          1.647924   \n",
       "1005104               0.000000                     0.000000          0.000000   \n",
       "732775                0.000000                     0.000000          1.647924   \n",
       "1005096               0.000000                     0.000000          0.000000   \n",
       "409166                     NaN                          NaN          0.000000   \n",
       "409165                     NaN                          NaN          0.000000   \n",
       "171119                     NaN                          NaN          0.000000   \n",
       "409163                     NaN                          NaN          7.648294   \n",
       "409160                0.000000                     0.000000          0.000000   \n",
       "732822                     NaN                          NaN          6.988558   \n",
       "409150                     NaN                          NaN          1.915318   \n",
       "732772                     NaN                          NaN          0.000000   \n",
       "732768               33.853670                     0.000000          7.524670   \n",
       "732752                0.000000                     0.049954          4.669132   \n",
       "732770                0.000000                     0.000000          0.000000   \n",
       "171079                     NaN                          NaN          0.000000   \n",
       "1005131              28.197927                     0.092569          6.058106   \n",
       "1005130              28.197927                     0.092569          6.058106   \n",
       "171097                0.000000                     0.000000          3.590568   \n",
       "409235                     NaN                          NaN          0.000000   \n",
       "\n",
       "         query_jl_score  query_title_score  city_match  job_age_days  apply  \n",
       "732774         0.019397           0.030254         NaN          27.0      1  \n",
       "1005104        0.000001           0.054250         NaN          10.0      0  \n",
       "732775         0.019397           0.030254         NaN          27.0      0  \n",
       "1005096        0.014803           0.014972         NaN           0.0      0  \n",
       "409166         0.014812           0.026619         1.0           1.0      1  \n",
       "409165         0.014812           0.026619         1.0           1.0      0  \n",
       "171119         0.014812           0.157469         0.0           7.0      0  \n",
       "409163         0.018519           0.023810         NaN           3.0      0  \n",
       "409160         0.072033           0.083735         NaN           6.0      0  \n",
       "732822         0.000001           0.000001         1.0          13.0      0  \n",
       "409150         0.023692           0.036309         NaN           0.0      0  \n",
       "732772         0.014812           0.021193         1.0           1.0      0  \n",
       "732768         0.031141           0.160361         NaN          12.0      0  \n",
       "732752         0.000001           0.021844         NaN           6.0      0  \n",
       "732770         0.016946           0.052310         NaN          11.0      0  \n",
       "171079         0.012821           0.017857         1.0           8.0      0  \n",
       "1005131        0.017287           0.201198         NaN           5.0      0  \n",
       "1005130        0.017287           0.201198         NaN           5.0      1  \n",
       "171097         0.000001           0.000001         NaN          31.0      0  \n",
       "409235         0.006742           0.006555         0.0           9.0      0  "
      ]
     },
     "execution_count": 303,
     "metadata": {},
     "output_type": "execute_result"
    }
   ],
   "source": [
    "df[df.isnull().any(axis=1)].head(20)"
   ]
  },
  {
   "cell_type": "markdown",
   "metadata": {},
   "source": [
    "### Observation: \n",
    "\n",
    "From the first 10 values, I can see that column title_proximity_tfidf\t, description_proximity_tfidf and city_match contains lot of values with zeroes "
   ]
  },
  {
   "cell_type": "code",
   "execution_count": 304,
   "metadata": {},
   "outputs": [
    {
     "data": {
      "text/plain": [
       "0.000000     647042\n",
       "14.939764        21\n",
       "17.811365        19\n",
       "17.493496        15\n",
       "19.385944        15\n",
       "Name: title_proximity_tfidf, dtype: int64"
      ]
     },
     "execution_count": 304,
     "metadata": {},
     "output_type": "execute_result"
    }
   ],
   "source": [
    "# Lets check the value counts for the three columns\n",
    "df['title_proximity_tfidf'].value_counts().head()"
   ]
  },
  {
   "cell_type": "code",
   "execution_count": 305,
   "metadata": {},
   "outputs": [
    {
     "data": {
      "text/plain": [
       "0.000000    541819\n",
       "0.054681        21\n",
       "0.146289        14\n",
       "0.190945        11\n",
       "0.120345        11\n",
       "Name: description_proximity_tfidf, dtype: int64"
      ]
     },
     "execution_count": 305,
     "metadata": {},
     "output_type": "execute_result"
    }
   ],
   "source": [
    "df['description_proximity_tfidf'].value_counts().head()"
   ]
  },
  {
   "cell_type": "code",
   "execution_count": 306,
   "metadata": {},
   "outputs": [
    {
     "data": {
      "text/plain": [
       "1.0    532299\n",
       "0.0    412036\n",
       "Name: city_match, dtype: int64"
      ]
     },
     "execution_count": 306,
     "metadata": {},
     "output_type": "execute_result"
    }
   ],
   "source": [
    "df['city_match'].value_counts().head()"
   ]
  },
  {
   "cell_type": "markdown",
   "metadata": {},
   "source": [
    "### Observation: \n",
    "\n",
    "The first 2 columns contains mostly value zero so it would be a safe option to impute a value of '0' to the first two columns. For the 'city-match' column, lets check the percentage of apply and non apply before and after we remove the NaN values. If the percentage is same, we can conclude that it is safe to remove rows that have NaN values in City_match column. "
   ]
  },
  {
   "cell_type": "code",
   "execution_count": 307,
   "metadata": {},
   "outputs": [],
   "source": [
    "df['title_proximity_tfidf'].fillna(0,inplace=True)\n",
    "df['description_proximity_tfidf'].fillna(0,inplace=True)\n",
    "df.dropna(subset=['city_match'],inplace=True)\n",
    "\n",
    "test['title_proximity_tfidf'].fillna(0,inplace=True)\n",
    "test['description_proximity_tfidf'].fillna(0,inplace=True)\n",
    "test.dropna(subset=['city_match'],inplace=True)"
   ]
  },
  {
   "cell_type": "code",
   "execution_count": 308,
   "metadata": {},
   "outputs": [
    {
     "name": "stdout",
     "output_type": "stream",
     "text": [
      "Number of customers who didnt apply: 861773\n",
      "Number of customers who applied: 82562\n",
      "Percentage of apply to non apply 10.437889101523703 %\n"
     ]
    },
    {
     "data": {
      "image/png": "[encoded data removed]",
      "text/plain": [
       "<Figure size 432x288 with 1 Axes>"
      ]
     },
     "metadata": {},
     "output_type": "display_data"
    }
   ],
   "source": [
    "# Check if the percetage is still the same\n",
    "count_classes = pd.value_counts(df['apply'], sort = True)\n",
    "count_classes.plot(kind = 'bar')\n",
    "\n",
    "plt.title(\"Apply Rate\")\n",
    "plt.xticks(range(2))\n",
    "plt.xlabel(\"Class\")\n",
    "plt.ylabel(\"Frequency\");\n",
    "\n",
    "print('Number of customers who didnt apply:',df['apply'].value_counts()[0])\n",
    "print('Number of customers who applied:',df['apply'].value_counts()[1])\n",
    "print('Percentage of apply to non apply',df['apply'].value_counts()[0]/df['apply'].value_counts()[1],'%')"
   ]
  },
  {
   "cell_type": "markdown",
   "metadata": {},
   "source": [
    "### Observation: \n",
    "\n",
    "We see that the percentage before and after removing the NaN values is almost the same. Therefore, we go ahead with this data\n",
    "\n",
    "Next I check if the columns are correlated. When predictor variables are correlated, the precision of the estimated regression coefficients decreases as more predictor variables are added to the model."
   ]
  },
  {
   "cell_type": "code",
   "execution_count": 309,
   "metadata": {},
   "outputs": [
    {
     "data": {
      "text/plain": [
       "<matplotlib.axes._subplots.AxesSubplot at 0x134b1e470>"
      ]
     },
     "execution_count": 309,
     "metadata": {},
     "output_type": "execute_result"
    },
    {
     "data": {
      "image/png": "[encoded data removed]",
      "text/plain": [
       "<Figure size 432x288 with 2 Axes>"
      ]
     },
     "metadata": {},
     "output_type": "display_data"
    }
   ],
   "source": [
    "sns.heatmap(df.corr())"
   ]
  },
  {
   "cell_type": "markdown",
   "metadata": {},
   "source": [
    "### Observation: \n",
    "\n",
    "None of the columns are highly correlated with target variable or with each other."
   ]
  },
  {
   "cell_type": "markdown",
   "metadata": {},
   "source": [
    "For better visualization of the data, lets plot the t-SNE plot to obtain early insight on whether or not the data is separable, test if it has some identifiable structure, and inspect the nature of this structure. t-SNE is best because it preserves local structure of the data points."
   ]
  },
  {
   "cell_type": "code",
   "execution_count": 48,
   "metadata": {},
   "outputs": [],
   "source": [
    "# # Consider only 100 rows of non apply cases\n",
    "\n",
    "# # Every dot in the following represents a apply rate case. Non apply are represented as Green while apply are represented as Red. \n",
    "# # The two axis are the components extracted by tsne.\n",
    "# non_apply = df[df['apply'] == 0].sample(100)\n",
    "# apply = df[df['apply'] == 1]\n",
    "\n",
    "# df_1 = non_apply.append(apply).sample(frac=1).reset_index(drop=True)\n",
    "# X = df_1.drop(['apply'], axis = 1).values\n",
    "# Y = df_1[\"apply\"].values\n",
    "\n",
    "# def tsne_plot(x1, y1, name=\"graph.png\"):\n",
    "#     tsne = TSNE(n_components=2, random_state=0)\n",
    "#     X_t = tsne.fit_transform(x1)\n",
    "\n",
    "#     plt.figure(figsize=(12, 8))\n",
    "#     plt.scatter(X_t[np.where(y1 == 0), 0], X_t[np.where(y1 == 0), 1], marker='o', color='g', linewidth='1', alpha=0.8, label='Non Fraud')\n",
    "#     plt.scatter(X_t[np.where(y1 == 1), 0], X_t[np.where(y1 == 1), 1], marker='o', color='r', linewidth='1', alpha=0.8, label='Fraud')\n",
    "\n",
    "#     plt.legend(loc='best');\n",
    "#     plt.savefig(name);\n",
    "#     plt.show();\n",
    "    \n",
    "# # tsne_plot(X, Y, \"original.png\")"
   ]
  },
  {
   "cell_type": "markdown",
   "metadata": {},
   "source": [
    "### Observation:\n",
    "\n",
    "From the above graph we can observe that there are many non apply cases which are very close to apply transactions, thus are difficult to accurately classify from a model. We can use autoencoders for solving this problem. Autoencoders are a special type of neural network architectures in which the output is same as the input. Autoencoders are trained in an unsupervised manner in order to learn the exteremely low level repersentations of the input data. These low level features are then deformed back to project the actual data. An autoencoder is a regression task where the network is asked to predict its input (in other words, model the identity function). These networks has a tight bottleneck of a few neurons in the middle, forcing them to create effective representations that compress the input into a low-dimensional code that can be used by the decoder to reproduce the original input. "
   ]
  },
  {
   "cell_type": "code",
   "execution_count": 49,
   "metadata": {},
   "outputs": [],
   "source": [
    "## input layer \n",
    "input_layer = Input(shape=(X.shape[1],))\n",
    "\n",
    "## encoding part\n",
    "encoded = Dense(100, activation='tanh', activity_regularizer=regularizers.l1(10e-5))(input_layer)\n",
    "encoded = Dense(50, activation='relu')(encoded)\n",
    "\n",
    "## decoding part\n",
    "decoded = Dense(50, activation='tanh')(encoded)\n",
    "decoded = Dense(100, activation='tanh')(decoded)\n",
    "\n",
    "## output layer\n",
    "output_layer = Dense(X.shape[1], activation='relu')(decoded)"
   ]
  },
  {
   "cell_type": "markdown",
   "metadata": {},
   "source": [
    "Create the model architecture by compiling input layer and output layers. Also add the optimizer and loss function, I am using \"adadelta\" as the optimizer and \"mse\" as the loss function."
   ]
  },
  {
   "cell_type": "code",
   "execution_count": 50,
   "metadata": {},
   "outputs": [],
   "source": [
    "autoencoder = Model(input_layer, output_layer)\n",
    "autoencoder.compile(optimizer=\"adadelta\", loss=\"mse\")"
   ]
  },
  {
   "cell_type": "markdown",
   "metadata": {},
   "source": [
    "Before training, let's perform min max scaling."
   ]
  },
  {
   "cell_type": "code",
   "execution_count": 51,
   "metadata": {},
   "outputs": [],
   "source": [
    "x = df.drop([\"apply\"], axis=1)\n",
    "y = df[\"apply\"].values\n",
    "\n",
    "x_scale = preprocessing.MinMaxScaler().fit_transform(x.values)\n",
    "x_non_apply, x_apply = x_scale[y == 0], x_scale[y == 1]"
   ]
  },
  {
   "cell_type": "markdown",
   "metadata": {},
   "source": [
    "The beauty of this approach is that we do not need too many samples of data for learning the good representations. We will use only 2000 rows of non fraud cases to train the autoencoder. Additionally, We do not need to run this model for a large number of epochs.\n",
    "\n",
    "### Explanation: \n",
    "\n",
    "The choice of small samples from the original dataset is based on the intuition that one class characteristics (non fraud) will differ from that of the other (fraud). To distinguish these characteristics we need to show the autoencoders only one class of data. This is because the autoencoder will try to learn only one class and automaticlly distinuish the other class."
   ]
  },
  {
   "cell_type": "code",
   "execution_count": 52,
   "metadata": {},
   "outputs": [
    {
     "name": "stdout",
     "output_type": "stream",
     "text": [
      "Train on 1600 samples, validate on 400 samples\n",
      "Epoch 1/10\n",
      "1600/1600 [==============================] - 0s 228us/step - loss: 0.2244 - val_loss: 0.1641\n",
      "Epoch 2/10\n",
      "1600/1600 [==============================] - 0s 11us/step - loss: 0.1738 - val_loss: 0.1442\n",
      "Epoch 3/10\n",
      "1600/1600 [==============================] - 0s 14us/step - loss: 0.1540 - val_loss: 0.1285\n",
      "Epoch 4/10\n",
      "1600/1600 [==============================] - 0s 15us/step - loss: 0.1378 - val_loss: 0.1148\n",
      "Epoch 5/10\n",
      "1600/1600 [==============================] - 0s 15us/step - loss: 0.1238 - val_loss: 0.1026\n",
      "Epoch 6/10\n",
      "1600/1600 [==============================] - 0s 14us/step - loss: 0.1108 - val_loss: 0.0918\n",
      "Epoch 7/10\n",
      "1600/1600 [==============================] - 0s 16us/step - loss: 0.0992 - val_loss: 0.0825\n",
      "Epoch 8/10\n",
      "1600/1600 [==============================] - 0s 13us/step - loss: 0.0898 - val_loss: 0.0745\n",
      "Epoch 9/10\n",
      "1600/1600 [==============================] - 0s 11us/step - loss: 0.0814 - val_loss: 0.0676\n",
      "Epoch 10/10\n",
      "1600/1600 [==============================] - 0s 11us/step - loss: 0.0741 - val_loss: 0.0616\n"
     ]
    }
   ],
   "source": [
    "autoencoder.fit(x_non_apply[0:2000], x_non_apply[0:2000], \n",
    "                batch_size = 256, epochs = 10, \n",
    "                shuffle = True, validation_split = 0.20);"
   ]
  },
  {
   "cell_type": "markdown",
   "metadata": {},
   "source": [
    "### Obtain the Latent Representations: \n",
    "\n",
    "Now, the model is trained. We are intereseted in obtaining latent representation of the input learned by the model. This can be accessed by the weights of the trained model. We will create another network containing sequential layers, and we will only add the trained weights till the third layer where latent representation exists."
   ]
  },
  {
   "cell_type": "code",
   "execution_count": 53,
   "metadata": {},
   "outputs": [],
   "source": [
    "hidden_representation = Sequential()\n",
    "hidden_representation.add(autoencoder.layers[0])\n",
    "hidden_representation.add(autoencoder.layers[1])\n",
    "hidden_representation.add(autoencoder.layers[2])"
   ]
  },
  {
   "cell_type": "markdown",
   "metadata": {},
   "source": [
    "### Generate the hidden representations of two classes : \n",
    "\n",
    "non-apply and apply by predicting the raw inputs using the above model."
   ]
  },
  {
   "cell_type": "code",
   "execution_count": 54,
   "metadata": {},
   "outputs": [],
   "source": [
    "non_apply_rep = hidden_representation.predict(x_non_apply[:3000])\n",
    "apply_rep = hidden_representation.predict(x_apply)"
   ]
  },
  {
   "cell_type": "markdown",
   "metadata": {},
   "source": [
    "Now we will create a training dataset using the latent representations obtained and let's visualize the nature of fraud vs non-fraud cases."
   ]
  },
  {
   "cell_type": "code",
   "execution_count": 55,
   "metadata": {},
   "outputs": [],
   "source": [
    "# rep_x = np.append(non_apply_rep, apply_rep, axis = 0)\n",
    "# y_n = np.zeros(non_apply_rep.shape[0])\n",
    "# y_f = np.ones(apply_rep.shape[0])\n",
    "# rep_y = np.append(y_n, y_f)\n",
    "# tsne_plot(rep_x, rep_y, \"latent_representation.png\")"
   ]
  },
  {
   "cell_type": "markdown",
   "metadata": {},
   "source": [
    "### Observation: \n",
    "T-SNE is not able to seperate apply and non apply case. "
   ]
  },
  {
   "cell_type": "markdown",
   "metadata": {},
   "source": [
    "Lets visualize the distplot for all the features and see if we can find some relation in the dataset"
   ]
  },
  {
   "cell_type": "code",
   "execution_count": 310,
   "metadata": {},
   "outputs": [
    {
     "data": {
      "image/png": "[encoded data removed]",
      "text/plain": [
       "<Figure size 1440x432 with 7 Axes>"
      ]
     },
     "metadata": {},
     "output_type": "display_data"
    }
   ],
   "source": [
    "from scipy.stats import norm\n",
    "\n",
    "f, (ax1, ax2, ax3, ax4, ax5, ax6, ax7) = plt.subplots(1,7, figsize=(20, 6))\n",
    "\n",
    "c1 = df['title_proximity_tfidf'].loc[df['apply'] == 1].values\n",
    "sns.distplot(c1,ax=ax1, fit=norm, color='#FB8861')\n",
    "ax1.set_title('title_proximity_tfidf', fontsize=14)\n",
    "\n",
    "c2 = df['description_proximity_tfidf'].loc[df['apply'] == 1].values\n",
    "sns.distplot(c2,ax=ax2, fit=norm, color='#56F9BB')\n",
    "ax2.set_title('description_proximity_tfidf', fontsize=14)\n",
    "\n",
    "c3 = df['main_query_tfidf'].loc[df['apply'] == 1].values\n",
    "sns.distplot(c3,ax=ax3, fit=norm, color='#C5B3F9')\n",
    "ax3.set_title('main_query_tfidf', fontsize=14)\n",
    "\n",
    "c4 = df['query_jl_score'].loc[df['apply'] == 1].values\n",
    "sns.distplot(c4,ax=ax4, fit=norm, color='#FB8861')\n",
    "ax4.set_title('query_jl_score', fontsize=14)\n",
    "\n",
    "c5 = df['query_title_score'].loc[df['apply'] == 1].values\n",
    "sns.distplot(c5,ax=ax5, fit=norm, color='#FB8861')\n",
    "ax5.set_title('query_title_score', fontsize=14)\n",
    "\n",
    "c6 = df['city_match'].loc[df['apply'] == 1].values\n",
    "sns.distplot(c6,ax=ax6, fit=norm, color='#FB8861')\n",
    "ax6.set_title('city_match', fontsize=14)\n",
    "\n",
    "c7 = df['job_age_days'].loc[df['apply'] == 1].values\n",
    "sns.distplot(c7,ax=ax7, fit=norm, color='#FB8861')\n",
    "ax7.set_title('job_age_days', fontsize=14)\n",
    "\n",
    "plt.show()"
   ]
  },
  {
   "cell_type": "code",
   "execution_count": 311,
   "metadata": {},
   "outputs": [
    {
     "data": {
      "image/png": "[encoded data removed]",
      "text/plain": [
       "<Figure size 1440x432 with 7 Axes>"
      ]
     },
     "metadata": {},
     "output_type": "display_data"
    }
   ],
   "source": [
    "f, (ax1, ax2, ax3, ax4, ax5, ax6, ax7) = plt.subplots(1,7, figsize=(20, 6))\n",
    "\n",
    "c1 = df['title_proximity_tfidf'].loc[df['apply'] == 0].values\n",
    "sns.distplot(c1,ax=ax1, fit=norm, color='#FB8861')\n",
    "ax1.set_title('title_proximity_tfidf', fontsize=14)\n",
    "\n",
    "c2 = df['description_proximity_tfidf'].loc[df['apply'] == 0].values\n",
    "sns.distplot(c2,ax=ax2, fit=norm, color='#56F9BB')\n",
    "ax2.set_title('description_proximity_tfidf', fontsize=14)\n",
    "\n",
    "c3 = df['main_query_tfidf'].loc[df['apply'] == 0].values\n",
    "sns.distplot(c3,ax=ax3, fit=norm, color='#C5B3F9')\n",
    "ax3.set_title('main_query_tfidf', fontsize=14)\n",
    "\n",
    "c4 = df['query_jl_score'].loc[df['apply'] == 0].values\n",
    "sns.distplot(c4,ax=ax4, fit=norm, color='#FB8861')\n",
    "ax4.set_title('query_jl_score', fontsize=14)\n",
    "\n",
    "c5 = df['query_title_score'].loc[df['apply'] == 0].values\n",
    "sns.distplot(c5,ax=ax5, fit=norm, color='#FB8861')\n",
    "ax5.set_title('query_title_score', fontsize=14)\n",
    "\n",
    "c6 = df['city_match'].loc[df['apply'] == 0].values\n",
    "sns.distplot(c6,ax=ax6, fit=norm, color='#FB8861')\n",
    "ax6.set_title('city_match', fontsize=14)\n",
    "\n",
    "c7 = df['job_age_days'].loc[df['apply'] == 0].values\n",
    "sns.distplot(c7,ax=ax7, fit=norm, color='#FB8861')\n",
    "ax7.set_title('job_age_days', fontsize=14)\n",
    "\n",
    "plt.show()"
   ]
  },
  {
   "cell_type": "markdown",
   "metadata": {},
   "source": [
    "### Observation: \n",
    "\n",
    "City_match seems to have multi-modal distribution. One which has mean around 0 and other which has mean around 1. Multi modal behaviour indicates that the sample has several patterns of response or extreme views, preferences or attitudes. Lets see if we can find out the pattern"
   ]
  },
  {
   "cell_type": "markdown",
   "metadata": {},
   "source": [
    "Lets check how many outliers does the data have. There are lot of ways to detect outliers like boxplot, scatter plot or z-score. I will use boxplot to detect outliers"
   ]
  },
  {
   "cell_type": "code",
   "execution_count": 312,
   "metadata": {},
   "outputs": [
    {
     "data": {
      "image/png": "[encoded data removed]",
      "text/plain": [
       "<Figure size 432x288 with 1 Axes>"
      ]
     },
     "metadata": {},
     "output_type": "display_data"
    },
    {
     "data": {
      "image/png": "[encoded data removed]",
      "text/plain": [
       "<Figure size 432x288 with 1 Axes>"
      ]
     },
     "metadata": {},
     "output_type": "display_data"
    },
    {
     "data": {
      "image/png": "[encoded data removed]",
      "text/plain": [
       "<Figure size 432x288 with 1 Axes>"
      ]
     },
     "metadata": {},
     "output_type": "display_data"
    },
    {
     "data": {
      "image/png": "[encoded data removed]",
      "text/plain": [
       "<Figure size 432x288 with 1 Axes>"
      ]
     },
     "metadata": {},
     "output_type": "display_data"
    },
    {
     "data": {
      "image/png": "[encoded data removed]",
      "text/plain": [
       "<Figure size 432x288 with 1 Axes>"
      ]
     },
     "metadata": {},
     "output_type": "display_data"
    },
    {
     "data": {
      "image/png": "[encoded data removed]",
      "text/plain": [
       "<Figure size 432x288 with 1 Axes>"
      ]
     },
     "metadata": {},
     "output_type": "display_data"
    },
    {
     "data": {
      "image/png": "[encoded data removed]",
      "text/plain": [
       "<Figure size 432x288 with 1 Axes>"
      ]
     },
     "metadata": {},
     "output_type": "display_data"
    }
   ],
   "source": [
    "feature_names = df.columns\n",
    "for i in range(len(feature_names)-1):\n",
    "    figure = plt.figure()\n",
    "    ax = sns.boxplot(x='apply', y=feature_names[i], data=df)"
   ]
  },
  {
   "cell_type": "markdown",
   "metadata": {},
   "source": [
    "### Observation: \n",
    "The dataset contains lot of outliers. I will use z-score to remove the outliers"
   ]
  },
  {
   "cell_type": "code",
   "execution_count": 60,
   "metadata": {},
   "outputs": [],
   "source": [
    "from scipy import stats\n",
    "df_new = df[(np.abs(stats.zscore(df)) < 3).all(axis=1)]"
   ]
  },
  {
   "cell_type": "code",
   "execution_count": 61,
   "metadata": {},
   "outputs": [
    {
     "data": {
      "image/png": "[encoded data removed]",
      "text/plain": [
       "<Figure size 432x288 with 1 Axes>"
      ]
     },
     "metadata": {},
     "output_type": "display_data"
    },
    {
     "data": {
      "image/png": "[encoded data removed]",
      "text/plain": [
       "<Figure size 432x288 with 1 Axes>"
      ]
     },
     "metadata": {},
     "output_type": "display_data"
    },
    {
     "data": {
      "image/png": "[encoded data removed]",
      "text/plain": [
       "<Figure size 432x288 with 1 Axes>"
      ]
     },
     "metadata": {},
     "output_type": "display_data"
    },
    {
     "data": {
      "image/png": "[encoded data removed]",
      "text/plain": [
       "<Figure size 432x288 with 1 Axes>"
      ]
     },
     "metadata": {},
     "output_type": "display_data"
    },
    {
     "data": {
      "image/png": "[encoded data removed]",
      "text/plain": [
       "<Figure size 432x288 with 1 Axes>"
      ]
     },
     "metadata": {},
     "output_type": "display_data"
    },
    {
     "data": {
      "image/png": "[encoded data removed]",
      "text/plain": [
       "<Figure size 432x288 with 1 Axes>"
      ]
     },
     "metadata": {},
     "output_type": "display_data"
    },
    {
     "data": {
      "image/png": "[encoded data removed]",
      "text/plain": [
       "<Figure size 432x288 with 1 Axes>"
      ]
     },
     "metadata": {},
     "output_type": "display_data"
    }
   ],
   "source": [
    "feature_names = df_new.columns\n",
    "for i in range(len(feature_names)-1):\n",
    "    figure = plt.figure()\n",
    "    ax = sns.boxplot(x='apply', y=feature_names[i], data=df_new)"
   ]
  },
  {
   "cell_type": "markdown",
   "metadata": {},
   "source": [
    "### WHAT DID I JUST SEE! \n",
    "\n",
    "There are no values for apply rate after +/- 3 standard deviation. That means all the values of apply are basically outliers. "
   ]
  },
  {
   "cell_type": "markdown",
   "metadata": {},
   "source": [
    "Lets check if same is the case with test data as well. "
   ]
  },
  {
   "cell_type": "code",
   "execution_count": 313,
   "metadata": {},
   "outputs": [
    {
     "data": {
      "text/html": [
       "<div>\n",
       "<style scoped>\n",
       "    .dataframe tbody tr th:only-of-type {\n",
       "        vertical-align: middle;\n",
       "    }\n",
       "\n",
       "    .dataframe tbody tr th {\n",
       "        vertical-align: top;\n",
       "    }\n",
       "\n",
       "    .dataframe thead th {\n",
       "        text-align: right;\n",
       "    }\n",
       "</style>\n",
       "<table border=\"1\" class=\"dataframe\">\n",
       "  <thead>\n",
       "    <tr style=\"text-align: right;\">\n",
       "      <th></th>\n",
       "      <th>title_proximity_tfidf</th>\n",
       "      <th>description_proximity_tfidf</th>\n",
       "      <th>main_query_tfidf</th>\n",
       "      <th>query_jl_score</th>\n",
       "      <th>query_title_score</th>\n",
       "      <th>city_match</th>\n",
       "      <th>job_age_days</th>\n",
       "      <th>apply</th>\n",
       "    </tr>\n",
       "  </thead>\n",
       "  <tbody>\n",
       "    <tr>\n",
       "      <th>192747</th>\n",
       "      <td>0.000000</td>\n",
       "      <td>0.0</td>\n",
       "      <td>4.835254</td>\n",
       "      <td>0.000001</td>\n",
       "      <td>0.007812</td>\n",
       "      <td>0.0</td>\n",
       "      <td>14.0</td>\n",
       "      <td>0</td>\n",
       "    </tr>\n",
       "    <tr>\n",
       "      <th>1157180</th>\n",
       "      <td>0.000000</td>\n",
       "      <td>0.0</td>\n",
       "      <td>0.000000</td>\n",
       "      <td>0.020606</td>\n",
       "      <td>0.023770</td>\n",
       "      <td>1.0</td>\n",
       "      <td>2.0</td>\n",
       "      <td>0</td>\n",
       "    </tr>\n",
       "    <tr>\n",
       "      <th>853666</th>\n",
       "      <td>0.000000</td>\n",
       "      <td>0.0</td>\n",
       "      <td>0.612112</td>\n",
       "      <td>0.012334</td>\n",
       "      <td>0.012990</td>\n",
       "      <td>0.0</td>\n",
       "      <td>3.0</td>\n",
       "      <td>0</td>\n",
       "    </tr>\n",
       "    <tr>\n",
       "      <th>592606</th>\n",
       "      <td>29.266163</td>\n",
       "      <td>0.0</td>\n",
       "      <td>6.339918</td>\n",
       "      <td>0.053236</td>\n",
       "      <td>0.077589</td>\n",
       "      <td>1.0</td>\n",
       "      <td>24.0</td>\n",
       "      <td>0</td>\n",
       "    </tr>\n",
       "    <tr>\n",
       "      <th>192746</th>\n",
       "      <td>0.000000</td>\n",
       "      <td>0.0</td>\n",
       "      <td>4.814935</td>\n",
       "      <td>0.000001</td>\n",
       "      <td>0.007812</td>\n",
       "      <td>0.0</td>\n",
       "      <td>14.0</td>\n",
       "      <td>0</td>\n",
       "    </tr>\n",
       "  </tbody>\n",
       "</table>\n",
       "</div>"
      ],
      "text/plain": [
       "         title_proximity_tfidf  description_proximity_tfidf  main_query_tfidf  \\\n",
       "192747                0.000000                          0.0          4.835254   \n",
       "1157180               0.000000                          0.0          0.000000   \n",
       "853666                0.000000                          0.0          0.612112   \n",
       "592606               29.266163                          0.0          6.339918   \n",
       "192746                0.000000                          0.0          4.814935   \n",
       "\n",
       "         query_jl_score  query_title_score  city_match  job_age_days  apply  \n",
       "192747         0.000001           0.007812         0.0          14.0      0  \n",
       "1157180        0.020606           0.023770         1.0           2.0      0  \n",
       "853666         0.012334           0.012990         0.0           3.0      0  \n",
       "592606         0.053236           0.077589         1.0          24.0      0  \n",
       "192746         0.000001           0.007812         0.0          14.0      0  "
      ]
     },
     "execution_count": 313,
     "metadata": {},
     "output_type": "execute_result"
    }
   ],
   "source": [
    "test.head()"
   ]
  },
  {
   "cell_type": "code",
   "execution_count": 314,
   "metadata": {},
   "outputs": [
    {
     "data": {
      "image/png": "[encoded data removed]",
      "text/plain": [
       "<Figure size 432x288 with 1 Axes>"
      ]
     },
     "metadata": {},
     "output_type": "display_data"
    },
    {
     "data": {
      "image/png": "[encoded data removed]",
      "text/plain": [
       "<Figure size 432x288 with 1 Axes>"
      ]
     },
     "metadata": {},
     "output_type": "display_data"
    },
    {
     "data": {
      "image/png": "[encoded data removed]",
      "text/plain": [
       "<Figure size 432x288 with 1 Axes>"
      ]
     },
     "metadata": {},
     "output_type": "display_data"
    },
    {
     "data": {
      "image/png": "[encoded data removed]",
      "text/plain": [
       "<Figure size 432x288 with 1 Axes>"
      ]
     },
     "metadata": {},
     "output_type": "display_data"
    },
    {
     "data": {
      "image/png": "[encoded data removed]",
      "text/plain": [
       "<Figure size 432x288 with 1 Axes>"
      ]
     },
     "metadata": {},
     "output_type": "display_data"
    },
    {
     "data": {
      "image/png": "[encoded data removed]",
      "text/plain": [
       "<Figure size 432x288 with 1 Axes>"
      ]
     },
     "metadata": {},
     "output_type": "display_data"
    },
    {
     "data": {
      "image/png": "[encoded data removed]",
      "text/plain": [
       "<Figure size 432x288 with 1 Axes>"
      ]
     },
     "metadata": {},
     "output_type": "display_data"
    }
   ],
   "source": [
    "df_test = test[(np.abs(stats.zscore(test)) < 3).all(axis=1)]\n",
    "feature_names = df_test.columns\n",
    "for i in range(len(feature_names)-1):\n",
    "    figure = plt.figure()\n",
    "    ax = sns.boxplot(x='apply', y=feature_names[i], data=df_test)"
   ]
  },
  {
   "cell_type": "markdown",
   "metadata": {},
   "source": [
    "Here also, I can see that there are no values within 3 standard deviation of the mean. That confirms my hypothesis that all the values of the apply rate are outliers. "
   ]
  },
  {
   "cell_type": "markdown",
   "metadata": {},
   "source": [
    "Lets create a new dataframe which contains only values which are greater than 3 standard deviation and see what kind of distribution does that dataframe has. "
   ]
  },
  {
   "cell_type": "code",
   "execution_count": 315,
   "metadata": {},
   "outputs": [],
   "source": [
    "foo = pd.concat([df,df_new]).drop_duplicates(keep=False)"
   ]
  },
  {
   "cell_type": "code",
   "execution_count": 316,
   "metadata": {},
   "outputs": [
    {
     "data": {
      "image/png": "[encoded data removed]",
      "text/plain": [
       "<Figure size 432x288 with 1 Axes>"
      ]
     },
     "metadata": {},
     "output_type": "display_data"
    },
    {
     "data": {
      "image/png": "[encoded data removed]",
      "text/plain": [
       "<Figure size 432x288 with 1 Axes>"
      ]
     },
     "metadata": {},
     "output_type": "display_data"
    },
    {
     "data": {
      "image/png": "[encoded data removed]",
      "text/plain": [
       "<Figure size 432x288 with 1 Axes>"
      ]
     },
     "metadata": {},
     "output_type": "display_data"
    },
    {
     "data": {
      "image/png": "[encoded data removed]",
      "text/plain": [
       "<Figure size 432x288 with 1 Axes>"
      ]
     },
     "metadata": {},
     "output_type": "display_data"
    },
    {
     "data": {
      "image/png": "[encoded data removed]",
      "text/plain": [
       "<Figure size 432x288 with 1 Axes>"
      ]
     },
     "metadata": {},
     "output_type": "display_data"
    },
    {
     "data": {
      "image/png": "[encoded data removed]",
      "text/plain": [
       "<Figure size 432x288 with 1 Axes>"
      ]
     },
     "metadata": {},
     "output_type": "display_data"
    },
    {
     "data": {
      "image/png": "[encoded data removed]",
      "text/plain": [
       "<Figure size 432x288 with 1 Axes>"
      ]
     },
     "metadata": {},
     "output_type": "display_data"
    }
   ],
   "source": [
    "feature_names = foo.columns\n",
    "for i in range(len(feature_names)-1):\n",
    "    figure = plt.figure()\n",
    "    ax = sns.boxplot(x='apply', y=feature_names[i], data=foo)"
   ]
  },
  {
   "cell_type": "markdown",
   "metadata": {},
   "source": [
    "### Observation: \n",
    "As expected, values which are more than 3 standard deviation contains both apply and non apply values. Lets check the distribution of apply and non apply as well. "
   ]
  },
  {
   "cell_type": "code",
   "execution_count": 317,
   "metadata": {},
   "outputs": [
    {
     "name": "stdout",
     "output_type": "stream",
     "text": [
      "Number of customers who didnt apply: 71902\n",
      "Number of customers who applied: 68711\n",
      "Ratio of apply to non apply 1.0464408901049322\n"
     ]
    },
    {
     "data": {
      "image/png": "[encoded data removed]",
      "text/plain": [
       "<Figure size 432x288 with 1 Axes>"
      ]
     },
     "metadata": {},
     "output_type": "display_data"
    }
   ],
   "source": [
    "count_classes = pd.value_counts(foo['apply'], sort = True)\n",
    "count_classes.plot(kind = 'bar')\n",
    "\n",
    "plt.title(\"Apply Rate\")\n",
    "plt.xticks(range(2))\n",
    "plt.xlabel(\"Class\")\n",
    "plt.ylabel(\"Frequency\");\n",
    "\n",
    "print('Number of customers who didnt apply:',foo['apply'].value_counts()[0])\n",
    "print('Number of customers who applied:',foo['apply'].value_counts()[1])\n",
    "print('Ratio of apply to non apply',foo['apply'].value_counts()[0]/foo['apply'].value_counts()[1])"
   ]
  },
  {
   "cell_type": "markdown",
   "metadata": {},
   "source": [
    "Now that we have good ratio of both the classes, we can proceed for the predictive modeling. I will be using Random Forest, XGBoosting, Logistic Regression, SVM and  Neural networks for predicting if the user will click on apply or not."
   ]
  },
  {
   "cell_type": "markdown",
   "metadata": {},
   "source": [
    "# Predictive modeling"
   ]
  },
  {
   "cell_type": "markdown",
   "metadata": {},
   "source": [
    "Lets first do all the feature engineering to both training and testing set that we have done so far on the full dataframe"
   ]
  },
  {
   "cell_type": "code",
   "execution_count": 318,
   "metadata": {},
   "outputs": [],
   "source": [
    "train['title_proximity_tfidf'].fillna(0,inplace=True)\n",
    "train['description_proximity_tfidf'].fillna(0,inplace=True)\n",
    "train.dropna(subset=['city_match'],inplace=True)\n",
    "\n",
    "test['title_proximity_tfidf'].fillna(0,inplace=True)\n",
    "test['description_proximity_tfidf'].fillna(0,inplace=True)\n",
    "test.dropna(subset=['city_match'],inplace=True)"
   ]
  },
  {
   "cell_type": "markdown",
   "metadata": {},
   "source": [
    "Now the main idea is:"
   ]
  },
  {
   "cell_type": "code",
   "execution_count": 329,
   "metadata": {},
   "outputs": [],
   "source": [
    "df_train = train[(np.abs(stats.zscore(train)) < 3).all(axis=1)]\n",
    "foo_train = pd.concat([train,df_train]).drop_duplicates(keep=False)"
   ]
  },
  {
   "cell_type": "markdown",
   "metadata": {},
   "source": [
    "Here we will be creating 2 dataframes: One dataframe will contain all the values which contain z score less than 3 (mean and std are computed from the training dataframe and each point in testing dataframe's z score is calculated using this mean and std). The other data frame contains all the values which are beyond +/- 3 standard deviation. \n",
    "\n",
    "Note: According to our hypothesis, all the points in testing set which are between +/- 3 standard deviation should contain only '0' apply values and points beyond +/-3 std should contain both '0' and '1' apply value. We will check that as well. "
   ]
  },
  {
   "cell_type": "code",
   "execution_count": 418,
   "metadata": {},
   "outputs": [],
   "source": [
    "columns = test.columns\n",
    "foo_test_only_0 = []\n",
    "foo_test = []\n",
    "for i in range(len(test)):\n",
    "    if (((test.iloc[i,:] - training_mean[:])/training_std[:])<3).all():\n",
    "        foo_test_only_0.append(test.iloc[i,:])\n",
    "    else:\n",
    "        foo_test.append(test.iloc[i,:])\n",
    "foo_test_only_0 = pd.DataFrame(testing_testing_0,columns=columns)\n",
    "foo_test = pd.DataFrame(testing_testing_01,columns=columns)\n",
    "\n",
    "# df_test = test[(np.abs(stats.zscore(test)) < 3).all(axis=1)]\n",
    "# foo_test = pd.concat([test,df_test]).drop_duplicates(keep=False)"
   ]
  },
  {
   "cell_type": "code",
   "execution_count": 419,
   "metadata": {},
   "outputs": [
    {
     "name": "stdout",
     "output_type": "stream",
     "text": [
      "The dataframe within 3 std contains 1 unique values\n",
      "The dataframe outside 3 std contains 2 unique values\n"
     ]
    }
   ],
   "source": [
    "print('The dataframe within 3 std contains',foo_test_only_0['apply'].nunique(),'unique values')\n",
    "print('The dataframe outside 3 std contains',foo_test['apply'].nunique(),'unique values')"
   ]
  },
  {
   "cell_type": "markdown",
   "metadata": {},
   "source": [
    "### Lets split the training and testing set "
   ]
  },
  {
   "cell_type": "code",
   "execution_count": 420,
   "metadata": {},
   "outputs": [],
   "source": [
    "X_train = foo_train.drop(['apply'],axis=1)\n",
    "y_train = foo_train['apply']\n",
    "X_test = foo_test.drop(['apply'],axis=1)\n",
    "y_test = foo_test['apply']"
   ]
  },
  {
   "cell_type": "markdown",
   "metadata": {},
   "source": [
    "## 1. Random Forest"
   ]
  },
  {
   "cell_type": "code",
   "execution_count": 421,
   "metadata": {},
   "outputs": [
    {
     "name": "stderr",
     "output_type": "stream",
     "text": [
      "[Parallel(n_jobs=1)]: Using backend SequentialBackend with 1 concurrent workers.\n",
      "[Parallel(n_jobs=1)]: Done 100 out of 100 | elapsed:   31.7s finished\n",
      "[Parallel(n_jobs=1)]: Using backend SequentialBackend with 1 concurrent workers.\n"
     ]
    },
    {
     "name": "stdout",
     "output_type": "stream",
     "text": [
      "32.192547082901 sec\n"
     ]
    },
    {
     "name": "stderr",
     "output_type": "stream",
     "text": [
      "[Parallel(n_jobs=1)]: Done 100 out of 100 | elapsed:    0.3s finished\n"
     ]
    }
   ],
   "source": [
    "rf = RandomForestClassifier(bootstrap=False, n_estimators=100, criterion='entropy',random_state=111, verbose=1)\n",
    "t = time.time()\n",
    "rf.fit(X_train, y_train)\n",
    "preds_rf = rf.predict(X_test)\n",
    "print(time.time()-t,'sec')"
   ]
  },
  {
   "cell_type": "code",
   "execution_count": 422,
   "metadata": {},
   "outputs": [
    {
     "name": "stdout",
     "output_type": "stream",
     "text": [
      "F1 score for Random Forest is 0.9338482442966459\n",
      "The confustion matrix is:\n",
      " [[7225   10]\n",
      " [ 915 6529]]\n",
      "RF's AUC-ROC is: 0.94\n"
     ]
    },
    {
     "data": {
      "image/png": "[encoded data removed]",
      "text/plain": [
       "<Figure size 432x432 with 1 Axes>"
      ]
     },
     "metadata": {},
     "output_type": "display_data"
    }
   ],
   "source": [
    "print('F1 score for Random Forest is',f1_score(y_test, preds_rf))\n",
    "print('The confustion matrix is:\\n',confusion_matrix(y_test, preds_rf))\n",
    "print(\"RF's AUC-ROC is: %3.2f\" % (roc_auc_score(y_test, preds_rf)))\n",
    "\n",
    "#plot the curve\n",
    "fpr, tpr, threshold = roc_curve(y_test, preds_rf)\n",
    "auc = roc_auc_score(y_test, preds_rf)\n",
    "fig, ax = plt.subplots(figsize=(6,6))\n",
    "ax.set_title('Receiver Operating Characteristic')\n",
    "plt.plot(fpr, tpr, 'b',label='Model - AUC = %0.3f'% auc)\n",
    "ax.legend(loc='lower right')\n",
    "plt.plot([0,1],[0,1],'r--', label='Chance')\n",
    "ax.legend()\n",
    "ax.set_xlim([-0.1,1.0])\n",
    "ax.set_ylim([-0.1,1.01])\n",
    "ax.set_ylabel('True Positive Rate')\n",
    "ax.set_xlabel('False Positive Rate')\n",
    "plt.show()"
   ]
  },
  {
   "cell_type": "markdown",
   "metadata": {},
   "source": [
    "## 2. XGBoost"
   ]
  },
  {
   "cell_type": "code",
   "execution_count": 424,
   "metadata": {},
   "outputs": [
    {
     "name": "stdout",
     "output_type": "stream",
     "text": [
      "Confusion Matrix for XGBoost\n",
      " [[7235    0]\n",
      " [ 917 6527]]\n",
      "XGBoost's AUC-ROC is: 0.94\n",
      "F1 score for XGBoost is 0.9343640397967218\n"
     ]
    },
    {
     "data": {
      "image/png": "[encoded data removed]",
      "text/plain": [
       "<Figure size 432x432 with 1 Axes>"
      ]
     },
     "metadata": {},
     "output_type": "display_data"
    }
   ],
   "source": [
    "xgb = XGBClassifier(n_estimators=100)\n",
    "training_start = time.perf_counter()\n",
    "xgb.fit(X_train, y_train)\n",
    "training_end = time.perf_counter()\n",
    "prediction_start = time.perf_counter()\n",
    "preds_xgb = xgb.predict(X_test)\n",
    "prediction_end = time.perf_counter()\n",
    "acc_xgb = accuracy_score(y_test,preds_xgb)\n",
    "ROC_XGboost = roc_auc_score(y_test,preds_xgb)\n",
    "xgb_train_time = training_end-training_start\n",
    "xgb_prediction_time = prediction_end-prediction_start\n",
    "print('Confusion Matrix for XGBoost\\n', confusion_matrix(y_test, preds_xgb))\n",
    "print(\"XGBoost's AUC-ROC is: %3.2f\" % (roc_auc_score(y_test,preds_xgb)))\n",
    "print('F1 score for XGBoost is',f1_score(y_test, preds_xgb))\n",
    "\n",
    "#plot the curve\n",
    "fpr, tpr, threshold = roc_curve(y_test, preds_xgb)\n",
    "auc = roc_auc_score(y_test, preds_xgb)\n",
    "fig, ax = plt.subplots(figsize=(6,6))\n",
    "ax.set_title('Receiver Operating Characteristic')\n",
    "plt.plot(fpr, tpr, 'b',label='Model - AUC = %0.3f'% auc)\n",
    "ax.legend(loc='lower right')\n",
    "plt.plot([0,1],[0,1],'r--', label='Chance')\n",
    "ax.legend()\n",
    "ax.set_xlim([-0.1,1.0])\n",
    "ax.set_ylim([-0.1,1.01])\n",
    "ax.set_ylabel('True Positive Rate')\n",
    "ax.set_xlabel('False Positive Rate')\n",
    "plt.show()"
   ]
  },
  {
   "cell_type": "markdown",
   "metadata": {},
   "source": [
    "## 3. Logistic Regression"
   ]
  },
  {
   "cell_type": "code",
   "execution_count": 425,
   "metadata": {},
   "outputs": [
    {
     "name": "stdout",
     "output_type": "stream",
     "text": [
      "Confusion Matrix for Logistic Regression\n",
      " [[6022 1213]\n",
      " [1200 6244]]\n",
      "F1_Score 0.8380645594255418\n",
      "Logistic Regression's AUC-ROC is: 0.84\n"
     ]
    },
    {
     "data": {
      "image/png": "[encoded data removed]",
      "text/plain": [
       "<Figure size 432x432 with 1 Axes>"
      ]
     },
     "metadata": {},
     "output_type": "display_data"
    }
   ],
   "source": [
    "lr = LogisticRegression(random_state=0, solver='lbfgs', multi_class='multinomial').fit(X_train, y_train)\n",
    "preds_lr = lr.predict(X_test)\n",
    "print('Confusion Matrix for Logistic Regression\\n', confusion_matrix(y_test, preds_lr))\n",
    "print('F1_Score', f1_score(y_test,preds_lr))\n",
    "print(\"Logistic Regression's AUC-ROC is: %3.2f\" % (roc_auc_score(y_test, preds_lr)))\n",
    "\n",
    "#plot the curve\n",
    "fpr, tpr, threshold = roc_curve(y_test, preds_lr)\n",
    "auc = roc_auc_score(y_test, preds_lr)\n",
    "fig, ax = plt.subplots(figsize=(6,6))\n",
    "ax.set_title('Receiver Operating Characteristic')\n",
    "plt.plot(fpr, tpr, 'b',label='Model - AUC = %0.3f'% auc)\n",
    "ax.legend(loc='lower right')\n",
    "plt.plot([0,1],[0,1],'r--', label='Chance')\n",
    "ax.legend()\n",
    "ax.set_xlim([-0.1,1.0])\n",
    "ax.set_ylim([-0.1,1.01])\n",
    "ax.set_ylabel('True Positive Rate')\n",
    "ax.set_xlabel('False Positive Rate')\n",
    "plt.show()"
   ]
  },
  {
   "cell_type": "markdown",
   "metadata": {},
   "source": [
    "## 4. SVM"
   ]
  },
  {
   "cell_type": "code",
   "execution_count": 426,
   "metadata": {},
   "outputs": [],
   "source": [
    "# t = time.time()\n",
    "# svc = SVC(kernel='poly',random_state=0)\n",
    "# svc.fit(X_train, y_train)\n",
    "# print(time.time()-t,'sec')"
   ]
  },
  {
   "cell_type": "markdown",
   "metadata": {},
   "source": [
    "SVM was taking too much time to run and hence I had to stop it"
   ]
  },
  {
   "cell_type": "markdown",
   "metadata": {},
   "source": [
    "## 5. Neural Network"
   ]
  },
  {
   "cell_type": "code",
   "execution_count": 427,
   "metadata": {},
   "outputs": [
    {
     "name": "stdout",
     "output_type": "stream",
     "text": [
      "Epoch 1/200\n",
      "128253/128253 [==============================] - 5s 42us/step - loss: 0.4032 - acc: 0.8163\n",
      "Epoch 2/200\n",
      "128253/128253 [==============================] - 3s 26us/step - loss: 0.2976 - acc: 0.8816\n",
      "Epoch 3/200\n",
      "128253/128253 [==============================] - 4s 30us/step - loss: 0.2703 - acc: 0.8965\n",
      "Epoch 4/200\n",
      "128253/128253 [==============================] - 4s 27us/step - loss: 0.2569 - acc: 0.9030\n",
      "Epoch 5/200\n",
      "128253/128253 [==============================] - 3s 26us/step - loss: 0.2523 - acc: 0.9056\n",
      "Epoch 6/200\n",
      "128253/128253 [==============================] - 3s 25us/step - loss: 0.2471 - acc: 0.9090\n",
      "Epoch 7/200\n",
      "128253/128253 [==============================] - 4s 29us/step - loss: 0.2407 - acc: 0.9123\n",
      "Epoch 8/200\n",
      "128253/128253 [==============================] - 4s 34us/step - loss: 0.2354 - acc: 0.9149\n",
      "Epoch 9/200\n",
      "128253/128253 [==============================] - 4s 29us/step - loss: 0.2505 - acc: 0.9083\n",
      "Epoch 10/200\n",
      "128253/128253 [==============================] - ETA: 0s - loss: 0.2350 - acc: 0.915 - 3s 27us/step - loss: 0.2354 - acc: 0.9148\n",
      "Epoch 11/200\n",
      "128253/128253 [==============================] - 3s 25us/step - loss: 0.2288 - acc: 0.9187\n",
      "Epoch 12/200\n",
      "128253/128253 [==============================] - 3s 24us/step - loss: 0.2306 - acc: 0.9187\n",
      "Epoch 13/200\n",
      "128253/128253 [==============================] - 3s 24us/step - loss: 0.2230 - acc: 0.9215\n",
      "Epoch 14/200\n",
      "128253/128253 [==============================] - 3s 24us/step - loss: 0.2272 - acc: 0.9198\n",
      "Epoch 15/200\n",
      "128253/128253 [==============================] - 3s 25us/step - loss: 0.2178 - acc: 0.9241\n",
      "Epoch 16/200\n",
      "128253/128253 [==============================] - 4s 27us/step - loss: 0.2190 - acc: 0.9235\n",
      "Epoch 17/200\n",
      "128253/128253 [==============================] - 3s 27us/step - loss: 0.2168 - acc: 0.9245\n",
      "Epoch 18/200\n",
      "128253/128253 [==============================] - 3s 26us/step - loss: 0.2287 - acc: 0.9185\n",
      "Epoch 19/200\n",
      "128253/128253 [==============================] - 4s 30us/step - loss: 0.2174 - acc: 0.9247\n",
      "Epoch 20/200\n",
      "128253/128253 [==============================] - 4s 29us/step - loss: 0.2372 - acc: 0.9131\n",
      "Epoch 21/200\n",
      "128253/128253 [==============================] - 4s 30us/step - loss: 0.2137 - acc: 0.9264\n",
      "Epoch 22/200\n",
      "128253/128253 [==============================] - 4s 33us/step - loss: 0.2142 - acc: 0.9259\n",
      "Epoch 23/200\n",
      "128253/128253 [==============================] - 4s 29us/step - loss: 0.2116 - acc: 0.9272\n",
      "Epoch 24/200\n",
      "128253/128253 [==============================] - 4s 31us/step - loss: 0.2130 - acc: 0.9265\n",
      "Epoch 25/200\n",
      "128253/128253 [==============================] - 3s 27us/step - loss: 0.2099 - acc: 0.9280\n",
      "Epoch 26/200\n",
      "128253/128253 [==============================] - 4s 30us/step - loss: 0.2103 - acc: 0.9283\n",
      "Epoch 27/200\n",
      "128253/128253 [==============================] - 4s 28us/step - loss: 0.2108 - acc: 0.9276\n",
      "Epoch 28/200\n",
      "128253/128253 [==============================] - 4s 30us/step - loss: 0.2105 - acc: 0.9278\n",
      "Epoch 29/200\n",
      "128253/128253 [==============================] - 4s 28us/step - loss: 0.2090 - acc: 0.9287\n",
      "Epoch 30/200\n",
      "128253/128253 [==============================] - 4s 30us/step - loss: 0.2082 - acc: 0.9291\n",
      "Epoch 31/200\n",
      "128253/128253 [==============================] - 5s 38us/step - loss: 0.2085 - acc: 0.9290\n",
      "Epoch 32/200\n",
      "128253/128253 [==============================] - 4s 35us/step - loss: 0.2087 - acc: 0.9288\n",
      "Epoch 33/200\n",
      "128253/128253 [==============================] - 5s 37us/step - loss: 0.2063 - acc: 0.9299\n",
      "Epoch 34/200\n",
      "128253/128253 [==============================] - 5s 36us/step - loss: 0.2070 - acc: 0.9296\n",
      "Epoch 35/200\n",
      "128253/128253 [==============================] - 4s 32us/step - loss: 0.2058 - acc: 0.9299\n",
      "Epoch 36/200\n",
      "128253/128253 [==============================] - 5s 37us/step - loss: 0.2075 - acc: 0.9294\n",
      "Epoch 37/200\n",
      "128253/128253 [==============================] - 5s 38us/step - loss: 0.2055 - acc: 0.9302\n",
      "Epoch 38/200\n",
      "128253/128253 [==============================] - 4s 33us/step - loss: 0.2073 - acc: 0.9295\n",
      "Epoch 39/200\n",
      "128253/128253 [==============================] - 5s 35us/step - loss: 0.2044 - acc: 0.9308\n",
      "Epoch 40/200\n",
      "128253/128253 [==============================] - 5s 37us/step - loss: 0.2058 - acc: 0.9299\n",
      "Epoch 41/200\n",
      "128253/128253 [==============================] - 4s 31us/step - loss: 0.2043 - acc: 0.9307\n",
      "Epoch 42/200\n",
      "128253/128253 [==============================] - 4s 31us/step - loss: 0.2052 - acc: 0.9304\n",
      "Epoch 43/200\n",
      "128253/128253 [==============================] - 4s 32us/step - loss: 0.2064 - acc: 0.9300\n",
      "Epoch 44/200\n",
      "128253/128253 [==============================] - 4s 33us/step - loss: 0.2040 - acc: 0.9308\n",
      "Epoch 45/200\n",
      "128253/128253 [==============================] - 4s 34us/step - loss: 0.2054 - acc: 0.9302\n",
      "Epoch 46/200\n",
      "128253/128253 [==============================] - 5s 36us/step - loss: 0.2047 - acc: 0.9308\n",
      "Epoch 47/200\n",
      "128253/128253 [==============================] - 4s 33us/step - loss: 0.2028 - acc: 0.9314\n",
      "Epoch 48/200\n",
      "128253/128253 [==============================] - 4s 32us/step - loss: 0.2042 - acc: 0.9311\n",
      "Epoch 49/200\n",
      "128253/128253 [==============================] - 5s 42us/step - loss: 0.2025 - acc: 0.9318\n",
      "Epoch 50/200\n",
      "128253/128253 [==============================] - 5s 42us/step - loss: 0.2057 - acc: 0.9300\n",
      "Epoch 51/200\n",
      "128253/128253 [==============================] - 5s 39us/step - loss: 0.2047 - acc: 0.9308\n",
      "Epoch 52/200\n",
      "128253/128253 [==============================] - 5s 42us/step - loss: 0.2043 - acc: 0.9309\n",
      "Epoch 53/200\n",
      "128253/128253 [==============================] - 5s 40us/step - loss: 0.2032 - acc: 0.9313\n",
      "Epoch 54/200\n",
      "128253/128253 [==============================] - 4s 35us/step - loss: 0.2050 - acc: 0.9307\n",
      "Epoch 55/200\n",
      "128253/128253 [==============================] - 4s 32us/step - loss: 0.2057 - acc: 0.9299\n",
      "Epoch 56/200\n",
      "128253/128253 [==============================] - 4s 32us/step - loss: 0.2012 - acc: 0.9323\n",
      "Epoch 57/200\n",
      "128253/128253 [==============================] - 4s 33us/step - loss: 0.2038 - acc: 0.9307\n",
      "Epoch 58/200\n",
      "128253/128253 [==============================] - 4s 33us/step - loss: 0.2032 - acc: 0.9313\n",
      "Epoch 59/200\n",
      "128253/128253 [==============================] - 4s 32us/step - loss: 0.2024 - acc: 0.9317\n",
      "Epoch 60/200\n",
      "128253/128253 [==============================] - 4s 33us/step - loss: 0.2019 - acc: 0.9321\n",
      "Epoch 61/200\n",
      "128253/128253 [==============================] - 4s 33us/step - loss: 0.2020 - acc: 0.9319\n",
      "Epoch 62/200\n",
      "128253/128253 [==============================] - 5s 38us/step - loss: 0.2024 - acc: 0.9314\n",
      "Epoch 63/200\n",
      "128253/128253 [==============================] - 5s 37us/step - loss: 0.2591 - acc: 0.9000\n",
      "Epoch 64/200\n",
      "128253/128253 [==============================] - 5s 35us/step - loss: 0.2171 - acc: 0.9256\n",
      "Epoch 65/200\n",
      "128253/128253 [==============================] - 5s 41us/step - loss: 0.2143 - acc: 0.9267\n",
      "Epoch 66/200\n",
      "128253/128253 [==============================] - 6s 48us/step - loss: 0.2095 - acc: 0.9290\n",
      "Epoch 67/200\n",
      "128253/128253 [==============================] - 6s 48us/step - loss: 0.2084 - acc: 0.9292\n",
      "Epoch 68/200\n",
      "128253/128253 [==============================] - 6s 46us/step - loss: 0.2076 - acc: 0.9295\n",
      "Epoch 69/200\n",
      "128253/128253 [==============================] - 5s 40us/step - loss: 0.2076 - acc: 0.9293\n",
      "Epoch 70/200\n",
      "128253/128253 [==============================] - 4s 35us/step - loss: 0.2060 - acc: 0.9304\n",
      "Epoch 71/200\n",
      "128253/128253 [==============================] - 5s 38us/step - loss: 0.2058 - acc: 0.9304\n",
      "Epoch 72/200\n",
      "128253/128253 [==============================] - 5s 43us/step - loss: 0.2049 - acc: 0.9306\n",
      "Epoch 73/200\n",
      "128253/128253 [==============================] - 6s 46us/step - loss: 0.2056 - acc: 0.9302\n",
      "Epoch 74/200\n",
      "128253/128253 [==============================] - 5s 41us/step - loss: 0.2049 - acc: 0.9306\n",
      "Epoch 75/200\n",
      "128253/128253 [==============================] - 5s 40us/step - loss: 0.2052 - acc: 0.9304\n",
      "Epoch 76/200\n",
      "128253/128253 [==============================] - 5s 41us/step - loss: 0.2043 - acc: 0.9309\n",
      "Epoch 77/200\n",
      "128253/128253 [==============================] - 5s 38us/step - loss: 0.2030 - acc: 0.9317\n",
      "Epoch 78/200\n",
      "128253/128253 [==============================] - 5s 38us/step - loss: 0.2042 - acc: 0.9306\n",
      "Epoch 79/200\n"
     ]
    },
    {
     "name": "stdout",
     "output_type": "stream",
     "text": [
      "128253/128253 [==============================] - 4s 32us/step - loss: 0.2037 - acc: 0.9311\n",
      "Epoch 80/200\n",
      "128253/128253 [==============================] - 4s 31us/step - loss: 0.2012 - acc: 0.9324\n",
      "Epoch 81/200\n",
      "128253/128253 [==============================] - 4s 32us/step - loss: 0.2025 - acc: 0.9318\n",
      "Epoch 82/200\n",
      "128253/128253 [==============================] - 5s 35us/step - loss: 0.2016 - acc: 0.9321\n",
      "Epoch 83/200\n",
      "128253/128253 [==============================] - 6s 44us/step - loss: 0.2040 - acc: 0.9308\n",
      "Epoch 84/200\n",
      "128253/128253 [==============================] - 5s 42us/step - loss: 0.2013 - acc: 0.9324\n",
      "Epoch 85/200\n",
      "128253/128253 [==============================] - 5s 43us/step - loss: 0.2030 - acc: 0.9317\n",
      "Epoch 86/200\n",
      "128253/128253 [==============================] - 5s 42us/step - loss: 0.2016 - acc: 0.9322\n",
      "Epoch 87/200\n",
      "128253/128253 [==============================] - 5s 40us/step - loss: 0.2007 - acc: 0.9324\n",
      "Epoch 88/200\n",
      "128253/128253 [==============================] - 6s 46us/step - loss: 0.2009 - acc: 0.9327\n",
      "Epoch 89/200\n",
      "128253/128253 [==============================] - 6s 47us/step - loss: 0.2020 - acc: 0.9318\n",
      "Epoch 90/200\n",
      "128253/128253 [==============================] - 6s 49us/step - loss: 0.2025 - acc: 0.9315\n",
      "Epoch 91/200\n",
      "128253/128253 [==============================] - 5s 42us/step - loss: 0.2006 - acc: 0.9326\n",
      "Epoch 92/200\n",
      "128253/128253 [==============================] - 4s 33us/step - loss: 0.2011 - acc: 0.9321\n",
      "Epoch 93/200\n",
      "128253/128253 [==============================] - 5s 40us/step - loss: 0.2016 - acc: 0.9322\n",
      "Epoch 94/200\n",
      "128253/128253 [==============================] - 6s 45us/step - loss: 0.2000 - acc: 0.9329\n",
      "Epoch 95/200\n",
      "128253/128253 [==============================] - 6s 44us/step - loss: 0.2005 - acc: 0.9324\n",
      "Epoch 96/200\n",
      "128253/128253 [==============================] - 5s 42us/step - loss: 0.1999 - acc: 0.9329\n",
      "Epoch 97/200\n",
      "128253/128253 [==============================] - 5s 37us/step - loss: 0.2008 - acc: 0.9322\n",
      "Epoch 98/200\n",
      "128253/128253 [==============================] - 5s 36us/step - loss: 0.2013 - acc: 0.9321\n",
      "Epoch 99/200\n",
      "128253/128253 [==============================] - 4s 33us/step - loss: 0.2032 - acc: 0.9312\n",
      "Epoch 100/200\n",
      "128253/128253 [==============================] - 4s 34us/step - loss: 0.2002 - acc: 0.9328\n",
      "Epoch 101/200\n",
      "128253/128253 [==============================] - 4s 33us/step - loss: 0.1995 - acc: 0.9332\n",
      "Epoch 102/200\n",
      "128253/128253 [==============================] - 4s 34us/step - loss: 0.2004 - acc: 0.9325\n",
      "Epoch 103/200\n",
      "128253/128253 [==============================] - 4s 34us/step - loss: 0.2012 - acc: 0.9325\n",
      "Epoch 104/200\n",
      "128253/128253 [==============================] - 5s 36us/step - loss: 0.2001 - acc: 0.9329\n",
      "Epoch 105/200\n",
      "128253/128253 [==============================] - 4s 34us/step - loss: 0.1993 - acc: 0.9330\n",
      "Epoch 106/200\n",
      "128253/128253 [==============================] - 5s 38us/step - loss: 0.2005 - acc: 0.9324\n",
      "Epoch 107/200\n",
      "128253/128253 [==============================] - 6s 48us/step - loss: 0.1999 - acc: 0.9330\n",
      "Epoch 108/200\n",
      "128253/128253 [==============================] - 6s 46us/step - loss: 0.2016 - acc: 0.9321\n",
      "Epoch 109/200\n",
      "128253/128253 [==============================] - 5s 39us/step - loss: 0.2001 - acc: 0.9326\n",
      "Epoch 110/200\n",
      "128253/128253 [==============================] - 5s 37us/step - loss: 0.1983 - acc: 0.9335\n",
      "Epoch 111/200\n",
      "128253/128253 [==============================] - 5s 35us/step - loss: 0.1996 - acc: 0.9326\n",
      "Epoch 112/200\n",
      "128253/128253 [==============================] - 5s 38us/step - loss: 0.1989 - acc: 0.9330\n",
      "Epoch 113/200\n",
      "128253/128253 [==============================] - 5s 43us/step - loss: 0.1997 - acc: 0.9326\n",
      "Epoch 114/200\n",
      "128253/128253 [==============================] - 6s 43us/step - loss: 0.1991 - acc: 0.9331\n",
      "Epoch 115/200\n",
      "128253/128253 [==============================] - 5s 36us/step - loss: 0.1989 - acc: 0.9332\n",
      "Epoch 116/200\n",
      "128253/128253 [==============================] - 5s 42us/step - loss: 0.1984 - acc: 0.9336\n",
      "Epoch 117/200\n",
      "128253/128253 [==============================] - 5s 41us/step - loss: 0.1985 - acc: 0.9336\n",
      "Epoch 118/200\n",
      "128253/128253 [==============================] - 6s 43us/step - loss: 0.1980 - acc: 0.9337\n",
      "Epoch 119/200\n",
      "128253/128253 [==============================] - 6s 44us/step - loss: 0.1974 - acc: 0.9340\n",
      "Epoch 120/200\n",
      "128253/128253 [==============================] - 5s 42us/step - loss: 0.1979 - acc: 0.9335\n",
      "Epoch 121/200\n",
      "128253/128253 [==============================] - 5s 42us/step - loss: 0.1981 - acc: 0.9335\n",
      "Epoch 122/200\n",
      "128253/128253 [==============================] - 6s 44us/step - loss: 0.1989 - acc: 0.9330\n",
      "Epoch 123/200\n",
      "128253/128253 [==============================] - 5s 43us/step - loss: 0.2056 - acc: 0.9309\n",
      "Epoch 124/200\n",
      "128253/128253 [==============================] - 5s 42us/step - loss: 0.1981 - acc: 0.9336\n",
      "Epoch 125/200\n",
      "128253/128253 [==============================] - 5s 43us/step - loss: 0.1969 - acc: 0.9341\n",
      "Epoch 126/200\n",
      "128253/128253 [==============================] - 5s 37us/step - loss: 0.1981 - acc: 0.9333\n",
      "Epoch 127/200\n",
      "128253/128253 [==============================] - 5s 41us/step - loss: 0.1979 - acc: 0.9336\n",
      "Epoch 128/200\n",
      "128253/128253 [==============================] - 6s 45us/step - loss: 0.1977 - acc: 0.9336\n",
      "Epoch 129/200\n",
      "128253/128253 [==============================] - 6s 45us/step - loss: 0.1995 - acc: 0.9329\n",
      "Epoch 130/200\n",
      "128253/128253 [==============================] - 6s 43us/step - loss: 0.1981 - acc: 0.9335\n",
      "Epoch 131/200\n",
      "128253/128253 [==============================] - 6s 44us/step - loss: 0.1978 - acc: 0.9336\n",
      "Epoch 132/200\n",
      "128253/128253 [==============================] - 6s 44us/step - loss: 0.1981 - acc: 0.9334\n",
      "Epoch 133/200\n",
      "128253/128253 [==============================] - 6s 46us/step - loss: 0.1965 - acc: 0.9340\n",
      "Epoch 134/200\n",
      "128253/128253 [==============================] - 6s 50us/step - loss: 0.1975 - acc: 0.9336\n",
      "Epoch 135/200\n",
      "128253/128253 [==============================] - 6s 47us/step - loss: 0.1980 - acc: 0.9331\n",
      "Epoch 136/200\n",
      "128253/128253 [==============================] - 6s 48us/step - loss: 0.1984 - acc: 0.9332\n",
      "Epoch 137/200\n",
      "128253/128253 [==============================] - 5s 41us/step - loss: 0.1961 - acc: 0.9342\n",
      "Epoch 138/200\n",
      "128253/128253 [==============================] - 6s 46us/step - loss: 0.1969 - acc: 0.9341\n",
      "Epoch 139/200\n",
      "128253/128253 [==============================] - 6s 45us/step - loss: 0.1980 - acc: 0.9333\n",
      "Epoch 140/200\n",
      "128253/128253 [==============================] - 6s 43us/step - loss: 0.1972 - acc: 0.9339\n",
      "Epoch 141/200\n",
      "128253/128253 [==============================] - 6s 44us/step - loss: 0.1965 - acc: 0.9340\n",
      "Epoch 142/200\n",
      "128253/128253 [==============================] - 6s 44us/step - loss: 0.1980 - acc: 0.9331\n",
      "Epoch 143/200\n",
      "128253/128253 [==============================] - 6s 46us/step - loss: 0.1975 - acc: 0.9335\n",
      "Epoch 144/200\n",
      "128253/128253 [==============================] - 6s 47us/step - loss: 0.1975 - acc: 0.9334\n",
      "Epoch 145/200\n",
      "128253/128253 [==============================] - 6s 45us/step - loss: 0.1968 - acc: 0.9338\n",
      "Epoch 146/200\n",
      "128253/128253 [==============================] - 5s 39us/step - loss: 0.1966 - acc: 0.9339\n",
      "Epoch 147/200\n",
      "128253/128253 [==============================] - 6s 50us/step - loss: 0.1963 - acc: 0.9339\n",
      "Epoch 148/200\n",
      "128253/128253 [==============================] - 6s 48us/step - loss: 0.1975 - acc: 0.9336\n",
      "Epoch 149/200\n",
      "128253/128253 [==============================] - 5s 40us/step - loss: 0.1965 - acc: 0.9341\n",
      "Epoch 150/200\n",
      "128253/128253 [==============================] - 5s 37us/step - loss: 0.2014 - acc: 0.9319\n",
      "Epoch 151/200\n",
      "128253/128253 [==============================] - 6s 46us/step - loss: 0.1971 - acc: 0.9339\n",
      "Epoch 152/200\n",
      "128253/128253 [==============================] - 6s 46us/step - loss: 0.1968 - acc: 0.9338\n",
      "Epoch 153/200\n",
      "128253/128253 [==============================] - 6s 44us/step - loss: 0.1971 - acc: 0.9338\n",
      "Epoch 154/200\n",
      "128253/128253 [==============================] - 5s 41us/step - loss: 0.1983 - acc: 0.9336\n",
      "Epoch 155/200\n",
      "128253/128253 [==============================] - 5s 40us/step - loss: 0.1950 - acc: 0.9347\n",
      "Epoch 156/200\n",
      "128253/128253 [==============================] - 6s 44us/step - loss: 0.1958 - acc: 0.9343\n",
      "Epoch 157/200\n"
     ]
    },
    {
     "name": "stdout",
     "output_type": "stream",
     "text": [
      "128253/128253 [==============================] - 6s 45us/step - loss: 0.1952 - acc: 0.9344\n",
      "Epoch 158/200\n",
      "128253/128253 [==============================] - 6s 47us/step - loss: 0.1958 - acc: 0.9342\n",
      "Epoch 159/200\n",
      "128253/128253 [==============================] - 6s 45us/step - loss: 0.1978 - acc: 0.9332\n",
      "Epoch 160/200\n",
      "128253/128253 [==============================] - 6s 43us/step - loss: 0.1946 - acc: 0.9349\n",
      "Epoch 161/200\n",
      "128253/128253 [==============================] - 6s 44us/step - loss: 0.1970 - acc: 0.9334\n",
      "Epoch 162/200\n",
      "128253/128253 [==============================] - 6s 45us/step - loss: 0.1962 - acc: 0.9341\n",
      "Epoch 163/200\n",
      "128253/128253 [==============================] - 5s 40us/step - loss: 0.1950 - acc: 0.9347\n",
      "Epoch 164/200\n",
      "128253/128253 [==============================] - 5s 37us/step - loss: 0.1944 - acc: 0.9348\n",
      "Epoch 165/200\n",
      "128253/128253 [==============================] - 5s 41us/step - loss: 0.1965 - acc: 0.9338\n",
      "Epoch 166/200\n",
      "128253/128253 [==============================] - 5s 41us/step - loss: 0.1951 - acc: 0.9346\n",
      "Epoch 167/200\n",
      "128253/128253 [==============================] - 6s 45us/step - loss: 0.1975 - acc: 0.9332\n",
      "Epoch 168/200\n",
      "128253/128253 [==============================] - 6s 44us/step - loss: 0.1952 - acc: 0.9344\n",
      "Epoch 169/200\n",
      "128253/128253 [==============================] - 5s 42us/step - loss: 0.1957 - acc: 0.9344\n",
      "Epoch 170/200\n",
      "128253/128253 [==============================] - 5s 38us/step - loss: 0.1951 - acc: 0.9343\n",
      "Epoch 171/200\n",
      "128253/128253 [==============================] - 6s 45us/step - loss: 0.1971 - acc: 0.9335\n",
      "Epoch 172/200\n",
      "128253/128253 [==============================] - 5s 37us/step - loss: 0.1957 - acc: 0.9340\n",
      "Epoch 173/200\n",
      "128253/128253 [==============================] - 6s 47us/step - loss: 0.1951 - acc: 0.9343\n",
      "Epoch 174/200\n",
      "128253/128253 [==============================] - 6s 43us/step - loss: 0.1951 - acc: 0.9347\n",
      "Epoch 175/200\n",
      "128253/128253 [==============================] - 6s 43us/step - loss: 0.1970 - acc: 0.9337\n",
      "Epoch 176/200\n",
      "128253/128253 [==============================] - 5s 39us/step - loss: 0.1961 - acc: 0.9339\n",
      "Epoch 177/200\n",
      "128253/128253 [==============================] - 5s 40us/step - loss: 0.1952 - acc: 0.9345\n",
      "Epoch 178/200\n",
      "128253/128253 [==============================] - 5s 39us/step - loss: 0.1946 - acc: 0.9345\n",
      "Epoch 179/200\n",
      "128253/128253 [==============================] - 5s 41us/step - loss: 0.1942 - acc: 0.9347\n",
      "Epoch 180/200\n",
      "128253/128253 [==============================] - 6s 46us/step - loss: 0.1966 - acc: 0.9334\n",
      "Epoch 181/200\n",
      "128253/128253 [==============================] - 6s 47us/step - loss: 0.1940 - acc: 0.9346\n",
      "Epoch 182/200\n",
      "128253/128253 [==============================] - 6s 47us/step - loss: 0.1946 - acc: 0.9348\n",
      "Epoch 183/200\n",
      "128253/128253 [==============================] - 6s 44us/step - loss: 0.1956 - acc: 0.9341\n",
      "Epoch 184/200\n",
      "128253/128253 [==============================] - 6s 46us/step - loss: 0.1936 - acc: 0.9350\n",
      "Epoch 185/200\n",
      "128253/128253 [==============================] - 6s 48us/step - loss: 0.1953 - acc: 0.9340\n",
      "Epoch 186/200\n",
      "128253/128253 [==============================] - 5s 42us/step - loss: 0.1933 - acc: 0.9352\n",
      "Epoch 187/200\n",
      "128253/128253 [==============================] - 5s 43us/step - loss: 0.1939 - acc: 0.9346\n",
      "Epoch 188/200\n",
      "128253/128253 [==============================] - 5s 41us/step - loss: 0.1941 - acc: 0.9346\n",
      "Epoch 189/200\n",
      "128253/128253 [==============================] - 5s 40us/step - loss: 0.1942 - acc: 0.9346\n",
      "Epoch 190/200\n",
      "128253/128253 [==============================] - 6s 43us/step - loss: 0.1949 - acc: 0.9344\n",
      "Epoch 191/200\n",
      "128253/128253 [==============================] - 5s 41us/step - loss: 0.1946 - acc: 0.9346\n",
      "Epoch 192/200\n",
      "128253/128253 [==============================] - 5s 39us/step - loss: 0.1943 - acc: 0.9346\n",
      "Epoch 193/200\n",
      "128253/128253 [==============================] - 5s 37us/step - loss: 0.1955 - acc: 0.9340\n",
      "Epoch 194/200\n",
      "128253/128253 [==============================] - 5s 37us/step - loss: 0.1932 - acc: 0.9349\n",
      "Epoch 195/200\n",
      "128253/128253 [==============================] - 5s 37us/step - loss: 0.1934 - acc: 0.9349\n",
      "Epoch 196/200\n",
      "128253/128253 [==============================] - 5s 38us/step - loss: 0.1948 - acc: 0.9342\n",
      "Epoch 197/200\n",
      "128253/128253 [==============================] - 6s 48us/step - loss: 0.1937 - acc: 0.9350\n",
      "Epoch 198/200\n",
      "128253/128253 [==============================] - 6s 45us/step - loss: 0.1937 - acc: 0.9348\n",
      "Epoch 199/200\n",
      "128253/128253 [==============================] - 6s 43us/step - loss: 0.1934 - acc: 0.9347\n",
      "Epoch 200/200\n",
      "128253/128253 [==============================] - 6s 46us/step - loss: 0.1937 - acc: 0.9347\n"
     ]
    }
   ],
   "source": [
    "clf = Sequential()\n",
    "\n",
    "# Adding input layer and the first hidden layer\n",
    "clf.add(Dense(output_dim = 512, init = 'glorot_normal', activation = 'relu', input_dim = 7))\n",
    "\n",
    "# Adding second hidden layer\n",
    "clf.add(Dense(output_dim = 256, init = 'uniform', activation = 'relu'))\n",
    "\n",
    "# Adding third hidden layer\n",
    "clf.add(Dense(output_dim = 128, init = 'uniform', activation = 'relu'))\n",
    "\n",
    "# Adding fourth hidden layer\n",
    "clf.add(Dense(output_dim = 64, init = 'uniform', activation = 'relu'))\n",
    "\n",
    "# Adding output layer\n",
    "clf.add(Dense(output_dim = 1, init = 'uniform', activation = 'sigmoid'))\n",
    "\n",
    "# Compiling neural nets\n",
    "clf.compile(optimizer = 'adam', loss = 'binary_crossentropy', metrics = ['accuracy'])\n",
    "\n",
    "# Training\n",
    "clf.fit(X_train, y_train, batch_size = 250, nb_epoch = 200)\n",
    "\n",
    "# predicting & evaluating the model\n",
    "df_pred_y = clf.predict(X_test)\n",
    "y_pred = (df_pred_y > 0.5)"
   ]
  },
  {
   "cell_type": "code",
   "execution_count": 428,
   "metadata": {},
   "outputs": [
    {
     "name": "stdout",
     "output_type": "stream",
     "text": [
      "Confusion Matrix for LR\n",
      " [[7222   13]\n",
      " [1019 6425]]\n",
      "F1_Score 0.9256591269269558\n",
      "Neural Network's AUC-ROC is: 0.93\n"
     ]
    },
    {
     "data": {
      "image/png": "[encoded data removed]",
      "text/plain": [
       "<Figure size 432x432 with 1 Axes>"
      ]
     },
     "metadata": {},
     "output_type": "display_data"
    }
   ],
   "source": [
    "pred_y = clf.predict(X_test)\n",
    "preds_nn = (pred_y > 0.50)\n",
    "print('Confusion Matrix for LR\\n', confusion_matrix(y_test, preds_nn))\n",
    "print('F1_Score', f1_score(y_test,preds_nn))\n",
    "print(\"Neural Network's AUC-ROC is: %3.2f\" % (roc_auc_score(y_test, preds_nn)))\n",
    "\n",
    "#plot the curve\n",
    "fpr, tpr, threshold = roc_curve(y_test, preds_nn)\n",
    "auc = roc_auc_score(y_test, preds_nn)\n",
    "fig, ax = plt.subplots(figsize=(6,6))\n",
    "ax.set_title('Receiver Operating Characteristic')\n",
    "plt.plot(fpr, tpr, 'b',label='Model - AUC = %0.3f'% auc)\n",
    "ax.legend(loc='lower right')\n",
    "plt.plot([0,1],[0,1],'r--', label='Chance')\n",
    "ax.legend()\n",
    "ax.set_xlim([-0.1,1.0])\n",
    "ax.set_ylim([-0.1,1.01])\n",
    "ax.set_ylabel('True Positive Rate')\n",
    "ax.set_xlabel('False Positive Rate')\n",
    "plt.show()"
   ]
  },
  {
   "cell_type": "markdown",
   "metadata": {},
   "source": [
    "## Results"
   ]
  },
  {
   "cell_type": "markdown",
   "metadata": {},
   "source": [
    "### Best Performer: Random Forest\n",
    "### Worst Performer: Logistic Regression\n",
    "### XGBoost and Neural Networks performed almost same as RandomForest\n",
    "### SVM - didnt work out good. It was taking a lot of time to train (one of the possible reason would be because data have been transformed into a very high-dim)"
   ]
  },
  {
   "cell_type": "markdown",
   "metadata": {},
   "source": [
    "## Part b. Consider now adding the last column to your feature set."
   ]
  },
  {
   "cell_type": "code",
   "execution_count": 429,
   "metadata": {},
   "outputs": [],
   "source": [
    "df = pd.read_csv('Apply_Rate_2019.csv')"
   ]
  },
  {
   "cell_type": "code",
   "execution_count": 430,
   "metadata": {},
   "outputs": [
    {
     "data": {
      "text/html": [
       "<div>\n",
       "<style scoped>\n",
       "    .dataframe tbody tr th:only-of-type {\n",
       "        vertical-align: middle;\n",
       "    }\n",
       "\n",
       "    .dataframe tbody tr th {\n",
       "        vertical-align: top;\n",
       "    }\n",
       "\n",
       "    .dataframe thead th {\n",
       "        text-align: right;\n",
       "    }\n",
       "</style>\n",
       "<table border=\"1\" class=\"dataframe\">\n",
       "  <thead>\n",
       "    <tr style=\"text-align: right;\">\n",
       "      <th></th>\n",
       "      <th>title_proximity_tfidf</th>\n",
       "      <th>description_proximity_tfidf</th>\n",
       "      <th>main_query_tfidf</th>\n",
       "      <th>query_jl_score</th>\n",
       "      <th>query_title_score</th>\n",
       "      <th>city_match</th>\n",
       "      <th>job_age_days</th>\n",
       "      <th>apply</th>\n",
       "      <th>search_date_pacific</th>\n",
       "      <th>class_id</th>\n",
       "    </tr>\n",
       "  </thead>\n",
       "  <tbody>\n",
       "    <tr>\n",
       "      <th>0</th>\n",
       "      <td>0.000000</td>\n",
       "      <td>0.000000</td>\n",
       "      <td>0.000000</td>\n",
       "      <td>0.004824</td>\n",
       "      <td>0.006628</td>\n",
       "      <td>0.0</td>\n",
       "      <td>5.0</td>\n",
       "      <td>0</td>\n",
       "      <td>2018-01-21</td>\n",
       "      <td>-7613806991329176388</td>\n",
       "    </tr>\n",
       "    <tr>\n",
       "      <th>1</th>\n",
       "      <td>11.874042</td>\n",
       "      <td>0.043637</td>\n",
       "      <td>2.527080</td>\n",
       "      <td>0.011935</td>\n",
       "      <td>0.011208</td>\n",
       "      <td>0.0</td>\n",
       "      <td>5.0</td>\n",
       "      <td>0</td>\n",
       "      <td>2018-01-21</td>\n",
       "      <td>-1361819269400927213</td>\n",
       "    </tr>\n",
       "    <tr>\n",
       "      <th>2</th>\n",
       "      <td>11.874042</td>\n",
       "      <td>0.043637</td>\n",
       "      <td>2.527080</td>\n",
       "      <td>0.011935</td>\n",
       "      <td>0.011208</td>\n",
       "      <td>0.0</td>\n",
       "      <td>5.0</td>\n",
       "      <td>1</td>\n",
       "      <td>2018-01-21</td>\n",
       "      <td>-1361819269400927213</td>\n",
       "    </tr>\n",
       "    <tr>\n",
       "      <th>3</th>\n",
       "      <td>0.000000</td>\n",
       "      <td>0.000000</td>\n",
       "      <td>3.695809</td>\n",
       "      <td>0.013046</td>\n",
       "      <td>0.033340</td>\n",
       "      <td>0.0</td>\n",
       "      <td>5.0</td>\n",
       "      <td>0</td>\n",
       "      <td>2018-01-23</td>\n",
       "      <td>-3623880078591607667</td>\n",
       "    </tr>\n",
       "    <tr>\n",
       "      <th>4</th>\n",
       "      <td>NaN</td>\n",
       "      <td>NaN</td>\n",
       "      <td>7.868900</td>\n",
       "      <td>0.008065</td>\n",
       "      <td>0.008772</td>\n",
       "      <td>0.0</td>\n",
       "      <td>7.0</td>\n",
       "      <td>0</td>\n",
       "      <td>2018-01-24</td>\n",
       "      <td>-7054510112423797411</td>\n",
       "    </tr>\n",
       "    <tr>\n",
       "      <th>5</th>\n",
       "      <td>0.000000</td>\n",
       "      <td>0.198377</td>\n",
       "      <td>0.000000</td>\n",
       "      <td>0.022545</td>\n",
       "      <td>0.014706</td>\n",
       "      <td>1.0</td>\n",
       "      <td>16.0</td>\n",
       "      <td>0</td>\n",
       "      <td>2018-01-24</td>\n",
       "      <td>-1305520379511432611</td>\n",
       "    </tr>\n",
       "    <tr>\n",
       "      <th>6</th>\n",
       "      <td>NaN</td>\n",
       "      <td>NaN</td>\n",
       "      <td>9.308552</td>\n",
       "      <td>0.005782</td>\n",
       "      <td>0.000003</td>\n",
       "      <td>NaN</td>\n",
       "      <td>0.0</td>\n",
       "      <td>0</td>\n",
       "      <td>2018-01-24</td>\n",
       "      <td>-8734265505719801472</td>\n",
       "    </tr>\n",
       "    <tr>\n",
       "      <th>7</th>\n",
       "      <td>NaN</td>\n",
       "      <td>NaN</td>\n",
       "      <td>9.308552</td>\n",
       "      <td>0.005782</td>\n",
       "      <td>0.000003</td>\n",
       "      <td>NaN</td>\n",
       "      <td>0.0</td>\n",
       "      <td>0</td>\n",
       "      <td>2018-01-24</td>\n",
       "      <td>-8734265505719801472</td>\n",
       "    </tr>\n",
       "    <tr>\n",
       "      <th>8</th>\n",
       "      <td>11.992127</td>\n",
       "      <td>0.118237</td>\n",
       "      <td>3.462835</td>\n",
       "      <td>0.017337</td>\n",
       "      <td>0.050844</td>\n",
       "      <td>0.0</td>\n",
       "      <td>23.0</td>\n",
       "      <td>0</td>\n",
       "      <td>2018-01-25</td>\n",
       "      <td>4315422483091001102</td>\n",
       "    </tr>\n",
       "    <tr>\n",
       "      <th>9</th>\n",
       "      <td>8.298727</td>\n",
       "      <td>0.000000</td>\n",
       "      <td>0.000000</td>\n",
       "      <td>0.019160</td>\n",
       "      <td>0.018750</td>\n",
       "      <td>1.0</td>\n",
       "      <td>0.0</td>\n",
       "      <td>0</td>\n",
       "      <td>2018-01-23</td>\n",
       "      <td>9124072227722530594</td>\n",
       "    </tr>\n",
       "  </tbody>\n",
       "</table>\n",
       "</div>"
      ],
      "text/plain": [
       "   title_proximity_tfidf  description_proximity_tfidf  main_query_tfidf  \\\n",
       "0               0.000000                     0.000000          0.000000   \n",
       "1              11.874042                     0.043637          2.527080   \n",
       "2              11.874042                     0.043637          2.527080   \n",
       "3               0.000000                     0.000000          3.695809   \n",
       "4                    NaN                          NaN          7.868900   \n",
       "5               0.000000                     0.198377          0.000000   \n",
       "6                    NaN                          NaN          9.308552   \n",
       "7                    NaN                          NaN          9.308552   \n",
       "8              11.992127                     0.118237          3.462835   \n",
       "9               8.298727                     0.000000          0.000000   \n",
       "\n",
       "   query_jl_score  query_title_score  city_match  job_age_days  apply  \\\n",
       "0        0.004824           0.006628         0.0           5.0      0   \n",
       "1        0.011935           0.011208         0.0           5.0      0   \n",
       "2        0.011935           0.011208         0.0           5.0      1   \n",
       "3        0.013046           0.033340         0.0           5.0      0   \n",
       "4        0.008065           0.008772         0.0           7.0      0   \n",
       "5        0.022545           0.014706         1.0          16.0      0   \n",
       "6        0.005782           0.000003         NaN           0.0      0   \n",
       "7        0.005782           0.000003         NaN           0.0      0   \n",
       "8        0.017337           0.050844         0.0          23.0      0   \n",
       "9        0.019160           0.018750         1.0           0.0      0   \n",
       "\n",
       "  search_date_pacific             class_id  \n",
       "0          2018-01-21 -7613806991329176388  \n",
       "1          2018-01-21 -1361819269400927213  \n",
       "2          2018-01-21 -1361819269400927213  \n",
       "3          2018-01-23 -3623880078591607667  \n",
       "4          2018-01-24 -7054510112423797411  \n",
       "5          2018-01-24 -1305520379511432611  \n",
       "6          2018-01-24 -8734265505719801472  \n",
       "7          2018-01-24 -8734265505719801472  \n",
       "8          2018-01-25  4315422483091001102  \n",
       "9          2018-01-23  9124072227722530594  "
      ]
     },
     "execution_count": 430,
     "metadata": {},
     "output_type": "execute_result"
    }
   ],
   "source": [
    "df.head(10)"
   ]
  },
  {
   "cell_type": "markdown",
   "metadata": {},
   "source": [
    "Let us first find out how many unique class_id's are there in the dataset "
   ]
  },
  {
   "cell_type": "code",
   "execution_count": 431,
   "metadata": {},
   "outputs": [
    {
     "name": "stdout",
     "output_type": "stream",
     "text": [
      "There are 157 unique class id in the dataset\n"
     ]
    }
   ],
   "source": [
    "print('There are',df['class_id'].nunique(),'unique class id in the dataset')"
   ]
  },
  {
   "cell_type": "code",
   "execution_count": 432,
   "metadata": {},
   "outputs": [],
   "source": [
    "# Get one hot encoding of columns B\n",
    "one_hot = pd.get_dummies(df['class_id'])\n",
    "# Drop column B as it is now encoded\n",
    "df = df.drop('class_id',axis = 1)\n",
    "# Join the encoded df\n",
    "df = df.join(one_hot)"
   ]
  },
  {
   "cell_type": "markdown",
   "metadata": {},
   "source": [
    "We can use One Hot Encoding in this case because there is no ordinal relationship between the categorical variables in the class id column. But before that, lets preprocess the data as we did in the previous question"
   ]
  },
  {
   "cell_type": "code",
   "execution_count": 433,
   "metadata": {},
   "outputs": [],
   "source": [
    "# As it is given to us that training has to be done on data from 01/21/2018-01/26/2018 \n",
    "# and testing on 01/27/2018, I will sort the data and split it into the required form\n",
    "\n",
    "df['search_date_pacific'] = pd.to_datetime(df['search_date_pacific'])\n",
    "df.sort_values(by = ['search_date_pacific'], inplace=True)\n",
    "train = df[df['search_date_pacific'] < '2018-01-27']\n",
    "test = df[df['search_date_pacific'] >= '2018-01-27']\n",
    "\n",
    "# Drop the timestamp\n",
    "df.drop(['search_date_pacific'],axis=1,inplace=True)\n",
    "train.drop(['search_date_pacific'],axis=1,inplace=True)\n",
    "test.drop(['search_date_pacific'],axis=1,inplace=True)"
   ]
  },
  {
   "cell_type": "code",
   "execution_count": 434,
   "metadata": {},
   "outputs": [],
   "source": [
    "df['title_proximity_tfidf'].fillna(0,inplace=True)\n",
    "df['description_proximity_tfidf'].fillna(0,inplace=True)\n",
    "df.dropna(subset=['city_match'],inplace=True)\n",
    "\n",
    "train['title_proximity_tfidf'].fillna(0,inplace=True)\n",
    "train['description_proximity_tfidf'].fillna(0,inplace=True)\n",
    "train.dropna(subset=['city_match'],inplace=True)\n",
    "\n",
    "test['title_proximity_tfidf'].fillna(0,inplace=True)\n",
    "test['description_proximity_tfidf'].fillna(0,inplace=True)\n",
    "test.dropna(subset=['city_match'],inplace=True)"
   ]
  },
  {
   "cell_type": "code",
   "execution_count": 435,
   "metadata": {},
   "outputs": [],
   "source": [
    "df_train = train[(np.abs(stats.zscore(train)) < 3).all(axis=1)]\n",
    "foo_train = pd.concat([train,df_train]).drop_duplicates(keep=False)\n",
    "\n",
    "columns = test.columns\n",
    "foo_test_only_0 = []\n",
    "foo_test = []\n",
    "for i in range(len(test)):\n",
    "    if (((test.iloc[i,:] - training_mean[:])/training_std[:])<3).all():\n",
    "        foo_test_only_0.append(test.iloc[i,:])\n",
    "    else:\n",
    "        foo_test.append(test.iloc[i,:])\n",
    "foo_test_only_0 = pd.DataFrame(testing_testing_0,columns=columns)\n",
    "foo_test = pd.DataFrame(testing_testing_01,columns=columns)"
   ]
  },
  {
   "cell_type": "code",
   "execution_count": 443,
   "metadata": {},
   "outputs": [],
   "source": [
    "scaler = StandardScaler()\n",
    "X_scaled = scaler.fit(train).transform(train)\n"
   ]
  },
  {
   "cell_type": "code",
   "execution_count": 446,
   "metadata": {},
   "outputs": [
    {
     "name": "stdout",
     "output_type": "stream",
     "text": [
      "Explained variance: 0.9962\n",
      "Individual variance contributions:\n",
      "0.8169258952359197\n",
      "0.1728311257596559\n",
      "0.006406049444163649\n"
     ]
    },
    {
     "ename": "NameError",
     "evalue": "name 'target_names' is not defined",
     "output_type": "error",
     "traceback": [
      "\u001b[0;31m---------------------------------------------------------------------------\u001b[0m",
      "\u001b[0;31mNameError\u001b[0m                                 Traceback (most recent call last)",
      "\u001b[0;32m<ipython-input-446-8ee1cbb20672>\u001b[0m in \u001b[0;36m<module>\u001b[0;34m()\u001b[0m\n\u001b[1;32m     11\u001b[0m \u001b[0mplt\u001b[0m\u001b[0;34m.\u001b[0m\u001b[0mfigure\u001b[0m\u001b[0;34m(\u001b[0m\u001b[0;36m1\u001b[0m\u001b[0;34m,\u001b[0m \u001b[0mfigsize\u001b[0m\u001b[0;34m=\u001b[0m\u001b[0;34m(\u001b[0m\u001b[0;36m10\u001b[0m\u001b[0;34m,\u001b[0m \u001b[0;36m10\u001b[0m\u001b[0;34m)\u001b[0m\u001b[0;34m)\u001b[0m\u001b[0;34m\u001b[0m\u001b[0m\n\u001b[1;32m     12\u001b[0m \u001b[0;34m\u001b[0m\u001b[0m\n\u001b[0;32m---> 13\u001b[0;31m \u001b[0;32mfor\u001b[0m \u001b[0mcolor\u001b[0m\u001b[0;34m,\u001b[0m \u001b[0mi\u001b[0m\u001b[0;34m,\u001b[0m \u001b[0mtarget_name\u001b[0m \u001b[0;32min\u001b[0m \u001b[0mzip\u001b[0m\u001b[0;34m(\u001b[0m\u001b[0mcolors\u001b[0m\u001b[0;34m,\u001b[0m \u001b[0;34m[\u001b[0m\u001b[0;36m0\u001b[0m\u001b[0;34m,\u001b[0m \u001b[0;36m1\u001b[0m\u001b[0;34m]\u001b[0m\u001b[0;34m,\u001b[0m \u001b[0mtarget_names\u001b[0m\u001b[0;34m)\u001b[0m\u001b[0;34m:\u001b[0m\u001b[0;34m\u001b[0m\u001b[0m\n\u001b[0m\u001b[1;32m     14\u001b[0m     plt.scatter(X_pca[y == i, 0], X_pca[y == i, 1], color=color, s=1,\n\u001b[1;32m     15\u001b[0m                 alpha=.8, label=target_name, marker='.')\n",
      "\u001b[0;31mNameError\u001b[0m: name 'target_names' is not defined"
     ]
    },
    {
     "data": {
      "text/plain": [
       "<Figure size 720x720 with 0 Axes>"
      ]
     },
     "metadata": {},
     "output_type": "display_data"
    }
   ],
   "source": [
    "n_comp = 3\n",
    "colors = ['blue', 'red']\n",
    "pca = PCA(n_components=n_comp, svd_solver='full', random_state=1001)\n",
    "X_pca = pca.fit_transform(train)\n",
    "print('Explained variance: %.4f' % pca.explained_variance_ratio_.sum())\n",
    "\n",
    "print('Individual variance contributions:')\n",
    "for j in range(n_comp):\n",
    "    print(pca.explained_variance_ratio_[j])\n",
    "\n",
    "plt.figure(1, figsize=(10, 10))\n",
    "\n",
    "for color, i, target_name in zip(colors, [0, 1], target_names):\n",
    "    plt.scatter(X_pca[y == i, 0], X_pca[y == i, 1], color=color, s=1,\n",
    "                alpha=.8, label=target_name, marker='.')\n",
    "plt.legend(loc='best', shadow=False, scatterpoints=3)\n",
    "plt.title(\n",
    "        \"Scatter plot of the training data projected on the 1st \"\n",
    "        \"and 2nd principal components\")\n",
    "plt.xlabel(\"Principal axis 1 - Explains %.1f %% of the variance\" % (\n",
    "        pca.explained_variance_ratio_[0] * 100.0))\n",
    "plt.ylabel(\"Principal axis 2 - Explains %.1f %% of the variance\" % (\n",
    "        pca.explained_variance_ratio_[1] * 100.0))\n"
   ]
  },
  {
   "cell_type": "code",
   "execution_count": 436,
   "metadata": {},
   "outputs": [],
   "source": [
    "X_train = foo_train.drop(['apply'],axis=1)\n",
    "y_train = foo_train['apply']\n",
    "X_test = foo_test.drop(['apply'],axis=1)\n",
    "y_test = foo_test['apply']"
   ]
  },
  {
   "cell_type": "code",
   "execution_count": 437,
   "metadata": {},
   "outputs": [
    {
     "data": {
      "text/html": [
       "<div>\n",
       "<style scoped>\n",
       "    .dataframe tbody tr th:only-of-type {\n",
       "        vertical-align: middle;\n",
       "    }\n",
       "\n",
       "    .dataframe tbody tr th {\n",
       "        vertical-align: top;\n",
       "    }\n",
       "\n",
       "    .dataframe thead th {\n",
       "        text-align: right;\n",
       "    }\n",
       "</style>\n",
       "<table border=\"1\" class=\"dataframe\">\n",
       "  <thead>\n",
       "    <tr style=\"text-align: right;\">\n",
       "      <th></th>\n",
       "      <th>title_proximity_tfidf</th>\n",
       "      <th>description_proximity_tfidf</th>\n",
       "      <th>main_query_tfidf</th>\n",
       "      <th>query_jl_score</th>\n",
       "      <th>query_title_score</th>\n",
       "      <th>city_match</th>\n",
       "      <th>job_age_days</th>\n",
       "      <th>-9049387715076603468</th>\n",
       "      <th>-9038976719257045699</th>\n",
       "      <th>-8968970026296622139</th>\n",
       "      <th>...</th>\n",
       "      <th>8530323770842619191</th>\n",
       "      <th>8811153836892485653</th>\n",
       "      <th>8821162609494818979</th>\n",
       "      <th>8822383975910322601</th>\n",
       "      <th>8947106012270616901</th>\n",
       "      <th>8980388029261832619</th>\n",
       "      <th>9124072227722530594</th>\n",
       "      <th>9187774158059236494</th>\n",
       "      <th>9202726581177086973</th>\n",
       "      <th>9204124302215888546</th>\n",
       "    </tr>\n",
       "  </thead>\n",
       "  <tbody>\n",
       "    <tr>\n",
       "      <th>0</th>\n",
       "      <td>0.000000</td>\n",
       "      <td>0.000000</td>\n",
       "      <td>0.000000</td>\n",
       "      <td>0.004824</td>\n",
       "      <td>0.006628</td>\n",
       "      <td>0.0</td>\n",
       "      <td>5.0</td>\n",
       "      <td>0</td>\n",
       "      <td>0</td>\n",
       "      <td>0</td>\n",
       "      <td>...</td>\n",
       "      <td>0</td>\n",
       "      <td>0</td>\n",
       "      <td>0</td>\n",
       "      <td>0</td>\n",
       "      <td>0</td>\n",
       "      <td>0</td>\n",
       "      <td>0</td>\n",
       "      <td>0</td>\n",
       "      <td>0</td>\n",
       "      <td>0</td>\n",
       "    </tr>\n",
       "    <tr>\n",
       "      <th>171104</th>\n",
       "      <td>10.158476</td>\n",
       "      <td>0.111599</td>\n",
       "      <td>2.539619</td>\n",
       "      <td>0.003030</td>\n",
       "      <td>0.004824</td>\n",
       "      <td>1.0</td>\n",
       "      <td>7.0</td>\n",
       "      <td>0</td>\n",
       "      <td>0</td>\n",
       "      <td>0</td>\n",
       "      <td>...</td>\n",
       "      <td>0</td>\n",
       "      <td>0</td>\n",
       "      <td>0</td>\n",
       "      <td>0</td>\n",
       "      <td>0</td>\n",
       "      <td>0</td>\n",
       "      <td>0</td>\n",
       "      <td>0</td>\n",
       "      <td>0</td>\n",
       "      <td>0</td>\n",
       "    </tr>\n",
       "    <tr>\n",
       "      <th>732794</th>\n",
       "      <td>0.000000</td>\n",
       "      <td>0.077146</td>\n",
       "      <td>0.000000</td>\n",
       "      <td>0.019393</td>\n",
       "      <td>0.014559</td>\n",
       "      <td>1.0</td>\n",
       "      <td>2.0</td>\n",
       "      <td>0</td>\n",
       "      <td>0</td>\n",
       "      <td>0</td>\n",
       "      <td>...</td>\n",
       "      <td>0</td>\n",
       "      <td>0</td>\n",
       "      <td>0</td>\n",
       "      <td>0</td>\n",
       "      <td>0</td>\n",
       "      <td>0</td>\n",
       "      <td>0</td>\n",
       "      <td>0</td>\n",
       "      <td>0</td>\n",
       "      <td>0</td>\n",
       "    </tr>\n",
       "    <tr>\n",
       "      <th>409166</th>\n",
       "      <td>0.000000</td>\n",
       "      <td>0.000000</td>\n",
       "      <td>0.000000</td>\n",
       "      <td>0.014812</td>\n",
       "      <td>0.026619</td>\n",
       "      <td>1.0</td>\n",
       "      <td>1.0</td>\n",
       "      <td>0</td>\n",
       "      <td>0</td>\n",
       "      <td>0</td>\n",
       "      <td>...</td>\n",
       "      <td>0</td>\n",
       "      <td>0</td>\n",
       "      <td>0</td>\n",
       "      <td>0</td>\n",
       "      <td>0</td>\n",
       "      <td>0</td>\n",
       "      <td>0</td>\n",
       "      <td>0</td>\n",
       "      <td>0</td>\n",
       "      <td>0</td>\n",
       "    </tr>\n",
       "    <tr>\n",
       "      <th>409165</th>\n",
       "      <td>0.000000</td>\n",
       "      <td>0.000000</td>\n",
       "      <td>0.000000</td>\n",
       "      <td>0.014812</td>\n",
       "      <td>0.026619</td>\n",
       "      <td>1.0</td>\n",
       "      <td>1.0</td>\n",
       "      <td>0</td>\n",
       "      <td>0</td>\n",
       "      <td>0</td>\n",
       "      <td>...</td>\n",
       "      <td>0</td>\n",
       "      <td>0</td>\n",
       "      <td>0</td>\n",
       "      <td>0</td>\n",
       "      <td>0</td>\n",
       "      <td>0</td>\n",
       "      <td>0</td>\n",
       "      <td>0</td>\n",
       "      <td>0</td>\n",
       "      <td>0</td>\n",
       "    </tr>\n",
       "  </tbody>\n",
       "</table>\n",
       "<p>5 rows × 164 columns</p>\n",
       "</div>"
      ],
      "text/plain": [
       "        title_proximity_tfidf  description_proximity_tfidf  main_query_tfidf  \\\n",
       "0                    0.000000                     0.000000          0.000000   \n",
       "171104              10.158476                     0.111599          2.539619   \n",
       "732794               0.000000                     0.077146          0.000000   \n",
       "409166               0.000000                     0.000000          0.000000   \n",
       "409165               0.000000                     0.000000          0.000000   \n",
       "\n",
       "        query_jl_score  query_title_score  city_match  job_age_days  \\\n",
       "0             0.004824           0.006628         0.0           5.0   \n",
       "171104        0.003030           0.004824         1.0           7.0   \n",
       "732794        0.019393           0.014559         1.0           2.0   \n",
       "409166        0.014812           0.026619         1.0           1.0   \n",
       "409165        0.014812           0.026619         1.0           1.0   \n",
       "\n",
       "        -9049387715076603468  -9038976719257045699  -8968970026296622139  \\\n",
       "0                          0                     0                     0   \n",
       "171104                     0                     0                     0   \n",
       "732794                     0                     0                     0   \n",
       "409166                     0                     0                     0   \n",
       "409165                     0                     0                     0   \n",
       "\n",
       "               ...           8530323770842619191  8811153836892485653  \\\n",
       "0              ...                             0                    0   \n",
       "171104         ...                             0                    0   \n",
       "732794         ...                             0                    0   \n",
       "409166         ...                             0                    0   \n",
       "409165         ...                             0                    0   \n",
       "\n",
       "        8821162609494818979  8822383975910322601  8947106012270616901  \\\n",
       "0                         0                    0                    0   \n",
       "171104                    0                    0                    0   \n",
       "732794                    0                    0                    0   \n",
       "409166                    0                    0                    0   \n",
       "409165                    0                    0                    0   \n",
       "\n",
       "        8980388029261832619  9124072227722530594  9187774158059236494  \\\n",
       "0                         0                    0                    0   \n",
       "171104                    0                    0                    0   \n",
       "732794                    0                    0                    0   \n",
       "409166                    0                    0                    0   \n",
       "409165                    0                    0                    0   \n",
       "\n",
       "        9202726581177086973  9204124302215888546  \n",
       "0                         0                    0  \n",
       "171104                    0                    0  \n",
       "732794                    0                    0  \n",
       "409166                    0                    0  \n",
       "409165                    0                    0  \n",
       "\n",
       "[5 rows x 164 columns]"
      ]
     },
     "execution_count": 437,
     "metadata": {},
     "output_type": "execute_result"
    }
   ],
   "source": [
    "X_train.head()"
   ]
  },
  {
   "cell_type": "code",
   "execution_count": 438,
   "metadata": {},
   "outputs": [
    {
     "ename": "KeyboardInterrupt",
     "evalue": "",
     "output_type": "error",
     "traceback": [
      "\u001b[0;31m---------------------------------------------------------------------------\u001b[0m",
      "\u001b[0;31mKeyboardInterrupt\u001b[0m                         Traceback (most recent call last)",
      "\u001b[0;32m<ipython-input-438-f7aac4341467>\u001b[0m in \u001b[0;36m<module>\u001b[0;34m()\u001b[0m\n\u001b[1;32m      1\u001b[0m \u001b[0mxgb\u001b[0m \u001b[0;34m=\u001b[0m \u001b[0mXGBClassifier\u001b[0m\u001b[0;34m(\u001b[0m\u001b[0mn_estimators\u001b[0m\u001b[0;34m=\u001b[0m\u001b[0;36m100\u001b[0m\u001b[0;34m)\u001b[0m\u001b[0;34m\u001b[0m\u001b[0m\n\u001b[1;32m      2\u001b[0m \u001b[0mtraining_start\u001b[0m \u001b[0;34m=\u001b[0m \u001b[0mtime\u001b[0m\u001b[0;34m.\u001b[0m\u001b[0mperf_counter\u001b[0m\u001b[0;34m(\u001b[0m\u001b[0;34m)\u001b[0m\u001b[0;34m\u001b[0m\u001b[0m\n\u001b[0;32m----> 3\u001b[0;31m \u001b[0mxgb\u001b[0m\u001b[0;34m.\u001b[0m\u001b[0mfit\u001b[0m\u001b[0;34m(\u001b[0m\u001b[0mX_train\u001b[0m\u001b[0;34m,\u001b[0m \u001b[0my_train\u001b[0m\u001b[0;34m)\u001b[0m\u001b[0;34m\u001b[0m\u001b[0m\n\u001b[0m\u001b[1;32m      4\u001b[0m \u001b[0mtraining_end\u001b[0m \u001b[0;34m=\u001b[0m \u001b[0mtime\u001b[0m\u001b[0;34m.\u001b[0m\u001b[0mperf_counter\u001b[0m\u001b[0;34m(\u001b[0m\u001b[0;34m)\u001b[0m\u001b[0;34m\u001b[0m\u001b[0m\n\u001b[1;32m      5\u001b[0m \u001b[0mprediction_start\u001b[0m \u001b[0;34m=\u001b[0m \u001b[0mtime\u001b[0m\u001b[0;34m.\u001b[0m\u001b[0mperf_counter\u001b[0m\u001b[0;34m(\u001b[0m\u001b[0;34m)\u001b[0m\u001b[0;34m\u001b[0m\u001b[0m\n",
      "\u001b[0;32m/anaconda3/lib/python3.6/site-packages/xgboost/sklearn.py\u001b[0m in \u001b[0;36mfit\u001b[0;34m(self, X, y, sample_weight, eval_set, eval_metric, early_stopping_rounds, verbose, xgb_model, sample_weight_eval_set, callbacks)\u001b[0m\n\u001b[1;32m    698\u001b[0m                               \u001b[0mevals_result\u001b[0m\u001b[0;34m=\u001b[0m\u001b[0mevals_result\u001b[0m\u001b[0;34m,\u001b[0m \u001b[0mobj\u001b[0m\u001b[0;34m=\u001b[0m\u001b[0mobj\u001b[0m\u001b[0;34m,\u001b[0m \u001b[0mfeval\u001b[0m\u001b[0;34m=\u001b[0m\u001b[0mfeval\u001b[0m\u001b[0;34m,\u001b[0m\u001b[0;34m\u001b[0m\u001b[0m\n\u001b[1;32m    699\u001b[0m                               \u001b[0mverbose_eval\u001b[0m\u001b[0;34m=\u001b[0m\u001b[0mverbose\u001b[0m\u001b[0;34m,\u001b[0m \u001b[0mxgb_model\u001b[0m\u001b[0;34m=\u001b[0m\u001b[0;32mNone\u001b[0m\u001b[0;34m,\u001b[0m\u001b[0;34m\u001b[0m\u001b[0m\n\u001b[0;32m--> 700\u001b[0;31m                               callbacks=callbacks)\n\u001b[0m\u001b[1;32m    701\u001b[0m \u001b[0;34m\u001b[0m\u001b[0m\n\u001b[1;32m    702\u001b[0m         \u001b[0mself\u001b[0m\u001b[0;34m.\u001b[0m\u001b[0mobjective\u001b[0m \u001b[0;34m=\u001b[0m \u001b[0mxgb_options\u001b[0m\u001b[0;34m[\u001b[0m\u001b[0;34m\"objective\"\u001b[0m\u001b[0;34m]\u001b[0m\u001b[0;34m\u001b[0m\u001b[0m\n",
      "\u001b[0;32m/anaconda3/lib/python3.6/site-packages/xgboost/training.py\u001b[0m in \u001b[0;36mtrain\u001b[0;34m(params, dtrain, num_boost_round, evals, obj, feval, maximize, early_stopping_rounds, evals_result, verbose_eval, xgb_model, callbacks, learning_rates)\u001b[0m\n\u001b[1;32m    214\u001b[0m                            \u001b[0mevals\u001b[0m\u001b[0;34m=\u001b[0m\u001b[0mevals\u001b[0m\u001b[0;34m,\u001b[0m\u001b[0;34m\u001b[0m\u001b[0m\n\u001b[1;32m    215\u001b[0m                            \u001b[0mobj\u001b[0m\u001b[0;34m=\u001b[0m\u001b[0mobj\u001b[0m\u001b[0;34m,\u001b[0m \u001b[0mfeval\u001b[0m\u001b[0;34m=\u001b[0m\u001b[0mfeval\u001b[0m\u001b[0;34m,\u001b[0m\u001b[0;34m\u001b[0m\u001b[0m\n\u001b[0;32m--> 216\u001b[0;31m                            xgb_model=xgb_model, callbacks=callbacks)\n\u001b[0m\u001b[1;32m    217\u001b[0m \u001b[0;34m\u001b[0m\u001b[0m\n\u001b[1;32m    218\u001b[0m \u001b[0;34m\u001b[0m\u001b[0m\n",
      "\u001b[0;32m/anaconda3/lib/python3.6/site-packages/xgboost/training.py\u001b[0m in \u001b[0;36m_train_internal\u001b[0;34m(params, dtrain, num_boost_round, evals, obj, feval, xgb_model, callbacks)\u001b[0m\n\u001b[1;32m     72\u001b[0m         \u001b[0;31m# Skip the first update if it is a recovery step.\u001b[0m\u001b[0;34m\u001b[0m\u001b[0;34m\u001b[0m\u001b[0m\n\u001b[1;32m     73\u001b[0m         \u001b[0;32mif\u001b[0m \u001b[0mversion\u001b[0m \u001b[0;34m%\u001b[0m \u001b[0;36m2\u001b[0m \u001b[0;34m==\u001b[0m \u001b[0;36m0\u001b[0m\u001b[0;34m:\u001b[0m\u001b[0;34m\u001b[0m\u001b[0m\n\u001b[0;32m---> 74\u001b[0;31m             \u001b[0mbst\u001b[0m\u001b[0;34m.\u001b[0m\u001b[0mupdate\u001b[0m\u001b[0;34m(\u001b[0m\u001b[0mdtrain\u001b[0m\u001b[0;34m,\u001b[0m \u001b[0mi\u001b[0m\u001b[0;34m,\u001b[0m \u001b[0mobj\u001b[0m\u001b[0;34m)\u001b[0m\u001b[0;34m\u001b[0m\u001b[0m\n\u001b[0m\u001b[1;32m     75\u001b[0m             \u001b[0mbst\u001b[0m\u001b[0;34m.\u001b[0m\u001b[0msave_rabit_checkpoint\u001b[0m\u001b[0;34m(\u001b[0m\u001b[0;34m)\u001b[0m\u001b[0;34m\u001b[0m\u001b[0m\n\u001b[1;32m     76\u001b[0m             \u001b[0mversion\u001b[0m \u001b[0;34m+=\u001b[0m \u001b[0;36m1\u001b[0m\u001b[0;34m\u001b[0m\u001b[0m\n",
      "\u001b[0;32m/anaconda3/lib/python3.6/site-packages/xgboost/core.py\u001b[0m in \u001b[0;36mupdate\u001b[0;34m(self, dtrain, iteration, fobj)\u001b[0m\n\u001b[1;32m   1043\u001b[0m         \u001b[0;32mif\u001b[0m \u001b[0mfobj\u001b[0m \u001b[0;32mis\u001b[0m \u001b[0;32mNone\u001b[0m\u001b[0;34m:\u001b[0m\u001b[0;34m\u001b[0m\u001b[0m\n\u001b[1;32m   1044\u001b[0m             _check_call(_LIB.XGBoosterUpdateOneIter(self.handle, ctypes.c_int(iteration),\n\u001b[0;32m-> 1045\u001b[0;31m                                                     dtrain.handle))\n\u001b[0m\u001b[1;32m   1046\u001b[0m         \u001b[0;32melse\u001b[0m\u001b[0;34m:\u001b[0m\u001b[0;34m\u001b[0m\u001b[0m\n\u001b[1;32m   1047\u001b[0m             \u001b[0mpred\u001b[0m \u001b[0;34m=\u001b[0m \u001b[0mself\u001b[0m\u001b[0;34m.\u001b[0m\u001b[0mpredict\u001b[0m\u001b[0;34m(\u001b[0m\u001b[0mdtrain\u001b[0m\u001b[0;34m)\u001b[0m\u001b[0;34m\u001b[0m\u001b[0m\n",
      "\u001b[0;31mKeyboardInterrupt\u001b[0m: "
     ]
    }
   ],
   "source": [
    "xgb = XGBClassifier(n_estimators=100)\n",
    "training_start = time.perf_counter()\n",
    "xgb.fit(X_train, y_train)\n",
    "training_end = time.perf_counter()\n",
    "prediction_start = time.perf_counter()\n",
    "preds_xgb = xgb.predict(X_test)\n",
    "prediction_end = time.perf_counter()\n",
    "acc_xgb = accuracy_score(y_test,preds_xgb)\n",
    "ROC_XGboost = roc_auc_score(y_test,preds_xgb)\n",
    "xgb_train_time = training_end-training_start\n",
    "xgb_prediction_time = prediction_end-prediction_start\n",
    "print('Confusion Matrix for XGBoost\\n', confusion_matrix(y_test, preds_xgb))\n",
    "print(\"XGBoost's AUC-ROC is: %3.2f\" % (roc_auc_score(y_test,preds_xgb)))\n",
    "print('F1 score for XGBoost is',f1_score(y_test, preds_xgb))\n",
    "\n",
    "#plot the curve\n",
    "fpr, tpr, threshold = roc_curve(y_test, preds_xgb)\n",
    "auc = roc_auc_score(y_test, preds_xgb)\n",
    "fig, ax = plt.subplots(figsize=(6,6))\n",
    "ax.set_title('Receiver Operating Characteristic')\n",
    "plt.plot(fpr, tpr, 'b',label='Model - AUC = %0.3f'% auc)\n",
    "ax.legend(loc='lower right')\n",
    "plt.plot([0,1],[0,1],'r--', label='Chance')\n",
    "ax.legend()\n",
    "ax.set_xlim([-0.1,1.0])\n",
    "ax.set_ylim([-0.1,1.01])\n",
    "ax.set_ylabel('True Positive Rate')\n",
    "ax.set_xlabel('False Positive Rate')\n",
    "plt.show()"
   ]
  },
  {
   "cell_type": "code",
   "execution_count": null,
   "metadata": {},
   "outputs": [],
   "source": []
  },
  {
   "cell_type": "code",
   "execution_count": 282,
   "metadata": {},
   "outputs": [],
   "source": [
    "lasso_regr = Lasso(random_state=42)"
   ]
  },
  {
   "cell_type": "code",
   "execution_count": 283,
   "metadata": {},
   "outputs": [],
   "source": [
    "# start = time() # Get start time\n",
    "cv_sets_lasso = ShuffleSplit(random_state = 20) # shuffling our data for cross-validation\n",
    "parameters_lasso = {'alpha':[0.0005, 0.001, 0.002, 0.003], \n",
    "                    'max_iter':[40000,50000,60000]}\n",
    "scorer_lasso = make_scorer(r2_score)\n",
    "grid_obj_lasso = RandomizedSearchCV(lasso_regr, \n",
    "                                    parameters_lasso, \n",
    "                                    scoring = scorer_lasso, \n",
    "                                    cv = cv_sets_lasso,\n",
    "                                   random_state= 99)\n",
    "grid_fit_lasso = grid_obj_lasso.fit(X_train, y_train)\n",
    "lasso_opt = grid_fit_lasso.best_estimator_\n",
    "\n",
    "# end = time() # Get end time\n",
    "# lasso_time = (end-start)/60 # Calculate training time\n",
    "# print('It took {0:.2f} minutes for RandomizedSearchCV to converge to optimised parameters for the Lasso regression model'.format(lasso_time))"
   ]
  },
  {
   "cell_type": "code",
   "execution_count": 284,
   "metadata": {},
   "outputs": [
    {
     "data": {
      "text/plain": [
       "{'max_iter': 60000, 'alpha': 0.0005}"
      ]
     },
     "execution_count": 284,
     "metadata": {},
     "output_type": "execute_result"
    }
   ],
   "source": [
    "grid_fit_lasso.best_params_"
   ]
  },
  {
   "cell_type": "code",
   "execution_count": 285,
   "metadata": {},
   "outputs": [],
   "source": [
    "lasso_opt.fit(X_train, y_train)\n",
    "lasso_opt_predict = lasso_opt.predict(X_test) #XGBoost predictions\n"
   ]
  },
  {
   "cell_type": "code",
   "execution_count": 286,
   "metadata": {},
   "outputs": [],
   "source": [
    "lasso_r2 = r2_score(y_test, lasso_opt_predict)\n",
    "lasso_mse = mean_squared_error(y_test, lasso_opt_predict)"
   ]
  },
  {
   "cell_type": "code",
   "execution_count": 287,
   "metadata": {},
   "outputs": [
    {
     "data": {
      "text/plain": [
       "0.00285912116474607"
      ]
     },
     "execution_count": 287,
     "metadata": {},
     "output_type": "execute_result"
    }
   ],
   "source": [
    "lasso_r2"
   ]
  },
  {
   "cell_type": "code",
   "execution_count": 288,
   "metadata": {},
   "outputs": [
    {
     "data": {
      "text/plain": [
       "0.5569847547110773"
      ]
     },
     "execution_count": 288,
     "metadata": {},
     "output_type": "execute_result"
    }
   ],
   "source": [
    "roc_auc_score(y_test, lasso_opt_predict)"
   ]
  },
  {
   "cell_type": "code",
   "execution_count": null,
   "metadata": {},
   "outputs": [],
   "source": []
  }
 ],
 "metadata": {
  "kernelspec": {
   "display_name": "Python 3",
   "language": "python",
   "name": "python3"
  },
  "language_info": {
   "codemirror_mode": {
    "name": "ipython",
    "version": 3
   },
   "file_extension": ".py",
   "mimetype": "text/x-python",
   "name": "python",
   "nbconvert_exporter": "python",
   "pygments_lexer": "ipython3",
   "version": "3.6.5"
  }
 },
 "nbformat": 4,
 "nbformat_minor": 2
}
