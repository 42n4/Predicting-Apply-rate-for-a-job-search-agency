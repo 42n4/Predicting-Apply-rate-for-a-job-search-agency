{
 "cells": [
  {
   "cell_type": "code",
   "execution_count": 1,
   "metadata": {},
   "outputs": [],
   "source": [
    "import numpy as np\n",
    "import pandas as pd\n",
    "import matplotlib.pyplot as plt\n",
    "%matplotlib inline\n",
    "import seaborn as sns\n",
    "import os\n",
    "import time\n",
    "\n",
    "from sklearn.metrics import confusion_matrix, f1_score, roc_auc_score, accuracy_score, average_precision_score\n",
    "from sklearn.model_selection import train_test_split,cross_val_predict\n",
    "from sklearn.ensemble import RandomForestClassifier\n",
    "from sklearn.preprocessing import LabelEncoder, OneHotEncoder\n",
    "from sklearn.linear_model import LogisticRegression\n",
    "from sklearn.svm import SVC\n",
    "\n",
    "from sklearn.preprocessing import StandardScaler\n",
    "\n",
    "from xgboost import XGBClassifier\n",
    "\n",
    "import warnings\n",
    "warnings.filterwarnings('ignore')"
   ]
  },
  {
   "cell_type": "code",
   "execution_count": 32,
   "metadata": {},
   "outputs": [],
   "source": [
    "df = pd.read_csv('Apply_Rate_2019.csv')"
   ]
  },
  {
   "cell_type": "code",
   "execution_count": 33,
   "metadata": {},
   "outputs": [
    {
     "data": {
      "text/plain": [
       "(1200890, 10)"
      ]
     },
     "execution_count": 33,
     "metadata": {},
     "output_type": "execute_result"
    }
   ],
   "source": [
    "df.shape"
   ]
  },
  {
   "cell_type": "code",
   "execution_count": 30,
   "metadata": {},
   "outputs": [],
   "source": [
    "# Drop the values with null values\n",
    "df.dropna(axis=0,inplace=True)"
   ]
  },
  {
   "cell_type": "code",
   "execution_count": 31,
   "metadata": {},
   "outputs": [
    {
     "data": {
      "text/plain": [
       "(717574, 10)"
      ]
     },
     "execution_count": 31,
     "metadata": {},
     "output_type": "execute_result"
    }
   ],
   "source": [
    "df.shape"
   ]
  },
  {
   "cell_type": "code",
   "execution_count": 4,
   "metadata": {},
   "outputs": [
    {
     "data": {
      "text/html": [
       "<div>\n",
       "<style scoped>\n",
       "    .dataframe tbody tr th:only-of-type {\n",
       "        vertical-align: middle;\n",
       "    }\n",
       "\n",
       "    .dataframe tbody tr th {\n",
       "        vertical-align: top;\n",
       "    }\n",
       "\n",
       "    .dataframe thead th {\n",
       "        text-align: right;\n",
       "    }\n",
       "</style>\n",
       "<table border=\"1\" class=\"dataframe\">\n",
       "  <thead>\n",
       "    <tr style=\"text-align: right;\">\n",
       "      <th></th>\n",
       "      <th>title_proximity_tfidf</th>\n",
       "      <th>description_proximity_tfidf</th>\n",
       "      <th>main_query_tfidf</th>\n",
       "      <th>query_jl_score</th>\n",
       "      <th>query_title_score</th>\n",
       "      <th>city_match</th>\n",
       "      <th>job_age_days</th>\n",
       "      <th>apply</th>\n",
       "      <th>class_id</th>\n",
       "    </tr>\n",
       "  </thead>\n",
       "  <tbody>\n",
       "    <tr>\n",
       "      <th>count</th>\n",
       "      <td>717574.000000</td>\n",
       "      <td>717574.000000</td>\n",
       "      <td>717574.000000</td>\n",
       "      <td>717574.000000</td>\n",
       "      <td>7.175740e+05</td>\n",
       "      <td>717574.000000</td>\n",
       "      <td>717574.000000</td>\n",
       "      <td>717574.000000</td>\n",
       "      <td>7.175740e+05</td>\n",
       "    </tr>\n",
       "    <tr>\n",
       "      <th>mean</th>\n",
       "      <td>5.010252</td>\n",
       "      <td>0.087105</td>\n",
       "      <td>1.702289</td>\n",
       "      <td>0.015659</td>\n",
       "      <td>3.176043e-02</td>\n",
       "      <td>0.538744</td>\n",
       "      <td>10.652308</td>\n",
       "      <td>0.093454</td>\n",
       "      <td>-5.238804e+17</td>\n",
       "    </tr>\n",
       "    <tr>\n",
       "      <th>std</th>\n",
       "      <td>8.494823</td>\n",
       "      <td>0.240557</td>\n",
       "      <td>1.930834</td>\n",
       "      <td>0.009486</td>\n",
       "      <td>4.347896e-02</td>\n",
       "      <td>0.498497</td>\n",
       "      <td>18.404652</td>\n",
       "      <td>0.291067</td>\n",
       "      <td>5.528292e+18</td>\n",
       "    </tr>\n",
       "    <tr>\n",
       "      <th>min</th>\n",
       "      <td>0.000000</td>\n",
       "      <td>0.000000</td>\n",
       "      <td>0.000000</td>\n",
       "      <td>0.000001</td>\n",
       "      <td>9.999580e-07</td>\n",
       "      <td>0.000000</td>\n",
       "      <td>0.000000</td>\n",
       "      <td>0.000000</td>\n",
       "      <td>-9.049388e+18</td>\n",
       "    </tr>\n",
       "    <tr>\n",
       "      <th>25%</th>\n",
       "      <td>0.000000</td>\n",
       "      <td>0.000000</td>\n",
       "      <td>0.000000</td>\n",
       "      <td>0.010283</td>\n",
       "      <td>1.162791e-02</td>\n",
       "      <td>0.000000</td>\n",
       "      <td>2.000000</td>\n",
       "      <td>0.000000</td>\n",
       "      <td>-4.530023e+18</td>\n",
       "    </tr>\n",
       "    <tr>\n",
       "      <th>50%</th>\n",
       "      <td>0.000000</td>\n",
       "      <td>0.000000</td>\n",
       "      <td>0.943069</td>\n",
       "      <td>0.014706</td>\n",
       "      <td>1.817924e-02</td>\n",
       "      <td>1.000000</td>\n",
       "      <td>6.000000</td>\n",
       "      <td>0.000000</td>\n",
       "      <td>-1.614083e+18</td>\n",
       "    </tr>\n",
       "    <tr>\n",
       "      <th>75%</th>\n",
       "      <td>10.059571</td>\n",
       "      <td>0.063949</td>\n",
       "      <td>3.273336</td>\n",
       "      <td>0.019427</td>\n",
       "      <td>3.295324e-02</td>\n",
       "      <td>1.000000</td>\n",
       "      <td>15.000000</td>\n",
       "      <td>0.000000</td>\n",
       "      <td>4.315422e+18</td>\n",
       "    </tr>\n",
       "    <tr>\n",
       "      <th>max</th>\n",
       "      <td>57.420143</td>\n",
       "      <td>5.529913</td>\n",
       "      <td>12.168339</td>\n",
       "      <td>0.125587</td>\n",
       "      <td>1.049201e+00</td>\n",
       "      <td>1.000000</td>\n",
       "      <td>1340.000000</td>\n",
       "      <td>1.000000</td>\n",
       "      <td>9.204124e+18</td>\n",
       "    </tr>\n",
       "  </tbody>\n",
       "</table>\n",
       "</div>"
      ],
      "text/plain": [
       "       title_proximity_tfidf  description_proximity_tfidf  main_query_tfidf  \\\n",
       "count          717574.000000                717574.000000     717574.000000   \n",
       "mean                5.010252                     0.087105          1.702289   \n",
       "std                 8.494823                     0.240557          1.930834   \n",
       "min                 0.000000                     0.000000          0.000000   \n",
       "25%                 0.000000                     0.000000          0.000000   \n",
       "50%                 0.000000                     0.000000          0.943069   \n",
       "75%                10.059571                     0.063949          3.273336   \n",
       "max                57.420143                     5.529913         12.168339   \n",
       "\n",
       "       query_jl_score  query_title_score     city_match   job_age_days  \\\n",
       "count   717574.000000       7.175740e+05  717574.000000  717574.000000   \n",
       "mean         0.015659       3.176043e-02       0.538744      10.652308   \n",
       "std          0.009486       4.347896e-02       0.498497      18.404652   \n",
       "min          0.000001       9.999580e-07       0.000000       0.000000   \n",
       "25%          0.010283       1.162791e-02       0.000000       2.000000   \n",
       "50%          0.014706       1.817924e-02       1.000000       6.000000   \n",
       "75%          0.019427       3.295324e-02       1.000000      15.000000   \n",
       "max          0.125587       1.049201e+00       1.000000    1340.000000   \n",
       "\n",
       "               apply      class_id  \n",
       "count  717574.000000  7.175740e+05  \n",
       "mean        0.093454 -5.238804e+17  \n",
       "std         0.291067  5.528292e+18  \n",
       "min         0.000000 -9.049388e+18  \n",
       "25%         0.000000 -4.530023e+18  \n",
       "50%         0.000000 -1.614083e+18  \n",
       "75%         0.000000  4.315422e+18  \n",
       "max         1.000000  9.204124e+18  "
      ]
     },
     "execution_count": 4,
     "metadata": {},
     "output_type": "execute_result"
    }
   ],
   "source": [
    "df.describe()"
   ]
  },
  {
   "cell_type": "code",
   "execution_count": 5,
   "metadata": {},
   "outputs": [
    {
     "data": {
      "text/plain": [
       "(717574, 10)"
      ]
     },
     "execution_count": 5,
     "metadata": {},
     "output_type": "execute_result"
    }
   ],
   "source": [
    "df.shape"
   ]
  },
  {
   "cell_type": "code",
   "execution_count": 6,
   "metadata": {},
   "outputs": [
    {
     "name": "stdout",
     "output_type": "stream",
     "text": [
      "<class 'pandas.core.frame.DataFrame'>\n",
      "Int64Index: 717574 entries, 0 to 1200887\n",
      "Data columns (total 10 columns):\n",
      "title_proximity_tfidf          717574 non-null float64\n",
      "description_proximity_tfidf    717574 non-null float64\n",
      "main_query_tfidf               717574 non-null float64\n",
      "query_jl_score                 717574 non-null float64\n",
      "query_title_score              717574 non-null float64\n",
      "city_match                     717574 non-null float64\n",
      "job_age_days                   717574 non-null float64\n",
      "apply                          717574 non-null int64\n",
      "search_date_pacific            717574 non-null object\n",
      "class_id                       717574 non-null int64\n",
      "dtypes: float64(7), int64(2), object(1)\n",
      "memory usage: 60.2+ MB\n"
     ]
    }
   ],
   "source": [
    "df.info()"
   ]
  },
  {
   "cell_type": "code",
   "execution_count": 7,
   "metadata": {},
   "outputs": [
    {
     "data": {
      "text/plain": [
       "title_proximity_tfidf          0\n",
       "description_proximity_tfidf    0\n",
       "main_query_tfidf               0\n",
       "query_jl_score                 0\n",
       "query_title_score              0\n",
       "city_match                     0\n",
       "job_age_days                   0\n",
       "apply                          0\n",
       "search_date_pacific            0\n",
       "class_id                       0\n",
       "dtype: int64"
      ]
     },
     "execution_count": 7,
     "metadata": {},
     "output_type": "execute_result"
    }
   ],
   "source": [
    "df.isnull().sum()"
   ]
  },
  {
   "cell_type": "code",
   "execution_count": 11,
   "metadata": {},
   "outputs": [
    {
     "data": {
      "text/html": [
       "<div>\n",
       "<style scoped>\n",
       "    .dataframe tbody tr th:only-of-type {\n",
       "        vertical-align: middle;\n",
       "    }\n",
       "\n",
       "    .dataframe tbody tr th {\n",
       "        vertical-align: top;\n",
       "    }\n",
       "\n",
       "    .dataframe thead th {\n",
       "        text-align: right;\n",
       "    }\n",
       "</style>\n",
       "<table border=\"1\" class=\"dataframe\">\n",
       "  <thead>\n",
       "    <tr style=\"text-align: right;\">\n",
       "      <th></th>\n",
       "      <th>title_proximity_tfidf</th>\n",
       "      <th>description_proximity_tfidf</th>\n",
       "      <th>main_query_tfidf</th>\n",
       "      <th>query_jl_score</th>\n",
       "      <th>query_title_score</th>\n",
       "      <th>city_match</th>\n",
       "      <th>job_age_days</th>\n",
       "      <th>apply</th>\n",
       "      <th>class_id</th>\n",
       "    </tr>\n",
       "  </thead>\n",
       "  <tbody>\n",
       "    <tr>\n",
       "      <th>title_proximity_tfidf</th>\n",
       "      <td>1.000000</td>\n",
       "      <td>0.107511</td>\n",
       "      <td>0.703511</td>\n",
       "      <td>0.162981</td>\n",
       "      <td>0.344801</td>\n",
       "      <td>-0.060693</td>\n",
       "      <td>0.052924</td>\n",
       "      <td>0.041264</td>\n",
       "      <td>0.002867</td>\n",
       "    </tr>\n",
       "    <tr>\n",
       "      <th>description_proximity_tfidf</th>\n",
       "      <td>0.107511</td>\n",
       "      <td>1.000000</td>\n",
       "      <td>0.014660</td>\n",
       "      <td>0.127407</td>\n",
       "      <td>0.012939</td>\n",
       "      <td>-0.010203</td>\n",
       "      <td>0.013670</td>\n",
       "      <td>-0.003808</td>\n",
       "      <td>-0.001263</td>\n",
       "    </tr>\n",
       "    <tr>\n",
       "      <th>main_query_tfidf</th>\n",
       "      <td>0.703511</td>\n",
       "      <td>0.014660</td>\n",
       "      <td>1.000000</td>\n",
       "      <td>0.023230</td>\n",
       "      <td>0.219549</td>\n",
       "      <td>-0.067618</td>\n",
       "      <td>0.067893</td>\n",
       "      <td>0.034439</td>\n",
       "      <td>0.021324</td>\n",
       "    </tr>\n",
       "    <tr>\n",
       "      <th>query_jl_score</th>\n",
       "      <td>0.162981</td>\n",
       "      <td>0.127407</td>\n",
       "      <td>0.023230</td>\n",
       "      <td>1.000000</td>\n",
       "      <td>0.294975</td>\n",
       "      <td>-0.019662</td>\n",
       "      <td>0.020315</td>\n",
       "      <td>0.034730</td>\n",
       "      <td>0.065407</td>\n",
       "    </tr>\n",
       "    <tr>\n",
       "      <th>query_title_score</th>\n",
       "      <td>0.344801</td>\n",
       "      <td>0.012939</td>\n",
       "      <td>0.219549</td>\n",
       "      <td>0.294975</td>\n",
       "      <td>1.000000</td>\n",
       "      <td>-0.048208</td>\n",
       "      <td>0.033253</td>\n",
       "      <td>0.044203</td>\n",
       "      <td>0.043621</td>\n",
       "    </tr>\n",
       "    <tr>\n",
       "      <th>city_match</th>\n",
       "      <td>-0.060693</td>\n",
       "      <td>-0.010203</td>\n",
       "      <td>-0.067618</td>\n",
       "      <td>-0.019662</td>\n",
       "      <td>-0.048208</td>\n",
       "      <td>1.000000</td>\n",
       "      <td>0.006264</td>\n",
       "      <td>0.003081</td>\n",
       "      <td>-0.005043</td>\n",
       "    </tr>\n",
       "    <tr>\n",
       "      <th>job_age_days</th>\n",
       "      <td>0.052924</td>\n",
       "      <td>0.013670</td>\n",
       "      <td>0.067893</td>\n",
       "      <td>0.020315</td>\n",
       "      <td>0.033253</td>\n",
       "      <td>0.006264</td>\n",
       "      <td>1.000000</td>\n",
       "      <td>-0.012070</td>\n",
       "      <td>0.002212</td>\n",
       "    </tr>\n",
       "    <tr>\n",
       "      <th>apply</th>\n",
       "      <td>0.041264</td>\n",
       "      <td>-0.003808</td>\n",
       "      <td>0.034439</td>\n",
       "      <td>0.034730</td>\n",
       "      <td>0.044203</td>\n",
       "      <td>0.003081</td>\n",
       "      <td>-0.012070</td>\n",
       "      <td>1.000000</td>\n",
       "      <td>-0.001894</td>\n",
       "    </tr>\n",
       "    <tr>\n",
       "      <th>class_id</th>\n",
       "      <td>0.002867</td>\n",
       "      <td>-0.001263</td>\n",
       "      <td>0.021324</td>\n",
       "      <td>0.065407</td>\n",
       "      <td>0.043621</td>\n",
       "      <td>-0.005043</td>\n",
       "      <td>0.002212</td>\n",
       "      <td>-0.001894</td>\n",
       "      <td>1.000000</td>\n",
       "    </tr>\n",
       "  </tbody>\n",
       "</table>\n",
       "</div>"
      ],
      "text/plain": [
       "                             title_proximity_tfidf  \\\n",
       "title_proximity_tfidf                     1.000000   \n",
       "description_proximity_tfidf               0.107511   \n",
       "main_query_tfidf                          0.703511   \n",
       "query_jl_score                            0.162981   \n",
       "query_title_score                         0.344801   \n",
       "city_match                               -0.060693   \n",
       "job_age_days                              0.052924   \n",
       "apply                                     0.041264   \n",
       "class_id                                  0.002867   \n",
       "\n",
       "                             description_proximity_tfidf  main_query_tfidf  \\\n",
       "title_proximity_tfidf                           0.107511          0.703511   \n",
       "description_proximity_tfidf                     1.000000          0.014660   \n",
       "main_query_tfidf                                0.014660          1.000000   \n",
       "query_jl_score                                  0.127407          0.023230   \n",
       "query_title_score                               0.012939          0.219549   \n",
       "city_match                                     -0.010203         -0.067618   \n",
       "job_age_days                                    0.013670          0.067893   \n",
       "apply                                          -0.003808          0.034439   \n",
       "class_id                                       -0.001263          0.021324   \n",
       "\n",
       "                             query_jl_score  query_title_score  city_match  \\\n",
       "title_proximity_tfidf              0.162981           0.344801   -0.060693   \n",
       "description_proximity_tfidf        0.127407           0.012939   -0.010203   \n",
       "main_query_tfidf                   0.023230           0.219549   -0.067618   \n",
       "query_jl_score                     1.000000           0.294975   -0.019662   \n",
       "query_title_score                  0.294975           1.000000   -0.048208   \n",
       "city_match                        -0.019662          -0.048208    1.000000   \n",
       "job_age_days                       0.020315           0.033253    0.006264   \n",
       "apply                              0.034730           0.044203    0.003081   \n",
       "class_id                           0.065407           0.043621   -0.005043   \n",
       "\n",
       "                             job_age_days     apply  class_id  \n",
       "title_proximity_tfidf            0.052924  0.041264  0.002867  \n",
       "description_proximity_tfidf      0.013670 -0.003808 -0.001263  \n",
       "main_query_tfidf                 0.067893  0.034439  0.021324  \n",
       "query_jl_score                   0.020315  0.034730  0.065407  \n",
       "query_title_score                0.033253  0.044203  0.043621  \n",
       "city_match                       0.006264  0.003081 -0.005043  \n",
       "job_age_days                     1.000000 -0.012070  0.002212  \n",
       "apply                           -0.012070  1.000000 -0.001894  \n",
       "class_id                         0.002212 -0.001894  1.000000  "
      ]
     },
     "execution_count": 11,
     "metadata": {},
     "output_type": "execute_result"
    },
    {
     "data": {
      "image/png": "[encoded data removed]",
      "text/plain": [
       "<Figure size 432x288 with 2 Axes>"
      ]
     },
     "metadata": {},
     "output_type": "display_data"
    }
   ],
   "source": [
    "sns.heatmap(df.corr())\n",
    "\n",
    "df.corr()"
   ]
  },
  {
   "cell_type": "code",
   "execution_count": 12,
   "metadata": {},
   "outputs": [
    {
     "name": "stdout",
     "output_type": "stream",
     "text": [
      "Apply No counts: 650514\n",
      "Apply Yes counts: 67060\n"
     ]
    },
    {
     "data": {
      "image/png": "[encoded data removed]",
      "text/plain": [
       "<Figure size 432x288 with 1 Axes>"
      ]
     },
     "metadata": {},
     "output_type": "display_data"
    }
   ],
   "source": [
    "count_classes = pd.value_counts(df['apply'], sort = True)\n",
    "count_classes.plot(kind = 'bar')\n",
    "\n",
    "plt.title(\"Apply Rate\")\n",
    "plt.xticks(range(2))\n",
    "plt.xlabel(\"Class\")\n",
    "plt.ylabel(\"Frequency\");\n",
    "\n",
    "print('Apply No counts:',df['apply'].value_counts()[0])\n",
    "print('Apply Yes counts:',df['apply'].value_counts()[1])"
   ]
  },
  {
   "cell_type": "code",
   "execution_count": 13,
   "metadata": {},
   "outputs": [
    {
     "data": {
      "image/png": "[encoded data removed]",
      "text/plain": [
       "<Figure size 864x432 with 2 Axes>"
      ]
     },
     "metadata": {},
     "output_type": "display_data"
    }
   ],
   "source": [
    "#Checking Outliers\n",
    "fig, (ax1, ax2) = plt.subplots(ncols=2, figsize=(12,6))\n",
    "s = sns.boxplot(ax = ax1, x=\"apply\", y=\"title_proximity_tfidf\", hue=\"apply\",data=df, palette=\"PRGn\",showfliers=True)\n",
    "s = sns.boxplot(ax = ax2, x=\"apply\", y=\"title_proximity_tfidf\", hue=\"apply\",data=df, palette=\"PRGn\",showfliers=False)\n",
    "plt.show();"
   ]
  },
  {
   "cell_type": "code",
   "execution_count": 14,
   "metadata": {},
   "outputs": [
    {
     "data": {
      "image/png": "[encoded data removed]",
      "text/plain": [
       "<Figure size 864x432 with 2 Axes>"
      ]
     },
     "metadata": {},
     "output_type": "display_data"
    }
   ],
   "source": [
    "#Checking Outliers\n",
    "fig, (ax1, ax2) = plt.subplots(ncols=2, figsize=(12,6))\n",
    "s = sns.boxplot(ax = ax1, x=\"apply\", y=\"description_proximity_tfidf\", hue=\"apply\",data=df, palette=\"PRGn\",showfliers=True)\n",
    "s = sns.boxplot(ax = ax2, x=\"apply\", y=\"description_proximity_tfidf\", hue=\"apply\",data=df, palette=\"PRGn\",showfliers=False)\n",
    "plt.show();"
   ]
  },
  {
   "cell_type": "code",
   "execution_count": 15,
   "metadata": {},
   "outputs": [
    {
     "data": {
      "image/png": "[encoded data removed]",
      "text/plain": [
       "<Figure size 864x432 with 2 Axes>"
      ]
     },
     "metadata": {},
     "output_type": "display_data"
    }
   ],
   "source": [
    "#Checking Outliers\n",
    "fig, (ax1, ax2) = plt.subplots(ncols=2, figsize=(12,6))\n",
    "s = sns.boxplot(ax = ax1, x=\"apply\", y=\"main_query_tfidf\", hue=\"apply\",data=df, palette=\"PRGn\",showfliers=True)\n",
    "s = sns.boxplot(ax = ax2, x=\"apply\", y=\"main_query_tfidf\", hue=\"apply\",data=df, palette=\"PRGn\",showfliers=False)\n",
    "plt.show();"
   ]
  },
  {
   "cell_type": "code",
   "execution_count": 16,
   "metadata": {},
   "outputs": [
    {
     "data": {
      "image/png": "[encoded data removed]",
      "text/plain": [
       "<Figure size 864x432 with 2 Axes>"
      ]
     },
     "metadata": {},
     "output_type": "display_data"
    }
   ],
   "source": [
    "#Checking Outliers\n",
    "fig, (ax1, ax2) = plt.subplots(ncols=2, figsize=(12,6))\n",
    "s = sns.boxplot(ax = ax1, x=\"apply\", y=\"query_jl_score\", hue=\"apply\",data=df, palette=\"PRGn\",showfliers=True)\n",
    "s = sns.boxplot(ax = ax2, x=\"apply\", y=\"query_jl_score\", hue=\"apply\",data=df, palette=\"PRGn\",showfliers=False)\n",
    "plt.show();"
   ]
  },
  {
   "cell_type": "markdown",
   "metadata": {},
   "source": [
    "## Predictive model"
   ]
  },
  {
   "cell_type": "markdown",
   "metadata": {},
   "source": [
    "### Lets split the dataset in to training and testing set"
   ]
  },
  {
   "cell_type": "code",
   "execution_count": 26,
   "metadata": {},
   "outputs": [],
   "source": [
    "df['search_date_pacific'] = pd.to_datetime(df['search_date_pacific'])\n",
    "df.sort_values(by = ['search_date_pacific'], inplace=True)\n",
    "train = df[df['search_date_pacific'] < '2018-01-27']\n",
    "test = df[df['search_date_pacific'] >= '2018-01-27']"
   ]
  },
  {
   "cell_type": "code",
   "execution_count": 59,
   "metadata": {},
   "outputs": [
    {
     "data": {
      "text/html": [
       "<div>\n",
       "<style scoped>\n",
       "    .dataframe tbody tr th:only-of-type {\n",
       "        vertical-align: middle;\n",
       "    }\n",
       "\n",
       "    .dataframe tbody tr th {\n",
       "        vertical-align: top;\n",
       "    }\n",
       "\n",
       "    .dataframe thead th {\n",
       "        text-align: right;\n",
       "    }\n",
       "</style>\n",
       "<table border=\"1\" class=\"dataframe\">\n",
       "  <thead>\n",
       "    <tr style=\"text-align: right;\">\n",
       "      <th></th>\n",
       "      <th>title_proximity_tfidf</th>\n",
       "      <th>description_proximity_tfidf</th>\n",
       "      <th>main_query_tfidf</th>\n",
       "      <th>query_jl_score</th>\n",
       "      <th>query_title_score</th>\n",
       "      <th>city_match</th>\n",
       "      <th>job_age_days</th>\n",
       "      <th>apply</th>\n",
       "      <th>search_date_pacific</th>\n",
       "      <th>class_id</th>\n",
       "    </tr>\n",
       "  </thead>\n",
       "  <tbody>\n",
       "    <tr>\n",
       "      <th>0</th>\n",
       "      <td>0.000000</td>\n",
       "      <td>0.000000</td>\n",
       "      <td>0.000000</td>\n",
       "      <td>0.004824</td>\n",
       "      <td>0.006628</td>\n",
       "      <td>0.0</td>\n",
       "      <td>5.0</td>\n",
       "      <td>0</td>\n",
       "      <td>2018-01-21</td>\n",
       "      <td>-7613806991329176388</td>\n",
       "    </tr>\n",
       "    <tr>\n",
       "      <th>741095</th>\n",
       "      <td>0.000000</td>\n",
       "      <td>0.031255</td>\n",
       "      <td>0.000000</td>\n",
       "      <td>0.009068</td>\n",
       "      <td>0.008513</td>\n",
       "      <td>0.0</td>\n",
       "      <td>3.0</td>\n",
       "      <td>0</td>\n",
       "      <td>2018-01-21</td>\n",
       "      <td>-3696411351851333000</td>\n",
       "    </tr>\n",
       "    <tr>\n",
       "      <th>741105</th>\n",
       "      <td>0.000000</td>\n",
       "      <td>0.000000</td>\n",
       "      <td>0.144658</td>\n",
       "      <td>0.038068</td>\n",
       "      <td>0.030200</td>\n",
       "      <td>0.0</td>\n",
       "      <td>5.0</td>\n",
       "      <td>0</td>\n",
       "      <td>2018-01-21</td>\n",
       "      <td>8822383975910322601</td>\n",
       "    </tr>\n",
       "    <tr>\n",
       "      <th>741108</th>\n",
       "      <td>0.000000</td>\n",
       "      <td>0.274244</td>\n",
       "      <td>0.000000</td>\n",
       "      <td>0.010858</td>\n",
       "      <td>0.010226</td>\n",
       "      <td>1.0</td>\n",
       "      <td>1.0</td>\n",
       "      <td>0</td>\n",
       "      <td>2018-01-21</td>\n",
       "      <td>-4397799785543262999</td>\n",
       "    </tr>\n",
       "    <tr>\n",
       "      <th>741114</th>\n",
       "      <td>21.797373</td>\n",
       "      <td>0.036895</td>\n",
       "      <td>4.268209</td>\n",
       "      <td>0.008116</td>\n",
       "      <td>0.013660</td>\n",
       "      <td>1.0</td>\n",
       "      <td>2.0</td>\n",
       "      <td>0</td>\n",
       "      <td>2018-01-21</td>\n",
       "      <td>8822383975910322601</td>\n",
       "    </tr>\n",
       "  </tbody>\n",
       "</table>\n",
       "</div>"
      ],
      "text/plain": [
       "        title_proximity_tfidf  description_proximity_tfidf  main_query_tfidf  \\\n",
       "0                    0.000000                     0.000000          0.000000   \n",
       "741095               0.000000                     0.031255          0.000000   \n",
       "741105               0.000000                     0.000000          0.144658   \n",
       "741108               0.000000                     0.274244          0.000000   \n",
       "741114              21.797373                     0.036895          4.268209   \n",
       "\n",
       "        query_jl_score  query_title_score  city_match  job_age_days  apply  \\\n",
       "0             0.004824           0.006628         0.0           5.0      0   \n",
       "741095        0.009068           0.008513         0.0           3.0      0   \n",
       "741105        0.038068           0.030200         0.0           5.0      0   \n",
       "741108        0.010858           0.010226         1.0           1.0      0   \n",
       "741114        0.008116           0.013660         1.0           2.0      0   \n",
       "\n",
       "       search_date_pacific             class_id  \n",
       "0               2018-01-21 -7613806991329176388  \n",
       "741095          2018-01-21 -3696411351851333000  \n",
       "741105          2018-01-21  8822383975910322601  \n",
       "741108          2018-01-21 -4397799785543262999  \n",
       "741114          2018-01-21  8822383975910322601  "
      ]
     },
     "execution_count": 59,
     "metadata": {},
     "output_type": "execute_result"
    }
   ],
   "source": [
    "train.head()"
   ]
  },
  {
   "cell_type": "code",
   "execution_count": 43,
   "metadata": {},
   "outputs": [],
   "source": [
    "train_x = train.iloc[:,0:7]\n",
    "train_y = train.iloc[:,7]\n",
    "test_x = test.iloc[:,0:7]\n",
    "test_y = test.iloc[:,7]\n",
    "\n",
    "scaler = StandardScaler()\n",
    "train_x_1 = scaler.fit_transform(train_x)\n",
    "test_x_1 = scaler.transform(test_x)"
   ]
  },
  {
   "cell_type": "code",
   "execution_count": 55,
   "metadata": {},
   "outputs": [
    {
     "data": {
      "text/html": [
       "<div>\n",
       "<style scoped>\n",
       "    .dataframe tbody tr th:only-of-type {\n",
       "        vertical-align: middle;\n",
       "    }\n",
       "\n",
       "    .dataframe tbody tr th {\n",
       "        vertical-align: top;\n",
       "    }\n",
       "\n",
       "    .dataframe thead th {\n",
       "        text-align: right;\n",
       "    }\n",
       "</style>\n",
       "<table border=\"1\" class=\"dataframe\">\n",
       "  <thead>\n",
       "    <tr style=\"text-align: right;\">\n",
       "      <th></th>\n",
       "      <th>0</th>\n",
       "      <th>1</th>\n",
       "      <th>2</th>\n",
       "      <th>3</th>\n",
       "      <th>4</th>\n",
       "      <th>5</th>\n",
       "      <th>6</th>\n",
       "    </tr>\n",
       "  </thead>\n",
       "  <tbody>\n",
       "    <tr>\n",
       "      <th>0</th>\n",
       "      <td>-0.590506</td>\n",
       "      <td>0.048090</td>\n",
       "      <td>-0.161864</td>\n",
       "      <td>-0.117136</td>\n",
       "      <td>0.285660</td>\n",
       "      <td>0.923156</td>\n",
       "      <td>-0.482118</td>\n",
       "    </tr>\n",
       "    <tr>\n",
       "      <th>1</th>\n",
       "      <td>-0.590506</td>\n",
       "      <td>0.524185</td>\n",
       "      <td>-0.881220</td>\n",
       "      <td>0.055438</td>\n",
       "      <td>-0.279335</td>\n",
       "      <td>0.923156</td>\n",
       "      <td>-0.260403</td>\n",
       "    </tr>\n",
       "    <tr>\n",
       "      <th>2</th>\n",
       "      <td>0.736283</td>\n",
       "      <td>-0.168010</td>\n",
       "      <td>0.882084</td>\n",
       "      <td>-0.580269</td>\n",
       "      <td>-0.387447</td>\n",
       "      <td>-1.083241</td>\n",
       "      <td>-0.426689</td>\n",
       "    </tr>\n",
       "    <tr>\n",
       "      <th>3</th>\n",
       "      <td>1.632780</td>\n",
       "      <td>-0.363470</td>\n",
       "      <td>1.224030</td>\n",
       "      <td>0.527357</td>\n",
       "      <td>-0.276160</td>\n",
       "      <td>0.923156</td>\n",
       "      <td>0.626458</td>\n",
       "    </tr>\n",
       "    <tr>\n",
       "      <th>4</th>\n",
       "      <td>-0.590506</td>\n",
       "      <td>-0.363470</td>\n",
       "      <td>0.389892</td>\n",
       "      <td>-1.650707</td>\n",
       "      <td>-0.547024</td>\n",
       "      <td>-1.083241</td>\n",
       "      <td>-0.094116</td>\n",
       "    </tr>\n",
       "  </tbody>\n",
       "</table>\n",
       "</div>"
      ],
      "text/plain": [
       "          0         1         2         3         4         5         6\n",
       "0 -0.590506  0.048090 -0.161864 -0.117136  0.285660  0.923156 -0.482118\n",
       "1 -0.590506  0.524185 -0.881220  0.055438 -0.279335  0.923156 -0.260403\n",
       "2  0.736283 -0.168010  0.882084 -0.580269 -0.387447 -1.083241 -0.426689\n",
       "3  1.632780 -0.363470  1.224030  0.527357 -0.276160  0.923156  0.626458\n",
       "4 -0.590506 -0.363470  0.389892 -1.650707 -0.547024 -1.083241 -0.094116"
      ]
     },
     "execution_count": 55,
     "metadata": {},
     "output_type": "execute_result"
    }
   ],
   "source": [
    "train_x_1 = pd.DataFrame(train_x_1)\n",
    "train_x_1.head()"
   ]
  },
  {
   "cell_type": "code",
   "execution_count": 56,
   "metadata": {},
   "outputs": [
    {
     "data": {
      "text/html": [
       "<div>\n",
       "<style scoped>\n",
       "    .dataframe tbody tr th:only-of-type {\n",
       "        vertical-align: middle;\n",
       "    }\n",
       "\n",
       "    .dataframe tbody tr th {\n",
       "        vertical-align: top;\n",
       "    }\n",
       "\n",
       "    .dataframe thead th {\n",
       "        text-align: right;\n",
       "    }\n",
       "</style>\n",
       "<table border=\"1\" class=\"dataframe\">\n",
       "  <thead>\n",
       "    <tr style=\"text-align: right;\">\n",
       "      <th></th>\n",
       "      <th>0</th>\n",
       "      <th>1</th>\n",
       "      <th>2</th>\n",
       "      <th>3</th>\n",
       "      <th>4</th>\n",
       "      <th>5</th>\n",
       "      <th>6</th>\n",
       "    </tr>\n",
       "  </thead>\n",
       "  <tbody>\n",
       "    <tr>\n",
       "      <th>0</th>\n",
       "      <td>-0.590506</td>\n",
       "      <td>0.048090</td>\n",
       "      <td>-0.161864</td>\n",
       "      <td>-0.117136</td>\n",
       "      <td>0.285660</td>\n",
       "      <td>0.923156</td>\n",
       "      <td>-0.482118</td>\n",
       "    </tr>\n",
       "    <tr>\n",
       "      <th>1</th>\n",
       "      <td>-0.590506</td>\n",
       "      <td>0.524185</td>\n",
       "      <td>-0.881220</td>\n",
       "      <td>0.055438</td>\n",
       "      <td>-0.279335</td>\n",
       "      <td>0.923156</td>\n",
       "      <td>-0.260403</td>\n",
       "    </tr>\n",
       "    <tr>\n",
       "      <th>2</th>\n",
       "      <td>0.736283</td>\n",
       "      <td>-0.168010</td>\n",
       "      <td>0.882084</td>\n",
       "      <td>-0.580269</td>\n",
       "      <td>-0.387447</td>\n",
       "      <td>-1.083241</td>\n",
       "      <td>-0.426689</td>\n",
       "    </tr>\n",
       "    <tr>\n",
       "      <th>3</th>\n",
       "      <td>1.632780</td>\n",
       "      <td>-0.363470</td>\n",
       "      <td>1.224030</td>\n",
       "      <td>0.527357</td>\n",
       "      <td>-0.276160</td>\n",
       "      <td>0.923156</td>\n",
       "      <td>0.626458</td>\n",
       "    </tr>\n",
       "    <tr>\n",
       "      <th>4</th>\n",
       "      <td>-0.590506</td>\n",
       "      <td>-0.363470</td>\n",
       "      <td>0.389892</td>\n",
       "      <td>-1.650707</td>\n",
       "      <td>-0.547024</td>\n",
       "      <td>-1.083241</td>\n",
       "      <td>-0.094116</td>\n",
       "    </tr>\n",
       "  </tbody>\n",
       "</table>\n",
       "</div>"
      ],
      "text/plain": [
       "          0         1         2         3         4         5         6\n",
       "0 -0.590506  0.048090 -0.161864 -0.117136  0.285660  0.923156 -0.482118\n",
       "1 -0.590506  0.524185 -0.881220  0.055438 -0.279335  0.923156 -0.260403\n",
       "2  0.736283 -0.168010  0.882084 -0.580269 -0.387447 -1.083241 -0.426689\n",
       "3  1.632780 -0.363470  1.224030  0.527357 -0.276160  0.923156  0.626458\n",
       "4 -0.590506 -0.363470  0.389892 -1.650707 -0.547024 -1.083241 -0.094116"
      ]
     },
     "execution_count": 56,
     "metadata": {},
     "output_type": "execute_result"
    }
   ],
   "source": [
    "test_x_1.head()"
   ]
  },
  {
   "cell_type": "code",
   "execution_count": 38,
   "metadata": {},
   "outputs": [
    {
     "name": "stderr",
     "output_type": "stream",
     "text": [
      "[Parallel(n_jobs=1)]: Using backend SequentialBackend with 1 concurrent workers.\n",
      "[Parallel(n_jobs=1)]: Done 100 out of 100 | elapsed:  4.6min finished\n",
      "[Parallel(n_jobs=1)]: Using backend SequentialBackend with 1 concurrent workers.\n"
     ]
    },
    {
     "name": "stdout",
     "output_type": "stream",
     "text": [
      "279.9005081653595 sec\n"
     ]
    },
    {
     "name": "stderr",
     "output_type": "stream",
     "text": [
      "[Parallel(n_jobs=1)]: Done 100 out of 100 | elapsed:    5.3s finished\n"
     ]
    }
   ],
   "source": [
    "rf = RandomForestClassifier(bootstrap=False, n_estimators=100, criterion='entropy',random_state=111, verbose=1)\n",
    "t = time.time()\n",
    "rf.fit(train_x_1, train_y)\n",
    "predictions = rf.predict(test_x_1)\n",
    "#predictions = cross_val_predict(rf, train_x, train_y, cv=5)\n",
    "print(time.time()-t,'sec')"
   ]
  },
  {
   "cell_type": "code",
   "execution_count": 30,
   "metadata": {},
   "outputs": [],
   "source": [
    "# rf.fit(train_x, train_y)\n",
    "# predict = rf.predict(test_x)"
   ]
  },
  {
   "cell_type": "code",
   "execution_count": 39,
   "metadata": {},
   "outputs": [
    {
     "name": "stdout",
     "output_type": "stream",
     "text": [
      "F1 score for Random Forest is 0.0\n",
      "The Accuracy for Random Forest is: 0.9101590528581679\n",
      "The confustion matrix is:\n",
      " [[60886     6]\n",
      " [ 6004     0]]\n",
      "RF's AUC-ROC is: 0.50\n"
     ]
    }
   ],
   "source": [
    "print('F1 score for Random Forest is',f1_score(test_y, predictions))\n",
    "print('The Accuracy for Random Forest is:',accuracy_score(test_y, predictions))\n",
    "print('The confustion matrix is:\\n',confusion_matrix(test_y, predictions))\n",
    "print(\"RF's AUC-ROC is: %3.2f\" % (roc_auc_score(test_y, predictions)))"
   ]
  },
  {
   "cell_type": "code",
   "execution_count": 44,
   "metadata": {},
   "outputs": [
    {
     "name": "stdout",
     "output_type": "stream",
     "text": [
      "XGBoost's AUC-ROC is: 0.50\n",
      "Time consumed for training: 40.459\n",
      "Time consumed for prediction: 0.13588 seconds\n"
     ]
    }
   ],
   "source": [
    "xgb = XGBClassifier(n_estimators=100)\n",
    "training_start = time.perf_counter()\n",
    "xgb.fit(train_x_1, train_y)\n",
    "training_end = time.perf_counter()\n",
    "prediction_start = time.perf_counter()\n",
    "preds = xgb.predict(test_x_1)\n",
    "prediction_end = time.perf_counter()\n",
    "acc_xgb = accuracy_score(test_y,preds)\n",
    "ROC_XGboost = roc_auc_score(test_y,preds)\n",
    "xgb_train_time = training_end-training_start\n",
    "xgb_prediction_time = prediction_end-prediction_start\n",
    "print(\"XGBoost's AUC-ROC is: %3.2f\" % (ROC_XGboost))\n",
    "print(\"Time consumed for training: %4.3f\" % (xgb_train_time))\n",
    "print(\"Time consumed for prediction: %6.5f seconds\" % (xgb_prediction_time))"
   ]
  },
  {
   "cell_type": "code",
   "execution_count": 47,
   "metadata": {},
   "outputs": [
    {
     "name": "stdout",
     "output_type": "stream",
     "text": [
      "Confusion Matrix for xgboost\n",
      " [[60892     0]\n",
      " [ 6004     0]]\n",
      "F1_Score 0.0\n",
      "XGBoost's AUC-ROC is: 0.50\n"
     ]
    }
   ],
   "source": [
    "print('Confusion Matrix for xgboost\\n', confusion_matrix(test_y, preds))\n",
    "print('F1_Score', f1_score(test_y,preds))\n",
    "print(\"XGBoost's AUC-ROC is: %3.2f\" % (roc_auc_score(test_y, preds)))"
   ]
  },
  {
   "cell_type": "code",
   "execution_count": null,
   "metadata": {},
   "outputs": [],
   "source": [
    "t = time.time()\n",
    "svc = SVC(kernel='poly',random_state=0)\n",
    "svc.fit(train_x,train_y)\n",
    "print(time.time()-t,'sec')"
   ]
  },
  {
   "cell_type": "code",
   "execution_count": null,
   "metadata": {},
   "outputs": [],
   "source": [
    "df_practise = df.iloc[0:10000,:]\n",
    "practise_train_x = df_practise.iloc[:,0:7]\n",
    "practise_train_y = df_practise.iloc[:,7]\n",
    "t = time.time()\n",
    "svc = SVC(kernel='poly',random_state=0)\n",
    "svc.fit(practise_train_x,practise_train_y)\n",
    "print(time.time()-t,'sec')"
   ]
  },
  {
   "cell_type": "markdown",
   "metadata": {},
   "source": [
    "### Logistic Regression"
   ]
  },
  {
   "cell_type": "code",
   "execution_count": 50,
   "metadata": {},
   "outputs": [
    {
     "name": "stdout",
     "output_type": "stream",
     "text": [
      "Confusion Matrix for xgboost\n",
      " [[60892     0]\n",
      " [ 6004     0]]\n",
      "F1_Score 0.0\n",
      "XGBoost's AUC-ROC is: 0.50\n"
     ]
    }
   ],
   "source": [
    "lr = LogisticRegression(random_state=0, solver='lbfgs', multi_class='multinomial').fit(train_x_1, train_y)\n",
    "preds_lr = lr.predict(test_x_1)\n",
    "print('Confusion Matrix for xgboost\\n', confusion_matrix(test_y, preds_lr))\n",
    "print('F1_Score', f1_score(test_y,preds_lr))\n",
    "print(\"XGBoost's AUC-ROC is: %3.2f\" % (roc_auc_score(test_y, preds_lr)))"
   ]
  },
  {
   "cell_type": "code",
   "execution_count": null,
   "metadata": {},
   "outputs": [],
   "source": [
    "import keras\n",
    "from keras.models import Sequential\n",
    "from keras.layers import Dense\n",
    "\n",
    "clf = Sequential()\n",
    "\n",
    "# Adding input layer and the first hidden layer\n",
    "clf.add(Dense(output_dim = 5, init = 'glorot_normal', activation = 'relu', input_dim = 7))\n",
    "\n",
    "# Adding second hidden layer\n",
    "clf.add(Dense(output_dim = 3, init = 'uniform', activation = 'relu'))\n",
    "\n",
    "# Adding output layer\n",
    "clf.add(Dense(output_dim = 1, init = 'uniform', activation = 'sigmoid'))\n",
    "\n",
    "# Compiling neural nets\n",
    "clf.compile(optimizer = 'adam', loss = 'binary_crossentropy', metrics = ['f1score'])\n",
    "\n",
    "# Training\n",
    "clf.fit(df_train_x, df_train_y, batch_size = 250, nb_epoch = 100)\n",
    "\n",
    "# predicting & evaluating the model\n",
    "df_pred_y = clf.predict(df_test_x)\n",
    "y_pred = (df_pred_y > 0.5)"
   ]
  },
  {
   "cell_type": "code",
   "execution_count": null,
   "metadata": {},
   "outputs": [],
   "source": [
    "# Let's implement simple classifiers\n",
    "\n",
    "classifiers = {\n",
    "    \"LogisiticRegression\": LogisticRegression(),\n",
    "    \"KNearest\": KNeighborsClassifier(),\n",
    "    \"Support Vector Classifier\": SVC(),\n",
    "    \"DecisionTreeClassifier\": DecisionTreeClassifier()\n",
    "}\n",
    "\n",
    "\n"
   ]
  },
  {
   "cell_type": "code",
   "execution_count": 7,
   "metadata": {},
   "outputs": [
    {
     "name": "stdout",
     "output_type": "stream",
     "text": [
      "[[0.58980105 0.36209636 0.88163478 ... 0.3071132  0.32107275 1.28248127]\n",
      " [0.80799743 0.18069629 0.42716903 ... 0.3071132  0.32107275 0.15157293]\n",
      " [0.80799743 0.18069629 0.42716903 ... 0.3071132  3.11455891 0.15157293]\n",
      " ...\n",
      " [1.6730727  0.18904342 1.27896937 ... 0.18189394 0.32107275 0.01137183]\n",
      " [0.58980105 0.36209636 0.80033817 ... 0.23622807 0.32107275 1.54027709]\n",
      " [0.58980105 0.36209636 0.80672656 ... 0.19844495 0.32107275 0.86432535]]\n"
     ]
    }
   ],
   "source": [
    "from scipy import stats\n",
    "\n",
    "z = np.abs(stats.zscore(df.drop(['search_date_pacific'],axis=1)))\n",
    "print(z)"
   ]
  },
  {
   "cell_type": "code",
   "execution_count": 8,
   "metadata": {},
   "outputs": [],
   "source": [
    "z = pd.DataFrame(z)"
   ]
  },
  {
   "cell_type": "code",
   "execution_count": 9,
   "metadata": {},
   "outputs": [],
   "source": [
    "z.columns = df.drop(['search_date_pacific'],axis=1).columns"
   ]
  },
  {
   "cell_type": "code",
   "execution_count": 10,
   "metadata": {},
   "outputs": [
    {
     "name": "stdout",
     "output_type": "stream",
     "text": [
      "(array([     2,     16,     22, ..., 717563, 717564, 717566]), array([7, 3, 3, ..., 4, 1, 7]))\n"
     ]
    }
   ],
   "source": [
    "print(np.where(z > 3))"
   ]
  },
  {
   "cell_type": "code",
   "execution_count": 27,
   "metadata": {},
   "outputs": [],
   "source": [
    "from scipy import stats\n",
    "#df = df.drop(['search_date_pacific'],axis=1)\n",
    "df_new = df[(np.abs(stats.zscore(df)) < 4).all(axis=1)]"
   ]
  },
  {
   "cell_type": "code",
   "execution_count": 28,
   "metadata": {},
   "outputs": [
    {
     "data": {
      "text/plain": [
       "(683017, 9)"
      ]
     },
     "execution_count": 28,
     "metadata": {},
     "output_type": "execute_result"
    }
   ],
   "source": [
    "df_new.shape"
   ]
  },
  {
   "cell_type": "code",
   "execution_count": 26,
   "metadata": {},
   "outputs": [
    {
     "data": {
      "text/plain": [
       "(717574, 9)"
      ]
     },
     "execution_count": 26,
     "metadata": {},
     "output_type": "execute_result"
    }
   ],
   "source": [
    "df.shape"
   ]
  },
  {
   "cell_type": "code",
   "execution_count": null,
   "metadata": {},
   "outputs": [],
   "source": []
  }
 ],
 "metadata": {
  "kernelspec": {
   "display_name": "Python 3",
   "language": "python",
   "name": "python3"
  },
  "language_info": {
   "codemirror_mode": {
    "name": "ipython",
    "version": 3
   },
   "file_extension": ".py",
   "mimetype": "text/x-python",
   "name": "python",
   "nbconvert_exporter": "python",
   "pygments_lexer": "ipython3",
   "version": "3.6.5"
  }
 },
 "nbformat": 4,
 "nbformat_minor": 2
}
