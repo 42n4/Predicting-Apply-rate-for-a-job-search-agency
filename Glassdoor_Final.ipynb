{
 "cells": [
  {
   "cell_type": "code",
   "execution_count": 52,
   "metadata": {},
   "outputs": [],
   "source": [
    "import numpy as np                  # Mathetimatical Operations\n",
    "import pandas as pd                 # Data manipulation\n",
    "\n",
    "# Visualization\n",
    "import seaborn as sns\n",
    "import matplotlib.pyplot as plt     \n",
    "%matplotlib inline\n",
    "\n",
    "# Sklearn\n",
    "from sklearn.model_selection import train_test_split, RandomizedSearchCV, StratifiedKFold, GridSearchCV\n",
    "from sklearn import preprocessing\n",
    "from sklearn.preprocessing import LabelEncoder\n",
    "from sklearn.preprocessing import OneHotEncoder\n",
    "from sklearn.preprocessing import StandardScaler\n",
    "from sklearn.cluster import KMeans\n",
    "from sklearn.neighbors import KNeighborsClassifier\n",
    "from sklearn.metrics import accuracy_score, auc, roc_curve, roc_auc_score, classification_report, mean_squared_error, confusion_matrix, f1_score, precision_recall_curve, r2_score \n",
    "from sklearn.ensemble import AdaBoostClassifier, BaggingClassifier, GradientBoostingClassifier, RandomForestClassifier, VotingClassifier\n",
    "from sklearn.ensemble import AdaBoostRegressor, BaggingRegressor, GradientBoostingRegressor, RandomForestRegressor\n",
    "\n",
    "# Scipy\n",
    "from scipy.stats import stats\n",
    "from scipy.stats import ttest_ind, ttest_ind_from_stats\n",
    "\n",
    "# XGBoost\n",
    "from xgboost import XGBClassifier\n",
    "from xgboost import XGBRegressor\n",
    "import xgboost as xgb\n",
    "\n",
    "# LightGBM\n",
    "import lightgbm as lgb\n",
    "\n",
    "# Datetime\n",
    "import datetime \n",
    "import time\n",
    "from datetime import datetime\n",
    "\n",
    "# Folium\n",
    "import folium \n",
    "from folium import plugins\n",
    "from folium.plugins import HeatMap\n",
    "\n",
    "# Image\n",
    "from IPython.display import Image\n",
    "\n",
    "# Bayesian Optimizer\n",
    "from skopt import BayesSearchCV\n",
    "\n",
    "# Itertools\n",
    "import itertools\n",
    "\n",
    "# Remove warnings\n",
    "import warnings\n",
    "warnings.filterwarnings('ignore')"
   ]
  },
  {
   "cell_type": "markdown",
   "metadata": {},
   "source": [
    "### We will be following the process to solve this problem\n",
    "\n",
    "1. Data Collection\n",
    "2. Exploratory Data Analysis\n",
    "3. Data Cleaning \n",
    "4. Feature Engineering \n",
    "5. Model Training (including cross validation and hyperparameter tuning)\n",
    "6. Insights"
   ]
  },
  {
   "cell_type": "markdown",
   "metadata": {},
   "source": [
    "### 1. Data collection"
   ]
  },
  {
   "cell_type": "code",
   "execution_count": 53,
   "metadata": {},
   "outputs": [],
   "source": [
    "df = pd.read_csv('Apply_Rate_2019.csv')"
   ]
  },
  {
   "cell_type": "markdown",
   "metadata": {},
   "source": [
    "### 2. Exploratory Data Analysis"
   ]
  },
  {
   "cell_type": "code",
   "execution_count": 54,
   "metadata": {},
   "outputs": [
    {
     "data": {
      "text/html": [
       "<div>\n",
       "<style scoped>\n",
       "    .dataframe tbody tr th:only-of-type {\n",
       "        vertical-align: middle;\n",
       "    }\n",
       "\n",
       "    .dataframe tbody tr th {\n",
       "        vertical-align: top;\n",
       "    }\n",
       "\n",
       "    .dataframe thead th {\n",
       "        text-align: right;\n",
       "    }\n",
       "</style>\n",
       "<table border=\"1\" class=\"dataframe\">\n",
       "  <thead>\n",
       "    <tr style=\"text-align: right;\">\n",
       "      <th></th>\n",
       "      <th>title_proximity_tfidf</th>\n",
       "      <th>description_proximity_tfidf</th>\n",
       "      <th>main_query_tfidf</th>\n",
       "      <th>query_jl_score</th>\n",
       "      <th>query_title_score</th>\n",
       "      <th>city_match</th>\n",
       "      <th>job_age_days</th>\n",
       "      <th>apply</th>\n",
       "      <th>search_date_pacific</th>\n",
       "      <th>class_id</th>\n",
       "    </tr>\n",
       "  </thead>\n",
       "  <tbody>\n",
       "    <tr>\n",
       "      <th>0</th>\n",
       "      <td>0.000000</td>\n",
       "      <td>0.000000</td>\n",
       "      <td>0.000000</td>\n",
       "      <td>0.004824</td>\n",
       "      <td>0.006628</td>\n",
       "      <td>0.0</td>\n",
       "      <td>5.0</td>\n",
       "      <td>0</td>\n",
       "      <td>2018-01-21</td>\n",
       "      <td>-7613806991329176388</td>\n",
       "    </tr>\n",
       "    <tr>\n",
       "      <th>1</th>\n",
       "      <td>11.874042</td>\n",
       "      <td>0.043637</td>\n",
       "      <td>2.527080</td>\n",
       "      <td>0.011935</td>\n",
       "      <td>0.011208</td>\n",
       "      <td>0.0</td>\n",
       "      <td>5.0</td>\n",
       "      <td>0</td>\n",
       "      <td>2018-01-21</td>\n",
       "      <td>-1361819269400927213</td>\n",
       "    </tr>\n",
       "    <tr>\n",
       "      <th>2</th>\n",
       "      <td>11.874042</td>\n",
       "      <td>0.043637</td>\n",
       "      <td>2.527080</td>\n",
       "      <td>0.011935</td>\n",
       "      <td>0.011208</td>\n",
       "      <td>0.0</td>\n",
       "      <td>5.0</td>\n",
       "      <td>1</td>\n",
       "      <td>2018-01-21</td>\n",
       "      <td>-1361819269400927213</td>\n",
       "    </tr>\n",
       "    <tr>\n",
       "      <th>3</th>\n",
       "      <td>0.000000</td>\n",
       "      <td>0.000000</td>\n",
       "      <td>3.695809</td>\n",
       "      <td>0.013046</td>\n",
       "      <td>0.033340</td>\n",
       "      <td>0.0</td>\n",
       "      <td>5.0</td>\n",
       "      <td>0</td>\n",
       "      <td>2018-01-23</td>\n",
       "      <td>-3623880078591607667</td>\n",
       "    </tr>\n",
       "    <tr>\n",
       "      <th>4</th>\n",
       "      <td>NaN</td>\n",
       "      <td>NaN</td>\n",
       "      <td>7.868900</td>\n",
       "      <td>0.008065</td>\n",
       "      <td>0.008772</td>\n",
       "      <td>0.0</td>\n",
       "      <td>7.0</td>\n",
       "      <td>0</td>\n",
       "      <td>2018-01-24</td>\n",
       "      <td>-7054510112423797411</td>\n",
       "    </tr>\n",
       "  </tbody>\n",
       "</table>\n",
       "</div>"
      ],
      "text/plain": [
       "   title_proximity_tfidf  description_proximity_tfidf  main_query_tfidf  \\\n",
       "0               0.000000                     0.000000          0.000000   \n",
       "1              11.874042                     0.043637          2.527080   \n",
       "2              11.874042                     0.043637          2.527080   \n",
       "3               0.000000                     0.000000          3.695809   \n",
       "4                    NaN                          NaN          7.868900   \n",
       "\n",
       "   query_jl_score  query_title_score  city_match  job_age_days  apply  \\\n",
       "0        0.004824           0.006628         0.0           5.0      0   \n",
       "1        0.011935           0.011208         0.0           5.0      0   \n",
       "2        0.011935           0.011208         0.0           5.0      1   \n",
       "3        0.013046           0.033340         0.0           5.0      0   \n",
       "4        0.008065           0.008772         0.0           7.0      0   \n",
       "\n",
       "  search_date_pacific             class_id  \n",
       "0          2018-01-21 -7613806991329176388  \n",
       "1          2018-01-21 -1361819269400927213  \n",
       "2          2018-01-21 -1361819269400927213  \n",
       "3          2018-01-23 -3623880078591607667  \n",
       "4          2018-01-24 -7054510112423797411  "
      ]
     },
     "execution_count": 54,
     "metadata": {},
     "output_type": "execute_result"
    }
   ],
   "source": [
    "df.head()"
   ]
  },
  {
   "cell_type": "code",
   "execution_count": 55,
   "metadata": {},
   "outputs": [
    {
     "name": "stdout",
     "output_type": "stream",
     "text": [
      "Total number of observations in the dataset are: 1200890\n"
     ]
    }
   ],
   "source": [
    "# Check the total number of observations in the dataset\n",
    "\n",
    "print('Total number of observations in the dataset are:',df.shape[0])"
   ]
  },
  {
   "cell_type": "code",
   "execution_count": 56,
   "metadata": {},
   "outputs": [
    {
     "name": "stdout",
     "output_type": "stream",
     "text": [
      "<class 'pandas.core.frame.DataFrame'>\n",
      "RangeIndex: 1200890 entries, 0 to 1200889\n",
      "Data columns (total 10 columns):\n",
      "title_proximity_tfidf          948319 non-null float64\n",
      "description_proximity_tfidf    948319 non-null float64\n",
      "main_query_tfidf               1200890 non-null float64\n",
      "query_jl_score                 1200890 non-null float64\n",
      "query_title_score              1200890 non-null float64\n",
      "city_match                     944335 non-null float64\n",
      "job_age_days                   1200890 non-null float64\n",
      "apply                          1200890 non-null int64\n",
      "search_date_pacific            1200890 non-null object\n",
      "class_id                       1200890 non-null int64\n",
      "dtypes: float64(7), int64(2), object(1)\n",
      "memory usage: 91.6+ MB\n"
     ]
    }
   ],
   "source": [
    "df.info()"
   ]
  },
  {
   "cell_type": "markdown",
   "metadata": {},
   "source": [
    "#### Observation: \n",
    "\n",
    "1. title_proximity_tfidf, description_proximity_tfidf and city_match contains null values\n",
    "2. There are 7 float type, 2 integer type and 1 object type features"
   ]
  },
  {
   "cell_type": "code",
   "execution_count": 57,
   "metadata": {},
   "outputs": [
    {
     "data": {
      "text/html": [
       "<div>\n",
       "<style scoped>\n",
       "    .dataframe tbody tr th:only-of-type {\n",
       "        vertical-align: middle;\n",
       "    }\n",
       "\n",
       "    .dataframe tbody tr th {\n",
       "        vertical-align: top;\n",
       "    }\n",
       "\n",
       "    .dataframe thead th {\n",
       "        text-align: right;\n",
       "    }\n",
       "</style>\n",
       "<table border=\"1\" class=\"dataframe\">\n",
       "  <thead>\n",
       "    <tr style=\"text-align: right;\">\n",
       "      <th></th>\n",
       "      <th>title_proximity_tfidf</th>\n",
       "      <th>description_proximity_tfidf</th>\n",
       "      <th>main_query_tfidf</th>\n",
       "      <th>query_jl_score</th>\n",
       "      <th>query_title_score</th>\n",
       "      <th>city_match</th>\n",
       "      <th>job_age_days</th>\n",
       "      <th>class_id</th>\n",
       "    </tr>\n",
       "  </thead>\n",
       "  <tbody>\n",
       "    <tr>\n",
       "      <th>count</th>\n",
       "      <td>948319.000000</td>\n",
       "      <td>948319.000000</td>\n",
       "      <td>1.200890e+06</td>\n",
       "      <td>1.200890e+06</td>\n",
       "      <td>1.200890e+06</td>\n",
       "      <td>944335.000000</td>\n",
       "      <td>1.200890e+06</td>\n",
       "      <td>1.200890e+06</td>\n",
       "    </tr>\n",
       "    <tr>\n",
       "      <th>mean</th>\n",
       "      <td>5.889800</td>\n",
       "      <td>0.096119</td>\n",
       "      <td>1.770301e+00</td>\n",
       "      <td>1.711024e-02</td>\n",
       "      <td>3.580456e-02</td>\n",
       "      <td>0.563676</td>\n",
       "      <td>1.010130e+01</td>\n",
       "      <td>-3.956263e+17</td>\n",
       "    </tr>\n",
       "    <tr>\n",
       "      <th>std</th>\n",
       "      <td>9.749672</td>\n",
       "      <td>0.284249</td>\n",
       "      <td>2.237259e+00</td>\n",
       "      <td>1.220871e-02</td>\n",
       "      <td>4.886690e-02</td>\n",
       "      <td>0.495929</td>\n",
       "      <td>1.738912e+01</td>\n",
       "      <td>5.664017e+18</td>\n",
       "    </tr>\n",
       "    <tr>\n",
       "      <th>min</th>\n",
       "      <td>0.000000</td>\n",
       "      <td>0.000000</td>\n",
       "      <td>0.000000e+00</td>\n",
       "      <td>1.000000e-06</td>\n",
       "      <td>9.998021e-07</td>\n",
       "      <td>0.000000</td>\n",
       "      <td>0.000000e+00</td>\n",
       "      <td>-9.049388e+18</td>\n",
       "    </tr>\n",
       "    <tr>\n",
       "      <th>25%</th>\n",
       "      <td>0.000000</td>\n",
       "      <td>0.000000</td>\n",
       "      <td>0.000000e+00</td>\n",
       "      <td>1.063830e-02</td>\n",
       "      <td>1.256780e-02</td>\n",
       "      <td>0.000000</td>\n",
       "      <td>2.000000e+00</td>\n",
       "      <td>-4.593390e+18</td>\n",
       "    </tr>\n",
       "    <tr>\n",
       "      <th>50%</th>\n",
       "      <td>0.000000</td>\n",
       "      <td>0.000000</td>\n",
       "      <td>2.509947e-01</td>\n",
       "      <td>1.578868e-02</td>\n",
       "      <td>2.066189e-02</td>\n",
       "      <td>1.000000</td>\n",
       "      <td>6.000000e+00</td>\n",
       "      <td>-1.614083e+18</td>\n",
       "    </tr>\n",
       "    <tr>\n",
       "      <th>75%</th>\n",
       "      <td>11.642839</td>\n",
       "      <td>0.063633</td>\n",
       "      <td>3.423265e+00</td>\n",
       "      <td>2.043710e-02</td>\n",
       "      <td>3.760018e-02</td>\n",
       "      <td>1.000000</td>\n",
       "      <td>1.400000e+01</td>\n",
       "      <td>4.315422e+18</td>\n",
       "    </tr>\n",
       "    <tr>\n",
       "      <th>max</th>\n",
       "      <td>93.516720</td>\n",
       "      <td>7.301161</td>\n",
       "      <td>1.774189e+01</td>\n",
       "      <td>2.556893e-01</td>\n",
       "      <td>1.294088e+00</td>\n",
       "      <td>1.000000</td>\n",
       "      <td>1.340000e+03</td>\n",
       "      <td>9.204124e+18</td>\n",
       "    </tr>\n",
       "  </tbody>\n",
       "</table>\n",
       "</div>"
      ],
      "text/plain": [
       "       title_proximity_tfidf  description_proximity_tfidf  main_query_tfidf  \\\n",
       "count          948319.000000                948319.000000      1.200890e+06   \n",
       "mean                5.889800                     0.096119      1.770301e+00   \n",
       "std                 9.749672                     0.284249      2.237259e+00   \n",
       "min                 0.000000                     0.000000      0.000000e+00   \n",
       "25%                 0.000000                     0.000000      0.000000e+00   \n",
       "50%                 0.000000                     0.000000      2.509947e-01   \n",
       "75%                11.642839                     0.063633      3.423265e+00   \n",
       "max                93.516720                     7.301161      1.774189e+01   \n",
       "\n",
       "       query_jl_score  query_title_score     city_match  job_age_days  \\\n",
       "count    1.200890e+06       1.200890e+06  944335.000000  1.200890e+06   \n",
       "mean     1.711024e-02       3.580456e-02       0.563676  1.010130e+01   \n",
       "std      1.220871e-02       4.886690e-02       0.495929  1.738912e+01   \n",
       "min      1.000000e-06       9.998021e-07       0.000000  0.000000e+00   \n",
       "25%      1.063830e-02       1.256780e-02       0.000000  2.000000e+00   \n",
       "50%      1.578868e-02       2.066189e-02       1.000000  6.000000e+00   \n",
       "75%      2.043710e-02       3.760018e-02       1.000000  1.400000e+01   \n",
       "max      2.556893e-01       1.294088e+00       1.000000  1.340000e+03   \n",
       "\n",
       "           class_id  \n",
       "count  1.200890e+06  \n",
       "mean  -3.956263e+17  \n",
       "std    5.664017e+18  \n",
       "min   -9.049388e+18  \n",
       "25%   -4.593390e+18  \n",
       "50%   -1.614083e+18  \n",
       "75%    4.315422e+18  \n",
       "max    9.204124e+18  "
      ]
     },
     "execution_count": 57,
     "metadata": {},
     "output_type": "execute_result"
    }
   ],
   "source": [
    "df.drop(['apply'],axis=1).describe()"
   ]
  },
  {
   "cell_type": "markdown",
   "metadata": {},
   "source": [
    "#### Observation:\n",
    "\n",
    "1. There is notably a large difference between 75th %tile and max values of mostly all the predictors.\n",
    "2. Median value of 'title_proximity_tfidf', 'description_proximity_tfidf', 'main_query_tfidf', 'query_jl_score', 'query_title_score', 'job_age_days' is lower than mean\n",
    "3. Thus observation 1 and 2 suggest there are lot of outliers in the data"
   ]
  },
  {
   "cell_type": "code",
   "execution_count": 58,
   "metadata": {},
   "outputs": [
    {
     "name": "stdout",
     "output_type": "stream",
     "text": [
      "Number of customers who didnt apply: 1092887\n",
      "Number of customers who applied: 108003\n",
      "Percentage of apply to non apply 10.119042989546587 %\n"
     ]
    },
    {
     "data": {
      "image/png": "[encoded data removed]",
      "text/plain": [
       "<Figure size 432x288 with 1 Axes>"
      ]
     },
     "metadata": {},
     "output_type": "display_data"
    }
   ],
   "source": [
    "# Lets check the distribution for classes who applied and did not apply\n",
    "\n",
    "count_classes = pd.value_counts(df['apply'], sort = True)\n",
    "count_classes.plot(kind = 'bar')\n",
    "\n",
    "plt.title(\"Apply Rate\")\n",
    "plt.xticks(range(2))\n",
    "plt.xlabel(\"Class\")\n",
    "plt.ylabel(\"Frequency\");\n",
    "\n",
    "print('Number of customers who didnt apply:',df['apply'].value_counts()[0])\n",
    "print('Number of customers who applied:',df['apply'].value_counts()[1])\n",
    "print('Percentage of apply to non apply',df['apply'].value_counts()[0]/df['apply'].value_counts()[1],'%')"
   ]
  },
  {
   "cell_type": "markdown",
   "metadata": {},
   "source": [
    "#### Observation:\n",
    "\n",
    "The data is imbalanced and so we might have to use techniques like resmapling (undersampling or oversampling) or use metrics like AUC-ROC curve or AUPRC or SMOTE to handle imbalanced data. Lets explore further which will help us decide what technique should we use. Note: It is already given in the dataset that I have to use AUC as the metric."
   ]
  },
  {
   "cell_type": "code",
   "execution_count": 59,
   "metadata": {},
   "outputs": [
    {
     "data": {
      "text/plain": [
       "<matplotlib.axes._subplots.AxesSubplot at 0x1208fb6a0>"
      ]
     },
     "execution_count": 59,
     "metadata": {},
     "output_type": "execute_result"
    },
    {
     "data": {
      "image/png": "[encoded data removed]",
      "text/plain": [
       "<Figure size 432x288 with 2 Axes>"
      ]
     },
     "metadata": {},
     "output_type": "display_data"
    }
   ],
   "source": [
    "# Lets check the correlation between the features\n",
    "\n",
    "sns.heatmap(df.corr())"
   ]
  },
  {
   "cell_type": "markdown",
   "metadata": {},
   "source": [
    "#### Observation: \n",
    "\n",
    "1. title_proximity_tfidf and main_query_tfidf are correlated with value of arounf 0.7\n",
    "2. Other features are not highly correlated"
   ]
  },
  {
   "cell_type": "code",
   "execution_count": 60,
   "metadata": {},
   "outputs": [
    {
     "data": {
      "image/png": "[encoded data removed]",
      "text/plain": [
       "<Figure size 504x2468.57 with 7 Axes>"
      ]
     },
     "metadata": {},
     "output_type": "display_data"
    }
   ],
   "source": [
    "# Check the outliers\n",
    "\n",
    "l = ['title_proximity_tfidf', 'description_proximity_tfidf',\n",
    "       'main_query_tfidf', 'query_jl_score', 'query_title_score',\n",
    "       'city_match', 'job_age_days']\n",
    "number_of_columns=7\n",
    "number_of_rows = len(l)-1/number_of_columns\n",
    "plt.figure(figsize=(number_of_columns,5*number_of_rows))\n",
    "for i in range(0,len(l)):\n",
    "    plt.subplot(number_of_rows + 1,number_of_columns,i+1)\n",
    "    sns.set_style('whitegrid')\n",
    "    sns.boxplot(df[l[i]],color='green',orient='v')\n",
    "    plt.tight_layout()"
   ]
  },
  {
   "cell_type": "markdown",
   "metadata": {},
   "source": [
    "#### Observation:\n",
    "\n",
    "As we can see there are lot of outliers in the data"
   ]
  },
  {
   "cell_type": "code",
   "execution_count": 61,
   "metadata": {},
   "outputs": [
    {
     "data": {
      "image/png": "[encoded data removed]",
      "text/plain": [
       "<Figure size 432x288 with 1 Axes>"
      ]
     },
     "metadata": {},
     "output_type": "display_data"
    },
    {
     "data": {
      "image/png": "[encoded data removed]",
      "text/plain": [
       "<Figure size 432x288 with 1 Axes>"
      ]
     },
     "metadata": {},
     "output_type": "display_data"
    },
    {
     "data": {
      "image/png": "[encoded data removed]",
      "text/plain": [
       "<Figure size 432x288 with 1 Axes>"
      ]
     },
     "metadata": {},
     "output_type": "display_data"
    },
    {
     "data": {
      "image/png": "[encoded data removed]",
      "text/plain": [
       "<Figure size 432x288 with 1 Axes>"
      ]
     },
     "metadata": {},
     "output_type": "display_data"
    },
    {
     "data": {
      "image/png": "[encoded data removed]",
      "text/plain": [
       "<Figure size 432x288 with 1 Axes>"
      ]
     },
     "metadata": {},
     "output_type": "display_data"
    },
    {
     "data": {
      "image/png": "[encoded data removed]",
      "text/plain": [
       "<Figure size 432x288 with 1 Axes>"
      ]
     },
     "metadata": {},
     "output_type": "display_data"
    },
    {
     "data": {
      "image/png": "[encoded data removed]",
      "text/plain": [
       "<Figure size 432x288 with 1 Axes>"
      ]
     },
     "metadata": {},
     "output_type": "display_data"
    },
    {
     "data": {
      "image/png": "[encoded data removed]",
      "text/plain": [
       "<Figure size 432x288 with 1 Axes>"
      ]
     },
     "metadata": {},
     "output_type": "display_data"
    }
   ],
   "source": [
    "# Check the distribution\n",
    "\n",
    "# Now to check the linearity of the variables it is a good practice to plot distribution graph and look for skewness \n",
    "# of features. Kernel density estimate (kde) is a quite useful tool for plotting the shape of a distribution.\n",
    "\n",
    "for feature in df.columns[:-2]:\n",
    "    ax = plt.subplot()\n",
    "    sns.distplot(df[df['apply'] == 1][feature], bins=50, label='Anormal')\n",
    "    sns.distplot(df[df['apply'] == 0][feature], bins=50, label='Normal')\n",
    "    ax.set_xlabel('')\n",
    "    ax.set_title('histogram of feature: ' + str(feature))\n",
    "    plt.legend(loc='best')\n",
    "    plt.show()"
   ]
  },
  {
   "cell_type": "markdown",
   "metadata": {},
   "source": [
    "#### Observation:\n",
    "\n",
    "For all the features, both apply and non apply rates have almost similar distributions"
   ]
  },
  {
   "cell_type": "markdown",
   "metadata": {},
   "source": [
    "### 3. Data Cleaning"
   ]
  },
  {
   "cell_type": "code",
   "execution_count": 62,
   "metadata": {},
   "outputs": [
    {
     "name": "stdout",
     "output_type": "stream",
     "text": [
      "(1200890, 10)\n"
     ]
    },
    {
     "data": {
      "text/plain": [
       "(1114759, 10)"
      ]
     },
     "execution_count": 62,
     "metadata": {},
     "output_type": "execute_result"
    }
   ],
   "source": [
    "# Firstly lets drop duplicate entries \n",
    "\n",
    "print(df.shape)\n",
    "df = df.drop_duplicates(keep = 'first')\n",
    "df.shape"
   ]
  },
  {
   "cell_type": "code",
   "execution_count": 63,
   "metadata": {},
   "outputs": [
    {
     "data": {
      "text/plain": [
       "title_proximity_tfidf          212030\n",
       "description_proximity_tfidf    212030\n",
       "main_query_tfidf                    0\n",
       "query_jl_score                      0\n",
       "query_title_score                   0\n",
       "city_match                     243469\n",
       "job_age_days                        0\n",
       "apply                               0\n",
       "search_date_pacific                 0\n",
       "class_id                            0\n",
       "dtype: int64"
      ]
     },
     "execution_count": 63,
     "metadata": {},
     "output_type": "execute_result"
    }
   ],
   "source": [
    "# Check the null values\n",
    "\n",
    "# To handle missing values, there are various techniques:\n",
    "   \n",
    "#    - Listwise deletion\n",
    "#    - Recover the values\n",
    "#    - Educated guessing\n",
    "#    - Average Imputation\n",
    "#    - Common Point imputation\n",
    "#    - Regression Substitution\n",
    "#    - Multiple Imputation\n",
    "   \n",
    "# We deal with handling missing values based on the dataset and domain knowledge. Lets see how we can handle \n",
    "# the null values here. \n",
    "\n",
    "df.isnull().sum()"
   ]
  },
  {
   "cell_type": "code",
   "execution_count": 64,
   "metadata": {},
   "outputs": [
    {
     "data": {
      "text/plain": [
       "0.000000     612554\n",
       "19.385944        14\n",
       "23.526310        14\n",
       "8.866092         14\n",
       "23.583302        12\n",
       "Name: title_proximity_tfidf, dtype: int64"
      ]
     },
     "execution_count": 64,
     "metadata": {},
     "output_type": "execute_result"
    }
   ],
   "source": [
    "# Lets check the value counts for the three columns\n",
    "df['title_proximity_tfidf'].value_counts().head()"
   ]
  },
  {
   "cell_type": "code",
   "execution_count": 65,
   "metadata": {},
   "outputs": [
    {
     "data": {
      "text/plain": [
       "0.000000    510731\n",
       "1.814926         9\n",
       "0.012474         8\n",
       "0.716942         7\n",
       "0.013397         6\n",
       "Name: description_proximity_tfidf, dtype: int64"
      ]
     },
     "execution_count": 65,
     "metadata": {},
     "output_type": "execute_result"
    }
   ],
   "source": [
    "df['description_proximity_tfidf'].value_counts().head()"
   ]
  },
  {
   "cell_type": "code",
   "execution_count": 66,
   "metadata": {},
   "outputs": [
    {
     "data": {
      "text/plain": [
       "1.0    486385\n",
       "0.0    384905\n",
       "Name: city_match, dtype: int64"
      ]
     },
     "execution_count": 66,
     "metadata": {},
     "output_type": "execute_result"
    }
   ],
   "source": [
    "df['city_match'].value_counts().head()"
   ]
  },
  {
   "cell_type": "markdown",
   "metadata": {},
   "source": [
    "#### Observation:\n",
    "\n",
    "The first 2 columns contains mostly value zero so it would be a safe option to impute a value of '0' to the first two columns. For the 'city-match' column, lets check the percentage of apply and non apply before and after we remove the NaN values. If the percentage is same, we can conclude that it is safe to remove rows that have NaN values in City_match column."
   ]
  },
  {
   "cell_type": "code",
   "execution_count": 67,
   "metadata": {},
   "outputs": [],
   "source": [
    "df['title_proximity_tfidf'].fillna(0,inplace=True)\n",
    "df['description_proximity_tfidf'].fillna(0,inplace=True)\n",
    "df.dropna(subset=['city_match'],inplace=True)"
   ]
  },
  {
   "cell_type": "markdown",
   "metadata": {},
   "source": [
    "#### Note: I will not be removing outliers since there is possibility of them carrying important information which can help us detect the apply and non apply cases"
   ]
  },
  {
   "cell_type": "markdown",
   "metadata": {},
   "source": [
    "### 4. Feature Engineering"
   ]
  },
  {
   "cell_type": "markdown",
   "metadata": {},
   "source": [
    "Below are some of the ways we can perform feature engineering but please note that this is not an exhaustive compendium of all feature engineering because there are limitless possibilities for this step. The good news is that this skill will naturally improve as you gain more experience.\n",
    "1. Infuse domain knowledge\n",
    "2. Create interactive features\n",
    "3. Combine sparse classes\n",
    "4. Add dummy variables\n",
    "5. Remove unused features\n",
    "\n",
    "In our case, since there is not much domain knowledge about the dataset, we are restricted in our application of feature engineering. The only feature engineering that I have applied is multiplying the two features which were correlated to create a new column named main title tfidf"
   ]
  },
  {
   "cell_type": "code",
   "execution_count": 68,
   "metadata": {},
   "outputs": [],
   "source": [
    "# From the correlation graph, we observed that title_proximity_tfidf and main_query_tfidf are quite correlated, \n",
    "# lets merge them and get a single feature by multiplying both of them\n",
    "\n",
    "df['main_title_tfidf'] = df['title_proximity_tfidf']*df['main_query_tfidf']"
   ]
  },
  {
   "cell_type": "code",
   "execution_count": 69,
   "metadata": {},
   "outputs": [],
   "source": [
    "df = df.drop(['title_proximity_tfidf','main_query_tfidf'], axis=1)"
   ]
  },
  {
   "cell_type": "markdown",
   "metadata": {},
   "source": [
    "### 5. Modeling"
   ]
  },
  {
   "cell_type": "markdown",
   "metadata": {},
   "source": [
    "#### Splitting the dataset into training and testing"
   ]
  },
  {
   "cell_type": "code",
   "execution_count": 70,
   "metadata": {},
   "outputs": [],
   "source": [
    "# Splitting the dataset by date\n",
    "train = df.loc[df['search_date_pacific']<'2018-01-27']\n",
    "test = df.loc[df['search_date_pacific'] == '2018-01-27']"
   ]
  },
  {
   "cell_type": "code",
   "execution_count": 71,
   "metadata": {},
   "outputs": [],
   "source": [
    "# Drop the unnecessary columns\n",
    "train.drop(['search_date_pacific','class_id'],axis=1,inplace = True)\n",
    "test.drop(['search_date_pacific','class_id'],axis=1,inplace = True)"
   ]
  },
  {
   "cell_type": "code",
   "execution_count": 72,
   "metadata": {},
   "outputs": [],
   "source": [
    "# Drop irrelevant features\n",
    "X = df.drop(['search_date_pacific','class_id','apply'],axis=1)\n",
    "y = df['apply']"
   ]
  },
  {
   "cell_type": "code",
   "execution_count": 73,
   "metadata": {},
   "outputs": [],
   "source": [
    "# Reset the index\n",
    "X = X.reset_index(drop='index')\n",
    "y = y.reset_index(drop='index')"
   ]
  },
  {
   "cell_type": "code",
   "execution_count": 74,
   "metadata": {},
   "outputs": [],
   "source": [
    "X_train = train.drop(['apply'],axis=1)\n",
    "y_train = train['apply']\n",
    "X_test = test.drop(['apply'],axis=1)\n",
    "y_test = test['apply']"
   ]
  },
  {
   "cell_type": "code",
   "execution_count": 75,
   "metadata": {},
   "outputs": [],
   "source": [
    "# Define a function to plot confusion matrix\n",
    "\n",
    "def plot_confusion_matrix(cm, classes,\n",
    "                          normalize=False,\n",
    "                          title='Confusion matrix',\n",
    "                          cmap=plt.cm.Blues):\n",
    "    \"\"\"\n",
    "    This function prints and plots the confusion matrix.\n",
    "    Normalization can be applied by setting `normalize=True`\n",
    "    \"\"\"\n",
    "    plt.figure()\n",
    "    plt.imshow(cm, interpolation='nearest', cmap=cmap)\n",
    "    plt.title(title)\n",
    "    plt.colorbar()\n",
    "    tick_marks = np.arange(len(classes))\n",
    "    plt.xticks(tick_marks, classes, rotation=0)\n",
    "    plt.yticks(tick_marks, classes)\n",
    "\n",
    "    thresh = cm.max() / 2.\n",
    "    for i, j in itertools.product(range(cm.shape[0]), range(cm.shape[1])):\n",
    "        plt.text(j, i, cm[i, j],\n",
    "                 horizontalalignment=\"center\",\n",
    "                 color=\"white\" if cm[i, j] > thresh else \"black\")\n",
    "\n",
    "    plt.tight_layout()\n",
    "    plt.ylabel('True label')\n",
    "    plt.xlabel('Predicted label')\n",
    "    plt.show()"
   ]
  },
  {
   "cell_type": "code",
   "execution_count": 76,
   "metadata": {},
   "outputs": [],
   "source": [
    "# Define a function which will be used to get the important parameters like AUC, Classification report\n",
    "\n",
    "def report(test_set, predictions,labels,title):\n",
    "    print('F1 score is:', f1_score(test_set,predictions))\n",
    "    print(\"AUC-ROC is: %3.2f\" % (roc_auc_score(test_set, predictions)))\n",
    "    plot_confusion_matrix(confusion_matrix(test_set, predictions),labels,title)\n",
    "    \n",
    "    #plot the curve\n",
    "    fpr, tpr, threshold = roc_curve(test_set,predictions)\n",
    "    auc = roc_auc_score(test_set,predictions)\n",
    "    fig, ax = plt.subplots(figsize=(6,6))\n",
    "    ax.set_title('Receiver Operating Characteristic')\n",
    "    plt.plot(fpr, tpr, 'b',label='Model - AUC = %0.3f'% auc)\n",
    "    ax.legend(loc='lower right')\n",
    "    plt.plot([0,1],[0,1],'r--', label='Chance')\n",
    "    ax.legend()\n",
    "    ax.set_xlim([-0.1,1.0])\n",
    "    ax.set_ylim([-0.1,1.01])\n",
    "    ax.set_ylabel('True Positive Rate')\n",
    "    ax.set_xlabel('False Positive Rate')\n",
    "    plt.show()"
   ]
  },
  {
   "cell_type": "markdown",
   "metadata": {},
   "source": [
    "## Hyperparameter tuning and CV using Bayesian Optimizer"
   ]
  },
  {
   "cell_type": "markdown",
   "metadata": {},
   "source": [
    "Search for parameters of machine learning models that result in best cross-validation performance is necessary in almost all practical cases to get a model with best generalization estimate. A standard approach in scikit-learn is using GridSearchCV class, which takes a set of values for every parameter to try, and simply enumerates all combinations of parameter values. The complexity of such search grows exponentially with the addition of new parameters. A more scalable approach is using RandomizedSearchCV, which however does not take advantage of the structure of a search space.\n",
    "\n",
    "Scikit-optimize provides a drop-in replacement for GridSearchCV, which utilizes Bayesian Optimization where a predictive model referred to as \"surrogate\" is used to model the search space and utilized to arrive at good parameter values combination as soon as possible."
   ]
  },
  {
   "cell_type": "code",
   "execution_count": 77,
   "metadata": {},
   "outputs": [],
   "source": [
    "# Define a function to print the status during bayesian hyperparameter search\n",
    "\n",
    "def status_print(optim_result):\n",
    "    \"\"\"Status callback durring bayesian hyperparameter search\"\"\"\n",
    "    \n",
    "    # Get all the models tested so far in DataFrame format\n",
    "    all_models = pd.DataFrame(bayes_cv_tuner.cv_results_)    \n",
    "    \n",
    "    # Get current parameters and the best parameters    \n",
    "    best_params = pd.Series(bayes_cv_tuner.best_params_)\n",
    "    print('Model #{}\\nBest ROC-AUC: {}\\nBest params: {}\\n'.format(\n",
    "        len(all_models),\n",
    "        np.round(bayes_cv_tuner.best_score_, 4),\n",
    "        bayes_cv_tuner.best_params_\n",
    "    ))\n",
    "\n"
   ]
  },
  {
   "cell_type": "markdown",
   "metadata": {},
   "source": [
    "### A.  XGBoost "
   ]
  },
  {
   "cell_type": "code",
   "execution_count": 30,
   "metadata": {},
   "outputs": [],
   "source": [
    "# SETTINGS - CHANGE THESE TO GET SOMETHING MEANINGFUL\n",
    "ITERATIONS = 10\n",
    "TRAINING_SIZE = 100000 \n",
    "TEST_SIZE = 25000\n",
    "\n",
    "\n",
    "# Classifier\n",
    "bayes_cv_tuner = BayesSearchCV(\n",
    "    estimator = xgb.XGBClassifier(\n",
    "        n_jobs = 1,\n",
    "        objective = 'binary:logistic',\n",
    "        eval_metric = 'auc',\n",
    "        silent=1,\n",
    "        tree_method='approx'\n",
    "    ),\n",
    "    search_spaces = {\n",
    "        'learning_rate': (0.01, 1.0, 'log-uniform'),\n",
    "        'min_child_weight': (0, 10),\n",
    "        'max_depth': (0, 50),\n",
    "        'max_delta_step': (0, 20),\n",
    "        'subsample': (0.01, 1.0, 'uniform'),\n",
    "        'colsample_bytree': (0.01, 1.0, 'uniform'),\n",
    "        'colsample_bylevel': (0.01, 1.0, 'uniform'),\n",
    "        'reg_lambda': (1e-9, 1000, 'log-uniform'),\n",
    "        'reg_alpha': (1e-9, 1.0, 'log-uniform'),\n",
    "        'gamma': (1e-9, 0.5, 'log-uniform'),\n",
    "        'min_child_weight': (0, 5),\n",
    "        'n_estimators': (50, 100),\n",
    "        'scale_pos_weight': (1e-6, 500, 'log-uniform')\n",
    "    },    \n",
    "    scoring = 'roc_auc',\n",
    "    cv = StratifiedKFold(\n",
    "        n_splits=3,\n",
    "        shuffle=True,\n",
    "        random_state=42\n",
    "    ),\n",
    "    n_jobs = 3,\n",
    "    n_iter = ITERATIONS,   \n",
    "    verbose = 0,\n",
    "    refit = True,\n",
    "    random_state = 42\n",
    ")\n"
   ]
  },
  {
   "cell_type": "code",
   "execution_count": 31,
   "metadata": {},
   "outputs": [
    {
     "name": "stdout",
     "output_type": "stream",
     "text": [
      "Model #1\n",
      "Best ROC-AUC: 0.5705\n",
      "Best params: {'colsample_bylevel': 0.4160029192647807, 'colsample_bytree': 0.7304484857455519, 'gamma': 0.13031389926541354, 'learning_rate': 0.042815319280763466, 'max_delta_step': 13, 'max_depth': 21, 'min_child_weight': 2, 'n_estimators': 87, 'reg_alpha': 5.497557739289786e-07, 'reg_lambda': 0.05936070635912049, 'scale_pos_weight': 0.060830282487222144, 'subsample': 0.13556548021189216}\n",
      "\n",
      "Model #2\n",
      "Best ROC-AUC: 0.5764\n",
      "Best params: {'colsample_bylevel': 0.8390144719977516, 'colsample_bytree': 0.8844821246070537, 'gamma': 4.358684608480795e-07, 'learning_rate': 0.7988179462781242, 'max_delta_step': 17, 'max_depth': 3, 'min_child_weight': 1, 'n_estimators': 68, 'reg_alpha': 0.0005266983003701547, 'reg_lambda': 276.5424475574225, 'scale_pos_weight': 0.3016410771843142, 'subsample': 0.9923710598637134}\n",
      "\n",
      "Model #3\n",
      "Best ROC-AUC: 0.5764\n",
      "Best params: {'colsample_bylevel': 0.8390144719977516, 'colsample_bytree': 0.8844821246070537, 'gamma': 4.358684608480795e-07, 'learning_rate': 0.7988179462781242, 'max_delta_step': 17, 'max_depth': 3, 'min_child_weight': 1, 'n_estimators': 68, 'reg_alpha': 0.0005266983003701547, 'reg_lambda': 276.5424475574225, 'scale_pos_weight': 0.3016410771843142, 'subsample': 0.9923710598637134}\n",
      "\n",
      "Model #4\n",
      "Best ROC-AUC: 0.5764\n",
      "Best params: {'colsample_bylevel': 0.8390144719977516, 'colsample_bytree': 0.8844821246070537, 'gamma': 4.358684608480795e-07, 'learning_rate': 0.7988179462781242, 'max_delta_step': 17, 'max_depth': 3, 'min_child_weight': 1, 'n_estimators': 68, 'reg_alpha': 0.0005266983003701547, 'reg_lambda': 276.5424475574225, 'scale_pos_weight': 0.3016410771843142, 'subsample': 0.9923710598637134}\n",
      "\n",
      "Model #5\n",
      "Best ROC-AUC: 0.5764\n",
      "Best params: {'colsample_bylevel': 0.8390144719977516, 'colsample_bytree': 0.8844821246070537, 'gamma': 4.358684608480795e-07, 'learning_rate': 0.7988179462781242, 'max_delta_step': 17, 'max_depth': 3, 'min_child_weight': 1, 'n_estimators': 68, 'reg_alpha': 0.0005266983003701547, 'reg_lambda': 276.5424475574225, 'scale_pos_weight': 0.3016410771843142, 'subsample': 0.9923710598637134}\n",
      "\n",
      "Model #6\n",
      "Best ROC-AUC: 0.5764\n",
      "Best params: {'colsample_bylevel': 0.8390144719977516, 'colsample_bytree': 0.8844821246070537, 'gamma': 4.358684608480795e-07, 'learning_rate': 0.7988179462781242, 'max_delta_step': 17, 'max_depth': 3, 'min_child_weight': 1, 'n_estimators': 68, 'reg_alpha': 0.0005266983003701547, 'reg_lambda': 276.5424475574225, 'scale_pos_weight': 0.3016410771843142, 'subsample': 0.9923710598637134}\n",
      "\n",
      "Model #7\n",
      "Best ROC-AUC: 0.5764\n",
      "Best params: {'colsample_bylevel': 0.8390144719977516, 'colsample_bytree': 0.8844821246070537, 'gamma': 4.358684608480795e-07, 'learning_rate': 0.7988179462781242, 'max_delta_step': 17, 'max_depth': 3, 'min_child_weight': 1, 'n_estimators': 68, 'reg_alpha': 0.0005266983003701547, 'reg_lambda': 276.5424475574225, 'scale_pos_weight': 0.3016410771843142, 'subsample': 0.9923710598637134}\n",
      "\n",
      "Model #8\n",
      "Best ROC-AUC: 0.5764\n",
      "Best params: {'colsample_bylevel': 0.8390144719977516, 'colsample_bytree': 0.8844821246070537, 'gamma': 4.358684608480795e-07, 'learning_rate': 0.7988179462781242, 'max_delta_step': 17, 'max_depth': 3, 'min_child_weight': 1, 'n_estimators': 68, 'reg_alpha': 0.0005266983003701547, 'reg_lambda': 276.5424475574225, 'scale_pos_weight': 0.3016410771843142, 'subsample': 0.9923710598637134}\n",
      "\n",
      "Model #9\n",
      "Best ROC-AUC: 0.5764\n",
      "Best params: {'colsample_bylevel': 0.8390144719977516, 'colsample_bytree': 0.8844821246070537, 'gamma': 4.358684608480795e-07, 'learning_rate': 0.7988179462781242, 'max_delta_step': 17, 'max_depth': 3, 'min_child_weight': 1, 'n_estimators': 68, 'reg_alpha': 0.0005266983003701547, 'reg_lambda': 276.5424475574225, 'scale_pos_weight': 0.3016410771843142, 'subsample': 0.9923710598637134}\n",
      "\n",
      "Model #10\n",
      "Best ROC-AUC: 0.5764\n",
      "Best params: {'colsample_bylevel': 0.8390144719977516, 'colsample_bytree': 0.8844821246070537, 'gamma': 4.358684608480795e-07, 'learning_rate': 0.7988179462781242, 'max_delta_step': 17, 'max_depth': 3, 'min_child_weight': 1, 'n_estimators': 68, 'reg_alpha': 0.0005266983003701547, 'reg_lambda': 276.5424475574225, 'scale_pos_weight': 0.3016410771843142, 'subsample': 0.9923710598637134}\n",
      "\n"
     ]
    }
   ],
   "source": [
    "result = bayes_cv_tuner.fit(X, y, callback=status_print)"
   ]
  },
  {
   "cell_type": "markdown",
   "metadata": {},
   "source": [
    "#### Use the tuned parameters to make the predictions\n",
    "\n",
    "#### Note: For the predictions, because we are measuring ROC AUC and not accuracy, we have the model predict probabilities and not hard binary values."
   ]
  },
  {
   "cell_type": "code",
   "execution_count": 93,
   "metadata": {},
   "outputs": [
    {
     "name": "stdout",
     "output_type": "stream",
     "text": [
      "The baseline AUC score on the test set is 0.5819.\n"
     ]
    }
   ],
   "source": [
    "xgb = XGBClassifier(colsample_bylevel= 0.8390144719977516, colsample_bytree= 0.8844821246070537, \n",
    "                    gamma= 4.358684608480795e-07, learning_rate= 0.7988179462781242, max_delta_step= 17, \n",
    "                    max_depth= 3, min_child_weight= 1, n_estimators= 68, reg_alpha= 0.0005266983003701547, \n",
    "                    reg_lambda= 276.5424475574225, scale_pos_weight= 0.3016410771843142, subsample= 0.9923710598637134)\n",
    "\n",
    "xgb.fit(X_train, y_train)\n",
    "preds_xgb = xgb.predict_proba(X_test)[:, 1]\n",
    "labels = ['No Apply', 'Apply']\n",
    "xgb_roc_auc = roc_auc_score(y_test, preds_xgb)\n",
    "\n",
    "print('The baseline AUC score on the test set is {:.4f}.'.format(xgb_roc_auc))"
   ]
  },
  {
   "cell_type": "markdown",
   "metadata": {},
   "source": [
    "### B. Random Forest"
   ]
  },
  {
   "cell_type": "code",
   "execution_count": 79,
   "metadata": {},
   "outputs": [],
   "source": [
    "# ITERATIONS = 10 # 1000\n",
    "# TRAINING_SIZE = 100000 # 20000000\n",
    "# TEST_SIZE = 25000\n",
    "# # Classifier\n",
    "# bayes_cv_tuner = BayesSearchCV(\n",
    "#     estimator = RandomForestClassifier(\n",
    "#         n_jobs = -1\n",
    "#     ),\n",
    "#     search_spaces = {\n",
    "#     'min_samples_split': [3, 5, 8, 10, 20], \n",
    "#     'n_estimators' : [100, 500],\n",
    "#     'max_depth': [3, 5, 8, 10, 15],\n",
    "#     'max_features': [3, 5, 6]\n",
    "# },    \n",
    "#     scoring = 'roc_auc',\n",
    "#     cv = StratifiedKFold(\n",
    "#         n_splits=3,\n",
    "#         shuffle=True,\n",
    "#         random_state=42\n",
    "#     ),\n",
    "#     n_jobs = 3,\n",
    "#     n_iter = ITERATIONS,   \n",
    "#     verbose = 0,\n",
    "#     refit = True,\n",
    "#     random_state = 42\n",
    "# )"
   ]
  },
  {
   "cell_type": "code",
   "execution_count": 80,
   "metadata": {},
   "outputs": [],
   "source": [
    "# result = bayes_cv_tuner.fit(X, y, callback=status_print)"
   ]
  },
  {
   "cell_type": "code",
   "execution_count": 81,
   "metadata": {},
   "outputs": [],
   "source": [
    "# rf = RandomForestClassifier(\n",
    "#     n_estimators=421, \n",
    "#     max_depth=15,\n",
    "#     max_features=3,\n",
    "#     min_samples_split=8, \n",
    "#     class_weight=\"balanced\",\n",
    "#     bootstrap=True,\n",
    "#     criterion='entropy',\n",
    "#     random_state=100\n",
    "#     )\n",
    "\n",
    "# rf.fit(X_train, y_train)\n",
    "# preds_rf = rf.predict_proba(X_test)[:,1]\n",
    "# #labels = ['No Apply', 'Apply']\n",
    "# #report(y_test, preds_rf,labels, 'Confusion Matrix')\n",
    "# auc = roc_auc_score(y_test, preds_rf)\n",
    "\n",
    "# print('The baseline score on the test set is {:.4f}.'.format(auc))"
   ]
  },
  {
   "cell_type": "markdown",
   "metadata": {},
   "source": [
    "### C. LightGBM"
   ]
  },
  {
   "cell_type": "code",
   "execution_count": 82,
   "metadata": {},
   "outputs": [],
   "source": [
    "# SETTINGS - CHANGE THESE TO GET SOMETHING MEANINGFUL\n",
    "ITERATIONS = 10\n",
    "TRAINING_SIZE = 100000 \n",
    "TEST_SIZE = 25000\n",
    "\n",
    "\n",
    "# Classifier\n",
    "bayes_cv_tuner = BayesSearchCV(\n",
    "    estimator = lgb.LGBMClassifier(\n",
    "        n_jobs = 1,\n",
    "        objective = 'binary',\n",
    "        eval_metric = 'auc',\n",
    "        silent=1,\n",
    "        tree_method='approx'\n",
    "    ),\n",
    "    search_spaces = {\n",
    "        'learning_rate': (0.01, 1.0, 'log-uniform'),\n",
    "        'min_child_weight': (0, 10),\n",
    "        'max_depth': (0, 50),\n",
    "        'subsample': (0.01, 1.0, 'uniform'),\n",
    "        'colsample_bytree': (0.01, 1.0, 'uniform'),\n",
    "        'reg_lambda': (1e-9, 1000, 'log-uniform'),\n",
    "        'reg_alpha': (1e-9, 1.0, 'log-uniform'),\n",
    "        'min_child_weight': (0, 5),\n",
    "        'n_estimators': (50, 100)\n",
    "    },    \n",
    "    scoring = 'roc_auc',\n",
    "    cv = StratifiedKFold(\n",
    "        n_splits=3,\n",
    "        shuffle=True,\n",
    "        random_state=42\n",
    "    ),\n",
    "    n_jobs = 3,\n",
    "    n_iter = ITERATIONS,   \n",
    "    verbose = 0,\n",
    "    refit = True,\n",
    "    random_state = 42\n",
    ")\n"
   ]
  },
  {
   "cell_type": "code",
   "execution_count": 83,
   "metadata": {},
   "outputs": [
    {
     "name": "stdout",
     "output_type": "stream",
     "text": [
      "Model #1\n",
      "Best ROC-AUC: 0.5744\n",
      "Best params: {'colsample_bytree': 0.4160029192647807, 'learning_rate': 0.28539836866041823, 'max_depth': 47, 'min_child_weight': 2, 'n_estimators': 84, 'reg_alpha': 5.3341803151229125e-06, 'reg_lambda': 1.626207721332136e-05, 'subsample': 0.7421091918485163}\n",
      "\n",
      "Model #2\n",
      "Best ROC-AUC: 0.5744\n",
      "Best params: {'colsample_bytree': 0.4160029192647807, 'learning_rate': 0.28539836866041823, 'max_depth': 47, 'min_child_weight': 2, 'n_estimators': 84, 'reg_alpha': 5.3341803151229125e-06, 'reg_lambda': 1.626207721332136e-05, 'subsample': 0.7421091918485163}\n",
      "\n",
      "Model #3\n",
      "Best ROC-AUC: 0.5744\n",
      "Best params: {'colsample_bytree': 0.4160029192647807, 'learning_rate': 0.28539836866041823, 'max_depth': 47, 'min_child_weight': 2, 'n_estimators': 84, 'reg_alpha': 5.3341803151229125e-06, 'reg_lambda': 1.626207721332136e-05, 'subsample': 0.7421091918485163}\n",
      "\n",
      "Model #4\n",
      "Best ROC-AUC: 0.5749\n",
      "Best params: {'colsample_bytree': 0.8142720284737898, 'learning_rate': 0.022066991249460103, 'max_depth': 30, 'min_child_weight': 4, 'n_estimators': 76, 'reg_alpha': 7.2292851109505475e-09, 'reg_lambda': 1.173833214467059, 'subsample': 0.8739040497768427}\n",
      "\n",
      "Model #5\n",
      "Best ROC-AUC: 0.5772\n",
      "Best params: {'colsample_bytree': 0.8015579071911014, 'learning_rate': 0.07517239253342656, 'max_depth': 26, 'min_child_weight': 4, 'n_estimators': 95, 'reg_alpha': 0.002839751649223172, 'reg_lambda': 0.0001230656555713626, 'subsample': 0.653781260730285}\n",
      "\n",
      "Model #6\n",
      "Best ROC-AUC: 0.5772\n",
      "Best params: {'colsample_bytree': 0.8015579071911014, 'learning_rate': 0.07517239253342656, 'max_depth': 26, 'min_child_weight': 4, 'n_estimators': 95, 'reg_alpha': 0.002839751649223172, 'reg_lambda': 0.0001230656555713626, 'subsample': 0.653781260730285}\n",
      "\n",
      "Model #7\n",
      "Best ROC-AUC: 0.5772\n",
      "Best params: {'colsample_bytree': 0.8015579071911014, 'learning_rate': 0.07517239253342656, 'max_depth': 26, 'min_child_weight': 4, 'n_estimators': 95, 'reg_alpha': 0.002839751649223172, 'reg_lambda': 0.0001230656555713626, 'subsample': 0.653781260730285}\n",
      "\n",
      "Model #8\n",
      "Best ROC-AUC: 0.5772\n",
      "Best params: {'colsample_bytree': 0.8015579071911014, 'learning_rate': 0.07517239253342656, 'max_depth': 26, 'min_child_weight': 4, 'n_estimators': 95, 'reg_alpha': 0.002839751649223172, 'reg_lambda': 0.0001230656555713626, 'subsample': 0.653781260730285}\n",
      "\n",
      "Model #9\n",
      "Best ROC-AUC: 0.5772\n",
      "Best params: {'colsample_bytree': 0.8015579071911014, 'learning_rate': 0.07517239253342656, 'max_depth': 26, 'min_child_weight': 4, 'n_estimators': 95, 'reg_alpha': 0.002839751649223172, 'reg_lambda': 0.0001230656555713626, 'subsample': 0.653781260730285}\n",
      "\n",
      "Model #10\n",
      "Best ROC-AUC: 0.5772\n",
      "Best params: {'colsample_bytree': 0.8015579071911014, 'learning_rate': 0.07517239253342656, 'max_depth': 26, 'min_child_weight': 4, 'n_estimators': 95, 'reg_alpha': 0.002839751649223172, 'reg_lambda': 0.0001230656555713626, 'subsample': 0.653781260730285}\n",
      "\n"
     ]
    }
   ],
   "source": [
    "result = bayes_cv_tuner.fit(X, y, callback=status_print)"
   ]
  },
  {
   "cell_type": "code",
   "execution_count": 94,
   "metadata": {},
   "outputs": [
    {
     "name": "stdout",
     "output_type": "stream",
     "text": [
      "The baseline AUC score on the test set is 0.5819.\n"
     ]
    }
   ],
   "source": [
    "Lgb = lgb.LGBMClassifier(colsample_bytree=0.8015579071911014, learning_rate=0.07517239253342656, \n",
    "                           max_depth=26, min_child_weight=4, n_estimators=95, reg_alpha=0.002839751649223172, \n",
    "                           reg_lambda=0.0001230656555713626, subsample=0.653781260730285)\n",
    "\n",
    "Lgb.fit(X_train, y_train)\n",
    "preds_lgb = Lgb.predict_proba(X_test)[:, 1]\n",
    "labels = ['No Apply', 'Apply']\n",
    "lgb_roc_auc = roc_auc_score(y_test, preds_xgb)\n",
    "\n",
    "print('The baseline AUC score on the test set is {:.4f}.'.format(lgb_roc_auc))\n"
   ]
  },
  {
   "cell_type": "markdown",
   "metadata": {},
   "source": [
    "## Applying Stacking "
   ]
  },
  {
   "cell_type": "code",
   "execution_count": 85,
   "metadata": {},
   "outputs": [],
   "source": [
    "eclf = VotingClassifier(estimators=[('xgb',xgb),('lgb',Lgb)], voting='soft', weights=[1,1])"
   ]
  },
  {
   "cell_type": "code",
   "execution_count": 86,
   "metadata": {},
   "outputs": [
    {
     "data": {
      "text/plain": [
       "VotingClassifier(estimators=[('xgb', XGBClassifier(base_score=0.5, booster='gbtree',\n",
       "       colsample_bylevel=0.8390144719977516,\n",
       "       colsample_bytree=0.8844821246070537, gamma=4.358684608480795e-07,\n",
       "       learning_rate=0.7988179462781242, max_delta_step=17, max_depth=3,\n",
       "       min_child_weight=1, missing=None, ...ent=True,\n",
       "        subsample=0.653781260730285, subsample_for_bin=200000,\n",
       "        subsample_freq=0))],\n",
       "         flatten_transform=None, n_jobs=None, voting='soft',\n",
       "         weights=[1, 1])"
      ]
     },
     "execution_count": 86,
     "metadata": {},
     "output_type": "execute_result"
    }
   ],
   "source": [
    "eclf.fit(X_train, y_train)"
   ]
  },
  {
   "cell_type": "code",
   "execution_count": 90,
   "metadata": {},
   "outputs": [
    {
     "name": "stdout",
     "output_type": "stream",
     "text": [
      "The baseline AUC score on the test set is 0.5848.\n"
     ]
    }
   ],
   "source": [
    "preds_eclf = eclf.predict_proba(X_test)[:,1]\n",
    "\n",
    "eclf_roc_auc = roc_auc_score(y_test, preds_eclf)\n",
    "\n",
    "print('The baseline AUC score on the test set is {:.4f}.'.format(eclf_roc_auc))\n"
   ]
  },
  {
   "cell_type": "code",
   "execution_count": 95,
   "metadata": {},
   "outputs": [
    {
     "data": {
      "image/png": "[encoded data removed]",
      "text/plain": [
       "<Figure size 576x360 with 1 Axes>"
      ]
     },
     "metadata": {},
     "output_type": "display_data"
    }
   ],
   "source": [
    "from sklearn.metrics import roc_curve\n",
    "\n",
    "lgb_fpr, lgb_tpr, lgb_thresholds = roc_curve(y_test, Lgb.predict_proba(X_test)[:,1])\n",
    "xgb_fpr, xgb_tpr, xgb_thresholds = roc_curve(y_test, xgb.predict_proba(X_test)[:,1])\n",
    "eclf_fpr, eclf_tpr, eclf_thresholds = roc_curve(y_test, eclf.predict_proba(X_test)[:,1])\n",
    "\n",
    "\n",
    "\n",
    "plt.figure(figsize=(8,5))\n",
    "\n",
    "\n",
    "# Plot LGB Classifier ROC\n",
    "plt.plot(lgb_fpr, lgb_tpr, label='LGB (area = %0.4f)' % lgb_roc_auc)\n",
    "\n",
    "# Plot XGB classifier ROC\n",
    "plt.plot(xgb_fpr, xgb_tpr, label='XGB (area = %0.4f)' % xgb_roc_auc)\n",
    "\n",
    "# Plot Ensemble classifier ROC\n",
    "plt.plot(eclf_fpr, eclf_tpr, label='Ensemble (area = %0.4f)' % eclf_roc_auc)\n",
    "\n",
    "\n",
    "\n",
    "# Plot Base Rate ROC\n",
    "plt.plot([0,1], [0,1],label='Base Rate' 'k--')\n",
    "\n",
    "plt.xlim([0.0, 1.0])\n",
    "plt.ylim([0.0, 1.05])\n",
    "plt.xlabel('False Positive Rate')\n",
    "plt.ylabel('True Positive Rate')\n",
    "plt.title('ROC Graph')\n",
    "plt.legend(loc=\"lower right\")\n",
    "plt.show()"
   ]
  },
  {
   "cell_type": "code",
   "execution_count": null,
   "metadata": {},
   "outputs": [],
   "source": []
  }
 ],
 "metadata": {
  "kernelspec": {
   "display_name": "Python 3",
   "language": "python",
   "name": "python3"
  },
  "language_info": {
   "codemirror_mode": {
    "name": "ipython",
    "version": 3
   },
   "file_extension": ".py",
   "mimetype": "text/x-python",
   "name": "python",
   "nbconvert_exporter": "python",
   "pygments_lexer": "ipython3",
   "version": "3.6.8"
  }
 },
 "nbformat": 4,
 "nbformat_minor": 2
}
